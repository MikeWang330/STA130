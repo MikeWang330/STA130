{
 "cells": [
  {
   "cell_type": "code",
   "execution_count": 3,
   "id": "56274ee6",
   "metadata": {},
   "outputs": [],
   "source": [
    "import numpy as np\n",
    "import plotly.graph_objects as go\n",
    "import plotly.io as pio\n",
    "import pandas as pd\n",
    "\n",
    "df_preds = pd.read_csv('test_predictions.csv')\n",
    "# Prediction Probility \"Error\"\n",
    "\n",
    "df_indicators = pd.read_csv('country_indicators.csv')"
   ]
  },
  {
   "cell_type": "code",
   "execution_count": 4,
   "id": "db0486e7",
   "metadata": {
    "scrolled": false
   },
   "outputs": [
    {
     "data": {
      "text/html": [
       "<div>\n",
       "<style scoped>\n",
       "    .dataframe tbody tr th:only-of-type {\n",
       "        vertical-align: middle;\n",
       "    }\n",
       "\n",
       "    .dataframe tbody tr th {\n",
       "        vertical-align: top;\n",
       "    }\n",
       "\n",
       "    .dataframe thead th {\n",
       "        text-align: right;\n",
       "    }\n",
       "</style>\n",
       "<table border=\"1\" class=\"dataframe\">\n",
       "  <thead>\n",
       "    <tr style=\"text-align: right;\">\n",
       "      <th></th>\n",
       "      <th>yearmonth</th>\n",
       "      <th>fips</th>\n",
       "      <th>y_pred_transformer</th>\n",
       "      <th>y_pred_proba_transformer</th>\n",
       "      <th>y_true_transformer</th>\n",
       "      <th>y_pred_xgboost</th>\n",
       "      <th>y_pred_proba_xgboost</th>\n",
       "      <th>y_true_xgboost</th>\n",
       "      <th>y_pred_ffnn</th>\n",
       "      <th>y_pred_proba_ffnn</th>\n",
       "      <th>...</th>\n",
       "      <th>fsi_e3:_human_flight_and_brain_drain</th>\n",
       "      <th>fsi_e2:_economic_inequality</th>\n",
       "      <th>fsi_e1:_economy</th>\n",
       "      <th>fsi_p1:_state_legitimacy</th>\n",
       "      <th>fsi_p2:_public_services</th>\n",
       "      <th>fsi_p3:_human_rights</th>\n",
       "      <th>fsi_c1:_security_apparatus</th>\n",
       "      <th>fsi_c2:_factionalized_elites</th>\n",
       "      <th>fsi_x1:_external_intervention</th>\n",
       "      <th>fsi_category</th>\n",
       "    </tr>\n",
       "  </thead>\n",
       "  <tbody>\n",
       "    <tr>\n",
       "      <th>0</th>\n",
       "      <td>202211</td>\n",
       "      <td>FJ</td>\n",
       "      <td>False</td>\n",
       "      <td>0.183897</td>\n",
       "      <td>False</td>\n",
       "      <td>False</td>\n",
       "      <td>0.066500</td>\n",
       "      <td>False</td>\n",
       "      <td>False</td>\n",
       "      <td>0.409958</td>\n",
       "      <td>...</td>\n",
       "      <td>7.6</td>\n",
       "      <td>5.0</td>\n",
       "      <td>7.5</td>\n",
       "      <td>6.1</td>\n",
       "      <td>4.2</td>\n",
       "      <td>5.4</td>\n",
       "      <td>6.4</td>\n",
       "      <td>8.2</td>\n",
       "      <td>6.6</td>\n",
       "      <td>Warning</td>\n",
       "    </tr>\n",
       "    <tr>\n",
       "      <th>1</th>\n",
       "      <td>202212</td>\n",
       "      <td>FJ</td>\n",
       "      <td>False</td>\n",
       "      <td>0.267831</td>\n",
       "      <td>False</td>\n",
       "      <td>False</td>\n",
       "      <td>0.099643</td>\n",
       "      <td>False</td>\n",
       "      <td>False</td>\n",
       "      <td>0.406696</td>\n",
       "      <td>...</td>\n",
       "      <td>7.6</td>\n",
       "      <td>5.0</td>\n",
       "      <td>7.5</td>\n",
       "      <td>6.1</td>\n",
       "      <td>4.2</td>\n",
       "      <td>5.4</td>\n",
       "      <td>6.4</td>\n",
       "      <td>8.2</td>\n",
       "      <td>6.6</td>\n",
       "      <td>Warning</td>\n",
       "    </tr>\n",
       "    <tr>\n",
       "      <th>2</th>\n",
       "      <td>202211</td>\n",
       "      <td>TZ</td>\n",
       "      <td>False</td>\n",
       "      <td>0.482585</td>\n",
       "      <td>False</td>\n",
       "      <td>True</td>\n",
       "      <td>0.704086</td>\n",
       "      <td>True</td>\n",
       "      <td>True</td>\n",
       "      <td>0.545236</td>\n",
       "      <td>...</td>\n",
       "      <td>6.4</td>\n",
       "      <td>7.3</td>\n",
       "      <td>6.2</td>\n",
       "      <td>6.9</td>\n",
       "      <td>8.4</td>\n",
       "      <td>5.6</td>\n",
       "      <td>4.6</td>\n",
       "      <td>6.5</td>\n",
       "      <td>6.0</td>\n",
       "      <td>Warning</td>\n",
       "    </tr>\n",
       "    <tr>\n",
       "      <th>3</th>\n",
       "      <td>202212</td>\n",
       "      <td>TZ</td>\n",
       "      <td>False</td>\n",
       "      <td>0.187792</td>\n",
       "      <td>False</td>\n",
       "      <td>True</td>\n",
       "      <td>0.638444</td>\n",
       "      <td>True</td>\n",
       "      <td>True</td>\n",
       "      <td>0.534560</td>\n",
       "      <td>...</td>\n",
       "      <td>6.4</td>\n",
       "      <td>7.3</td>\n",
       "      <td>6.2</td>\n",
       "      <td>6.9</td>\n",
       "      <td>8.4</td>\n",
       "      <td>5.6</td>\n",
       "      <td>4.6</td>\n",
       "      <td>6.5</td>\n",
       "      <td>6.0</td>\n",
       "      <td>Warning</td>\n",
       "    </tr>\n",
       "    <tr>\n",
       "      <th>4</th>\n",
       "      <td>202301</td>\n",
       "      <td>TZ</td>\n",
       "      <td>True</td>\n",
       "      <td>0.539319</td>\n",
       "      <td>True</td>\n",
       "      <td>True</td>\n",
       "      <td>0.608380</td>\n",
       "      <td>False</td>\n",
       "      <td>True</td>\n",
       "      <td>0.538583</td>\n",
       "      <td>...</td>\n",
       "      <td>6.4</td>\n",
       "      <td>7.3</td>\n",
       "      <td>6.2</td>\n",
       "      <td>6.9</td>\n",
       "      <td>8.4</td>\n",
       "      <td>5.6</td>\n",
       "      <td>4.6</td>\n",
       "      <td>6.5</td>\n",
       "      <td>6.0</td>\n",
       "      <td>Warning</td>\n",
       "    </tr>\n",
       "    <tr>\n",
       "      <th>...</th>\n",
       "      <td>...</td>\n",
       "      <td>...</td>\n",
       "      <td>...</td>\n",
       "      <td>...</td>\n",
       "      <td>...</td>\n",
       "      <td>...</td>\n",
       "      <td>...</td>\n",
       "      <td>...</td>\n",
       "      <td>...</td>\n",
       "      <td>...</td>\n",
       "      <td>...</td>\n",
       "      <td>...</td>\n",
       "      <td>...</td>\n",
       "      <td>...</td>\n",
       "      <td>...</td>\n",
       "      <td>...</td>\n",
       "      <td>...</td>\n",
       "      <td>...</td>\n",
       "      <td>...</td>\n",
       "      <td>...</td>\n",
       "      <td>...</td>\n",
       "    </tr>\n",
       "    <tr>\n",
       "      <th>359</th>\n",
       "      <td>202211</td>\n",
       "      <td>MJ</td>\n",
       "      <td>False</td>\n",
       "      <td>0.182196</td>\n",
       "      <td>False</td>\n",
       "      <td>False</td>\n",
       "      <td>0.079453</td>\n",
       "      <td>False</td>\n",
       "      <td>False</td>\n",
       "      <td>0.291874</td>\n",
       "      <td>...</td>\n",
       "      <td>5.4</td>\n",
       "      <td>2.4</td>\n",
       "      <td>5.8</td>\n",
       "      <td>3.9</td>\n",
       "      <td>3.8</td>\n",
       "      <td>2.9</td>\n",
       "      <td>4.0</td>\n",
       "      <td>6.5</td>\n",
       "      <td>6.3</td>\n",
       "      <td>Stable</td>\n",
       "    </tr>\n",
       "    <tr>\n",
       "      <th>360</th>\n",
       "      <td>202212</td>\n",
       "      <td>MJ</td>\n",
       "      <td>False</td>\n",
       "      <td>0.203236</td>\n",
       "      <td>False</td>\n",
       "      <td>False</td>\n",
       "      <td>0.060189</td>\n",
       "      <td>False</td>\n",
       "      <td>False</td>\n",
       "      <td>0.300321</td>\n",
       "      <td>...</td>\n",
       "      <td>5.4</td>\n",
       "      <td>2.4</td>\n",
       "      <td>5.8</td>\n",
       "      <td>3.9</td>\n",
       "      <td>3.8</td>\n",
       "      <td>2.9</td>\n",
       "      <td>4.0</td>\n",
       "      <td>6.5</td>\n",
       "      <td>6.3</td>\n",
       "      <td>Stable</td>\n",
       "    </tr>\n",
       "    <tr>\n",
       "      <th>361</th>\n",
       "      <td>202211</td>\n",
       "      <td>TD</td>\n",
       "      <td>True</td>\n",
       "      <td>0.527107</td>\n",
       "      <td>False</td>\n",
       "      <td>True</td>\n",
       "      <td>0.697625</td>\n",
       "      <td>True</td>\n",
       "      <td>False</td>\n",
       "      <td>0.335496</td>\n",
       "      <td>...</td>\n",
       "      <td>6.8</td>\n",
       "      <td>4.7</td>\n",
       "      <td>3.9</td>\n",
       "      <td>3.5</td>\n",
       "      <td>4.3</td>\n",
       "      <td>3.5</td>\n",
       "      <td>7.3</td>\n",
       "      <td>5.6</td>\n",
       "      <td>3.3</td>\n",
       "      <td>Stable</td>\n",
       "    </tr>\n",
       "    <tr>\n",
       "      <th>362</th>\n",
       "      <td>202212</td>\n",
       "      <td>TD</td>\n",
       "      <td>True</td>\n",
       "      <td>0.555677</td>\n",
       "      <td>False</td>\n",
       "      <td>True</td>\n",
       "      <td>0.729246</td>\n",
       "      <td>False</td>\n",
       "      <td>False</td>\n",
       "      <td>0.324000</td>\n",
       "      <td>...</td>\n",
       "      <td>6.8</td>\n",
       "      <td>4.7</td>\n",
       "      <td>3.9</td>\n",
       "      <td>3.5</td>\n",
       "      <td>4.3</td>\n",
       "      <td>3.5</td>\n",
       "      <td>7.3</td>\n",
       "      <td>5.6</td>\n",
       "      <td>3.3</td>\n",
       "      <td>Stable</td>\n",
       "    </tr>\n",
       "    <tr>\n",
       "      <th>363</th>\n",
       "      <td>202301</td>\n",
       "      <td>TD</td>\n",
       "      <td>True</td>\n",
       "      <td>0.565700</td>\n",
       "      <td>True</td>\n",
       "      <td>True</td>\n",
       "      <td>0.591722</td>\n",
       "      <td>False</td>\n",
       "      <td>False</td>\n",
       "      <td>0.332455</td>\n",
       "      <td>...</td>\n",
       "      <td>6.8</td>\n",
       "      <td>4.7</td>\n",
       "      <td>3.9</td>\n",
       "      <td>3.5</td>\n",
       "      <td>4.3</td>\n",
       "      <td>3.5</td>\n",
       "      <td>7.3</td>\n",
       "      <td>5.6</td>\n",
       "      <td>3.3</td>\n",
       "      <td>Stable</td>\n",
       "    </tr>\n",
       "  </tbody>\n",
       "</table>\n",
       "<p>364 rows × 1343 columns</p>\n",
       "</div>"
      ],
      "text/plain": [
       "     yearmonth fips  y_pred_transformer  y_pred_proba_transformer  \\\n",
       "0       202211   FJ               False                  0.183897   \n",
       "1       202212   FJ               False                  0.267831   \n",
       "2       202211   TZ               False                  0.482585   \n",
       "3       202212   TZ               False                  0.187792   \n",
       "4       202301   TZ                True                  0.539319   \n",
       "..         ...  ...                 ...                       ...   \n",
       "359     202211   MJ               False                  0.182196   \n",
       "360     202212   MJ               False                  0.203236   \n",
       "361     202211   TD                True                  0.527107   \n",
       "362     202212   TD                True                  0.555677   \n",
       "363     202301   TD                True                  0.565700   \n",
       "\n",
       "     y_true_transformer  y_pred_xgboost  y_pred_proba_xgboost  y_true_xgboost  \\\n",
       "0                 False           False              0.066500           False   \n",
       "1                 False           False              0.099643           False   \n",
       "2                 False            True              0.704086            True   \n",
       "3                 False            True              0.638444            True   \n",
       "4                  True            True              0.608380           False   \n",
       "..                  ...             ...                   ...             ...   \n",
       "359               False           False              0.079453           False   \n",
       "360               False           False              0.060189           False   \n",
       "361               False            True              0.697625            True   \n",
       "362               False            True              0.729246           False   \n",
       "363                True            True              0.591722           False   \n",
       "\n",
       "     y_pred_ffnn  y_pred_proba_ffnn  ...  \\\n",
       "0          False           0.409958  ...   \n",
       "1          False           0.406696  ...   \n",
       "2           True           0.545236  ...   \n",
       "3           True           0.534560  ...   \n",
       "4           True           0.538583  ...   \n",
       "..           ...                ...  ...   \n",
       "359        False           0.291874  ...   \n",
       "360        False           0.300321  ...   \n",
       "361        False           0.335496  ...   \n",
       "362        False           0.324000  ...   \n",
       "363        False           0.332455  ...   \n",
       "\n",
       "     fsi_e3:_human_flight_and_brain_drain fsi_e2:_economic_inequality  \\\n",
       "0                                     7.6                         5.0   \n",
       "1                                     7.6                         5.0   \n",
       "2                                     6.4                         7.3   \n",
       "3                                     6.4                         7.3   \n",
       "4                                     6.4                         7.3   \n",
       "..                                    ...                         ...   \n",
       "359                                   5.4                         2.4   \n",
       "360                                   5.4                         2.4   \n",
       "361                                   6.8                         4.7   \n",
       "362                                   6.8                         4.7   \n",
       "363                                   6.8                         4.7   \n",
       "\n",
       "     fsi_e1:_economy  fsi_p1:_state_legitimacy  fsi_p2:_public_services  \\\n",
       "0                7.5                       6.1                      4.2   \n",
       "1                7.5                       6.1                      4.2   \n",
       "2                6.2                       6.9                      8.4   \n",
       "3                6.2                       6.9                      8.4   \n",
       "4                6.2                       6.9                      8.4   \n",
       "..               ...                       ...                      ...   \n",
       "359              5.8                       3.9                      3.8   \n",
       "360              5.8                       3.9                      3.8   \n",
       "361              3.9                       3.5                      4.3   \n",
       "362              3.9                       3.5                      4.3   \n",
       "363              3.9                       3.5                      4.3   \n",
       "\n",
       "     fsi_p3:_human_rights  fsi_c1:_security_apparatus  \\\n",
       "0                     5.4                         6.4   \n",
       "1                     5.4                         6.4   \n",
       "2                     5.6                         4.6   \n",
       "3                     5.6                         4.6   \n",
       "4                     5.6                         4.6   \n",
       "..                    ...                         ...   \n",
       "359                   2.9                         4.0   \n",
       "360                   2.9                         4.0   \n",
       "361                   3.5                         7.3   \n",
       "362                   3.5                         7.3   \n",
       "363                   3.5                         7.3   \n",
       "\n",
       "     fsi_c2:_factionalized_elites  fsi_x1:_external_intervention  fsi_category  \n",
       "0                             8.2                            6.6       Warning  \n",
       "1                             8.2                            6.6       Warning  \n",
       "2                             6.5                            6.0       Warning  \n",
       "3                             6.5                            6.0       Warning  \n",
       "4                             6.5                            6.0       Warning  \n",
       "..                            ...                            ...           ...  \n",
       "359                           6.5                            6.3        Stable  \n",
       "360                           6.5                            6.3        Stable  \n",
       "361                           5.6                            3.3        Stable  \n",
       "362                           5.6                            3.3        Stable  \n",
       "363                           5.6                            3.3        Stable  \n",
       "\n",
       "[364 rows x 1343 columns]"
      ]
     },
     "execution_count": 4,
     "metadata": {},
     "output_type": "execute_result"
    }
   ],
   "source": [
    "df = df_preds.merge(df_indicators, left_on='iso3', right_on='iso3', how='inner')\n",
    "df"
   ]
  },
  {
   "cell_type": "code",
   "execution_count": 14,
   "id": "14296c8f",
   "metadata": {},
   "outputs": [
    {
     "data": {
      "text/plain": [
       "Index(['fips', 'iso3', 'hdr_hdicode', 'hdr_region', 'wbi_income_group',\n",
       "       'wbi_lending_category', 'wbi_other_(emu_or_hipc)', 'fsi_category'],\n",
       "      dtype='object')"
      ]
     },
     "execution_count": 14,
     "metadata": {},
     "output_type": "execute_result"
    }
   ],
   "source": [
    "categorical_cols = df.select_dtypes(include=['category', 'object']).columns\n",
    "categorical_cols"
   ]
  },
  {
   "cell_type": "code",
   "execution_count": 7,
   "id": "a5065078",
   "metadata": {},
   "outputs": [],
   "source": [
    "df['error_transformer'] = np.abs(df.y_true_transformer-df.y_pred_proba_transformer)\n",
    "df['error_ffnn'] = np.abs(df.y_true_ffnn-df.y_pred_proba_ffnn)\n",
    "df['error_xgboost'] = np.abs(df.y_true_xgboost-df.y_pred_proba_xgboost)"
   ]
  },
  {
   "cell_type": "code",
   "execution_count": 8,
   "id": "264ae2bc",
   "metadata": {
    "scrolled": true
   },
   "outputs": [
    {
     "data": {
      "text/html": [
       "<div>\n",
       "<style scoped>\n",
       "    .dataframe tbody tr th:only-of-type {\n",
       "        vertical-align: middle;\n",
       "    }\n",
       "\n",
       "    .dataframe tbody tr th {\n",
       "        vertical-align: top;\n",
       "    }\n",
       "\n",
       "    .dataframe thead th {\n",
       "        text-align: right;\n",
       "    }\n",
       "</style>\n",
       "<table border=\"1\" class=\"dataframe\">\n",
       "  <thead>\n",
       "    <tr style=\"text-align: right;\">\n",
       "      <th></th>\n",
       "      <th>error_transformer</th>\n",
       "      <th>error_ffnn</th>\n",
       "      <th>error_xgboost</th>\n",
       "      <th>fsi_category_Alert</th>\n",
       "      <th>fsi_category_Stable</th>\n",
       "      <th>fsi_category_Sustainable</th>\n",
       "      <th>fsi_category_Warning</th>\n",
       "      <th>hdr_hdicode_High</th>\n",
       "      <th>hdr_hdicode_Low</th>\n",
       "      <th>hdr_hdicode_Medium</th>\n",
       "      <th>...</th>\n",
       "      <th>hdr_region_SSA</th>\n",
       "      <th>wbi_income_group_High income</th>\n",
       "      <th>wbi_income_group_Low income</th>\n",
       "      <th>wbi_income_group_Lower middle income</th>\n",
       "      <th>wbi_income_group_Upper middle income</th>\n",
       "      <th>wbi_lending_category_Blend</th>\n",
       "      <th>wbi_lending_category_IBRD</th>\n",
       "      <th>wbi_lending_category_IDA</th>\n",
       "      <th>wbi_other_(emu_or_hipc)_EMU</th>\n",
       "      <th>wbi_other_(emu_or_hipc)_HIPC</th>\n",
       "    </tr>\n",
       "  </thead>\n",
       "  <tbody>\n",
       "    <tr>\n",
       "      <th>0</th>\n",
       "      <td>0.183897</td>\n",
       "      <td>0.409958</td>\n",
       "      <td>0.066500</td>\n",
       "      <td>0</td>\n",
       "      <td>0</td>\n",
       "      <td>0</td>\n",
       "      <td>1</td>\n",
       "      <td>1</td>\n",
       "      <td>0</td>\n",
       "      <td>0</td>\n",
       "      <td>...</td>\n",
       "      <td>0</td>\n",
       "      <td>0</td>\n",
       "      <td>0</td>\n",
       "      <td>0</td>\n",
       "      <td>1</td>\n",
       "      <td>1</td>\n",
       "      <td>0</td>\n",
       "      <td>0</td>\n",
       "      <td>0</td>\n",
       "      <td>0</td>\n",
       "    </tr>\n",
       "    <tr>\n",
       "      <th>1</th>\n",
       "      <td>0.267831</td>\n",
       "      <td>0.406696</td>\n",
       "      <td>0.099643</td>\n",
       "      <td>0</td>\n",
       "      <td>0</td>\n",
       "      <td>0</td>\n",
       "      <td>1</td>\n",
       "      <td>1</td>\n",
       "      <td>0</td>\n",
       "      <td>0</td>\n",
       "      <td>...</td>\n",
       "      <td>0</td>\n",
       "      <td>0</td>\n",
       "      <td>0</td>\n",
       "      <td>0</td>\n",
       "      <td>1</td>\n",
       "      <td>1</td>\n",
       "      <td>0</td>\n",
       "      <td>0</td>\n",
       "      <td>0</td>\n",
       "      <td>0</td>\n",
       "    </tr>\n",
       "    <tr>\n",
       "      <th>2</th>\n",
       "      <td>0.482585</td>\n",
       "      <td>0.545236</td>\n",
       "      <td>0.295914</td>\n",
       "      <td>0</td>\n",
       "      <td>0</td>\n",
       "      <td>0</td>\n",
       "      <td>1</td>\n",
       "      <td>0</td>\n",
       "      <td>0</td>\n",
       "      <td>0</td>\n",
       "      <td>...</td>\n",
       "      <td>0</td>\n",
       "      <td>0</td>\n",
       "      <td>0</td>\n",
       "      <td>1</td>\n",
       "      <td>0</td>\n",
       "      <td>0</td>\n",
       "      <td>0</td>\n",
       "      <td>1</td>\n",
       "      <td>0</td>\n",
       "      <td>1</td>\n",
       "    </tr>\n",
       "    <tr>\n",
       "      <th>3</th>\n",
       "      <td>0.187792</td>\n",
       "      <td>0.534560</td>\n",
       "      <td>0.361556</td>\n",
       "      <td>0</td>\n",
       "      <td>0</td>\n",
       "      <td>0</td>\n",
       "      <td>1</td>\n",
       "      <td>0</td>\n",
       "      <td>0</td>\n",
       "      <td>0</td>\n",
       "      <td>...</td>\n",
       "      <td>0</td>\n",
       "      <td>0</td>\n",
       "      <td>0</td>\n",
       "      <td>1</td>\n",
       "      <td>0</td>\n",
       "      <td>0</td>\n",
       "      <td>0</td>\n",
       "      <td>1</td>\n",
       "      <td>0</td>\n",
       "      <td>1</td>\n",
       "    </tr>\n",
       "    <tr>\n",
       "      <th>4</th>\n",
       "      <td>0.460681</td>\n",
       "      <td>0.461417</td>\n",
       "      <td>0.608380</td>\n",
       "      <td>0</td>\n",
       "      <td>0</td>\n",
       "      <td>0</td>\n",
       "      <td>1</td>\n",
       "      <td>0</td>\n",
       "      <td>0</td>\n",
       "      <td>0</td>\n",
       "      <td>...</td>\n",
       "      <td>0</td>\n",
       "      <td>0</td>\n",
       "      <td>0</td>\n",
       "      <td>1</td>\n",
       "      <td>0</td>\n",
       "      <td>0</td>\n",
       "      <td>0</td>\n",
       "      <td>1</td>\n",
       "      <td>0</td>\n",
       "      <td>1</td>\n",
       "    </tr>\n",
       "    <tr>\n",
       "      <th>...</th>\n",
       "      <td>...</td>\n",
       "      <td>...</td>\n",
       "      <td>...</td>\n",
       "      <td>...</td>\n",
       "      <td>...</td>\n",
       "      <td>...</td>\n",
       "      <td>...</td>\n",
       "      <td>...</td>\n",
       "      <td>...</td>\n",
       "      <td>...</td>\n",
       "      <td>...</td>\n",
       "      <td>...</td>\n",
       "      <td>...</td>\n",
       "      <td>...</td>\n",
       "      <td>...</td>\n",
       "      <td>...</td>\n",
       "      <td>...</td>\n",
       "      <td>...</td>\n",
       "      <td>...</td>\n",
       "      <td>...</td>\n",
       "      <td>...</td>\n",
       "    </tr>\n",
       "    <tr>\n",
       "      <th>359</th>\n",
       "      <td>0.182196</td>\n",
       "      <td>0.291874</td>\n",
       "      <td>0.079453</td>\n",
       "      <td>0</td>\n",
       "      <td>1</td>\n",
       "      <td>0</td>\n",
       "      <td>0</td>\n",
       "      <td>0</td>\n",
       "      <td>0</td>\n",
       "      <td>0</td>\n",
       "      <td>...</td>\n",
       "      <td>0</td>\n",
       "      <td>0</td>\n",
       "      <td>0</td>\n",
       "      <td>0</td>\n",
       "      <td>1</td>\n",
       "      <td>0</td>\n",
       "      <td>1</td>\n",
       "      <td>0</td>\n",
       "      <td>0</td>\n",
       "      <td>0</td>\n",
       "    </tr>\n",
       "    <tr>\n",
       "      <th>360</th>\n",
       "      <td>0.203236</td>\n",
       "      <td>0.300321</td>\n",
       "      <td>0.060189</td>\n",
       "      <td>0</td>\n",
       "      <td>1</td>\n",
       "      <td>0</td>\n",
       "      <td>0</td>\n",
       "      <td>0</td>\n",
       "      <td>0</td>\n",
       "      <td>0</td>\n",
       "      <td>...</td>\n",
       "      <td>0</td>\n",
       "      <td>0</td>\n",
       "      <td>0</td>\n",
       "      <td>0</td>\n",
       "      <td>1</td>\n",
       "      <td>0</td>\n",
       "      <td>1</td>\n",
       "      <td>0</td>\n",
       "      <td>0</td>\n",
       "      <td>0</td>\n",
       "    </tr>\n",
       "    <tr>\n",
       "      <th>361</th>\n",
       "      <td>0.527107</td>\n",
       "      <td>0.335496</td>\n",
       "      <td>0.302375</td>\n",
       "      <td>0</td>\n",
       "      <td>1</td>\n",
       "      <td>0</td>\n",
       "      <td>0</td>\n",
       "      <td>0</td>\n",
       "      <td>0</td>\n",
       "      <td>0</td>\n",
       "      <td>...</td>\n",
       "      <td>0</td>\n",
       "      <td>1</td>\n",
       "      <td>0</td>\n",
       "      <td>0</td>\n",
       "      <td>0</td>\n",
       "      <td>0</td>\n",
       "      <td>1</td>\n",
       "      <td>0</td>\n",
       "      <td>0</td>\n",
       "      <td>0</td>\n",
       "    </tr>\n",
       "    <tr>\n",
       "      <th>362</th>\n",
       "      <td>0.555677</td>\n",
       "      <td>0.324000</td>\n",
       "      <td>0.729246</td>\n",
       "      <td>0</td>\n",
       "      <td>1</td>\n",
       "      <td>0</td>\n",
       "      <td>0</td>\n",
       "      <td>0</td>\n",
       "      <td>0</td>\n",
       "      <td>0</td>\n",
       "      <td>...</td>\n",
       "      <td>0</td>\n",
       "      <td>1</td>\n",
       "      <td>0</td>\n",
       "      <td>0</td>\n",
       "      <td>0</td>\n",
       "      <td>0</td>\n",
       "      <td>1</td>\n",
       "      <td>0</td>\n",
       "      <td>0</td>\n",
       "      <td>0</td>\n",
       "    </tr>\n",
       "    <tr>\n",
       "      <th>363</th>\n",
       "      <td>0.434300</td>\n",
       "      <td>0.667545</td>\n",
       "      <td>0.591722</td>\n",
       "      <td>0</td>\n",
       "      <td>1</td>\n",
       "      <td>0</td>\n",
       "      <td>0</td>\n",
       "      <td>0</td>\n",
       "      <td>0</td>\n",
       "      <td>0</td>\n",
       "      <td>...</td>\n",
       "      <td>0</td>\n",
       "      <td>1</td>\n",
       "      <td>0</td>\n",
       "      <td>0</td>\n",
       "      <td>0</td>\n",
       "      <td>0</td>\n",
       "      <td>1</td>\n",
       "      <td>0</td>\n",
       "      <td>0</td>\n",
       "      <td>0</td>\n",
       "    </tr>\n",
       "  </tbody>\n",
       "</table>\n",
       "<p>364 rows × 26 columns</p>\n",
       "</div>"
      ],
      "text/plain": [
       "     error_transformer  error_ffnn  error_xgboost  fsi_category_Alert  \\\n",
       "0             0.183897    0.409958       0.066500                   0   \n",
       "1             0.267831    0.406696       0.099643                   0   \n",
       "2             0.482585    0.545236       0.295914                   0   \n",
       "3             0.187792    0.534560       0.361556                   0   \n",
       "4             0.460681    0.461417       0.608380                   0   \n",
       "..                 ...         ...            ...                 ...   \n",
       "359           0.182196    0.291874       0.079453                   0   \n",
       "360           0.203236    0.300321       0.060189                   0   \n",
       "361           0.527107    0.335496       0.302375                   0   \n",
       "362           0.555677    0.324000       0.729246                   0   \n",
       "363           0.434300    0.667545       0.591722                   0   \n",
       "\n",
       "     fsi_category_Stable  fsi_category_Sustainable  fsi_category_Warning  \\\n",
       "0                      0                         0                     1   \n",
       "1                      0                         0                     1   \n",
       "2                      0                         0                     1   \n",
       "3                      0                         0                     1   \n",
       "4                      0                         0                     1   \n",
       "..                   ...                       ...                   ...   \n",
       "359                    1                         0                     0   \n",
       "360                    1                         0                     0   \n",
       "361                    1                         0                     0   \n",
       "362                    1                         0                     0   \n",
       "363                    1                         0                     0   \n",
       "\n",
       "     hdr_hdicode_High  hdr_hdicode_Low  hdr_hdicode_Medium  ...  \\\n",
       "0                   1                0                   0  ...   \n",
       "1                   1                0                   0  ...   \n",
       "2                   0                0                   0  ...   \n",
       "3                   0                0                   0  ...   \n",
       "4                   0                0                   0  ...   \n",
       "..                ...              ...                 ...  ...   \n",
       "359                 0                0                   0  ...   \n",
       "360                 0                0                   0  ...   \n",
       "361                 0                0                   0  ...   \n",
       "362                 0                0                   0  ...   \n",
       "363                 0                0                   0  ...   \n",
       "\n",
       "     hdr_region_SSA  wbi_income_group_High income  \\\n",
       "0                 0                             0   \n",
       "1                 0                             0   \n",
       "2                 0                             0   \n",
       "3                 0                             0   \n",
       "4                 0                             0   \n",
       "..              ...                           ...   \n",
       "359               0                             0   \n",
       "360               0                             0   \n",
       "361               0                             1   \n",
       "362               0                             1   \n",
       "363               0                             1   \n",
       "\n",
       "     wbi_income_group_Low income  wbi_income_group_Lower middle income  \\\n",
       "0                              0                                     0   \n",
       "1                              0                                     0   \n",
       "2                              0                                     1   \n",
       "3                              0                                     1   \n",
       "4                              0                                     1   \n",
       "..                           ...                                   ...   \n",
       "359                            0                                     0   \n",
       "360                            0                                     0   \n",
       "361                            0                                     0   \n",
       "362                            0                                     0   \n",
       "363                            0                                     0   \n",
       "\n",
       "     wbi_income_group_Upper middle income  wbi_lending_category_Blend  \\\n",
       "0                                       1                           1   \n",
       "1                                       1                           1   \n",
       "2                                       0                           0   \n",
       "3                                       0                           0   \n",
       "4                                       0                           0   \n",
       "..                                    ...                         ...   \n",
       "359                                     1                           0   \n",
       "360                                     1                           0   \n",
       "361                                     0                           0   \n",
       "362                                     0                           0   \n",
       "363                                     0                           0   \n",
       "\n",
       "     wbi_lending_category_IBRD  wbi_lending_category_IDA  \\\n",
       "0                            0                         0   \n",
       "1                            0                         0   \n",
       "2                            0                         1   \n",
       "3                            0                         1   \n",
       "4                            0                         1   \n",
       "..                         ...                       ...   \n",
       "359                          1                         0   \n",
       "360                          1                         0   \n",
       "361                          1                         0   \n",
       "362                          1                         0   \n",
       "363                          1                         0   \n",
       "\n",
       "     wbi_other_(emu_or_hipc)_EMU  wbi_other_(emu_or_hipc)_HIPC  \n",
       "0                              0                             0  \n",
       "1                              0                             0  \n",
       "2                              0                             1  \n",
       "3                              0                             1  \n",
       "4                              0                             1  \n",
       "..                           ...                           ...  \n",
       "359                            0                             0  \n",
       "360                            0                             0  \n",
       "361                            0                             0  \n",
       "362                            0                             0  \n",
       "363                            0                             0  \n",
       "\n",
       "[364 rows x 26 columns]"
      ]
     },
     "execution_count": 8,
     "metadata": {},
     "output_type": "execute_result"
    }
   ],
   "source": [
    "df_cols = pd.DataFrame(df.dtypes, columns=('coldtype',)).reset_index().rename(columns={'index': 'colname'})\n",
    "df_cols['coldtype'] = df_cols['coldtype'].astype('string')\n",
    "# adjusting a potentially useful variable that might be considered label\n",
    "df['fsi_rank'] = df['fsi_rank'].astype('string').str.replace(r'\\D', '', regex=True).replace('', pd.NA)\n",
    "# get list of numeric variables\n",
    "num_vars = df_cols.query(\"coldtype=='float64'\")['colname'].values\n",
    "# these could be useful; but, I'm ignoring them for now to keep the demonstration simpler...\n",
    "\n",
    "import itertools\n",
    "\n",
    "# Indicator variables are often called \"one hot\" encodings\n",
    "def one_hot(df, cols):\n",
    "    \"\"\" One-hot encode given `cols` and add as new columns\n",
    "        to `df`\n",
    "        \n",
    "        Returns tuple of `df` with new columns and list of\n",
    "        new column names.\n",
    "    \"\"\"\n",
    "    new_cols = list()\n",
    "    new_col_names = list()\n",
    "    for each in cols:\n",
    "        dummies = pd.get_dummies(df[each], prefix=each)\n",
    "        new_cols.append(dummies)\n",
    "        new_col_names.append(dummies.columns.values)\n",
    "\n",
    "    df = pd.concat([df]+new_cols, axis=1)\n",
    "    new_col_names = list(itertools.chain.from_iterable(new_col_names))\n",
    "    return df, new_col_names\n",
    "\n",
    "cat_vars = ['fsi_category', 'hdr_hdicode', 'hdr_region',\n",
    "            'wbi_income_group', 'wbi_lending_category',\n",
    "            'wbi_other_(emu_or_hipc)']\n",
    "\n",
    "# get one hot encodings\n",
    "df_oh, oh_cols = one_hot(df, cat_vars)\n",
    "df_oh = df_oh.drop(columns=cat_vars)\n",
    "\n",
    "df_oh[['error_transformer','error_ffnn','error_xgboost'] + oh_cols]"
   ]
  },
  {
   "cell_type": "code",
   "execution_count": 15,
   "id": "9baafd48",
   "metadata": {},
   "outputs": [],
   "source": [
    "reduced_oh_cols = \\\n",
    "['fsi_category_Alert',\n",
    " 'fsi_category_Sustainable',\n",
    " 'fsi_category_Warning',\n",
    " 'hdr_hdicode_High',\n",
    " 'hdr_hdicode_Very High',\n",
    " 'hdr_hdicode_Medium',\n",
    " 'hdr_region_AS',\n",
    " 'hdr_region_EAP',\n",
    " 'hdr_region_ECA',\n",
    " 'hdr_region_LAC',\n",
    " 'hdr_region_SA',\n",
    " 'wbi_income_group_Low income',\n",
    " 'wbi_income_group_Lower middle income',\n",
    " 'wbi_income_group_Upper middle income',\n",
    " 'wbi_lending_category_Blend',\n",
    " 'wbi_lending_category_IDA',\n",
    " 'wbi_other_(emu_or_hipc)_EMU']"
   ]
  },
  {
   "cell_type": "code",
   "execution_count": 17,
   "id": "c826f845",
   "metadata": {},
   "outputs": [
    {
     "data": {
      "text/plain": [
       "<matplotlib.lines.Line2D at 0x7f92e9a077c0>"
      ]
     },
     "execution_count": 17,
     "metadata": {},
     "output_type": "execute_result"
    },
    {
     "data": {
      "image/png": "[encoded data removed]",
      "text/plain": [
       "<Figure size 2000x1600 with 2 Axes>"
      ]
     },
     "metadata": {},
     "output_type": "display_data"
    }
   ],
   "source": [
    "import matplotlib.pyplot as plt\n",
    "import seaborn as sns\n",
    "\n",
    "# A good function from Evan Wheeler I've edited just a little bit \n",
    "def corr_heatmap(df):\n",
    "    # plot correlation heatmap based on code from:\n",
    "    # https://medium.com/@nikolh92/helpful-visualisations-for-linear-regression-646a5648ad9d\n",
    "    sns.set(style=\"white\")\n",
    "    corr = df.corr()\n",
    "    mask = np.zeros_like(corr, dtype=bool)\n",
    "    #mask[np.triu_indices_from(mask)] = True\n",
    "    fig, ax = plt.subplots(figsize=(20, 16))\n",
    "    cmap = sns.diverging_palette(10, 220, as_cmap=True)\n",
    "    return sns.heatmap(corr, mask=mask, cmap=cmap, vmin=-1, vmax=1, center=0, square=True,\n",
    "                       linewidths=.5, annot=False, cbar_kws={\"shrink\": .5})\n",
    "\n",
    "corr_heatmap(df_oh[['error_transformer','error_ffnn','error_xgboost'] + reduced_oh_cols])\n",
    "_ = plt.axhline(y=3, c='k'); plt.axvline(x=3, c='k')"
   ]
  },
  {
   "cell_type": "code",
   "execution_count": 18,
   "id": "a458644f",
   "metadata": {
    "scrolled": true
   },
   "outputs": [
    {
     "data": {
      "text/html": [
       "<div>\n",
       "<style scoped>\n",
       "    .dataframe tbody tr th:only-of-type {\n",
       "        vertical-align: middle;\n",
       "    }\n",
       "\n",
       "    .dataframe tbody tr th {\n",
       "        vertical-align: top;\n",
       "    }\n",
       "\n",
       "    .dataframe thead th {\n",
       "        text-align: right;\n",
       "    }\n",
       "</style>\n",
       "<table border=\"1\" class=\"dataframe\">\n",
       "  <thead>\n",
       "    <tr style=\"text-align: right;\">\n",
       "      <th></th>\n",
       "      <th>predicts1</th>\n",
       "      <th>fsi_category_Alert</th>\n",
       "      <th>fsi_category_Sustainable</th>\n",
       "      <th>fsi_category_Warning</th>\n",
       "      <th>hdr_hdicode_High</th>\n",
       "      <th>hdr_hdicode_Very High</th>\n",
       "      <th>hdr_hdicode_Medium</th>\n",
       "      <th>hdr_region_AS</th>\n",
       "      <th>hdr_region_EAP</th>\n",
       "      <th>hdr_region_ECA</th>\n",
       "      <th>...</th>\n",
       "      <th>wbi_income_group_Lower middle income X transformer X predicts1</th>\n",
       "      <th>wbi_income_group_Lower middle income X xgboost X predicts1</th>\n",
       "      <th>wbi_income_group_Upper middle income X transformer X predicts1</th>\n",
       "      <th>wbi_income_group_Upper middle income X xgboost X predicts1</th>\n",
       "      <th>wbi_lending_category_Blend X transformer X predicts1</th>\n",
       "      <th>wbi_lending_category_Blend X xgboost X predicts1</th>\n",
       "      <th>wbi_lending_category_IDA X transformer X predicts1</th>\n",
       "      <th>wbi_lending_category_IDA X xgboost X predicts1</th>\n",
       "      <th>wbi_other_(emu_or_hipc)_EMU X transformer X predicts1</th>\n",
       "      <th>wbi_other_(emu_or_hipc)_EMU X xgboost X predicts1</th>\n",
       "    </tr>\n",
       "  </thead>\n",
       "  <tbody>\n",
       "    <tr>\n",
       "      <th>0</th>\n",
       "      <td>0</td>\n",
       "      <td>0</td>\n",
       "      <td>0</td>\n",
       "      <td>1</td>\n",
       "      <td>1</td>\n",
       "      <td>0</td>\n",
       "      <td>0</td>\n",
       "      <td>0</td>\n",
       "      <td>1</td>\n",
       "      <td>0</td>\n",
       "      <td>...</td>\n",
       "      <td>0</td>\n",
       "      <td>0</td>\n",
       "      <td>0</td>\n",
       "      <td>0</td>\n",
       "      <td>0</td>\n",
       "      <td>0</td>\n",
       "      <td>0</td>\n",
       "      <td>0</td>\n",
       "      <td>0</td>\n",
       "      <td>0</td>\n",
       "    </tr>\n",
       "    <tr>\n",
       "      <th>1</th>\n",
       "      <td>0</td>\n",
       "      <td>0</td>\n",
       "      <td>0</td>\n",
       "      <td>1</td>\n",
       "      <td>1</td>\n",
       "      <td>0</td>\n",
       "      <td>0</td>\n",
       "      <td>0</td>\n",
       "      <td>1</td>\n",
       "      <td>0</td>\n",
       "      <td>...</td>\n",
       "      <td>0</td>\n",
       "      <td>0</td>\n",
       "      <td>0</td>\n",
       "      <td>0</td>\n",
       "      <td>0</td>\n",
       "      <td>0</td>\n",
       "      <td>0</td>\n",
       "      <td>0</td>\n",
       "      <td>0</td>\n",
       "      <td>0</td>\n",
       "    </tr>\n",
       "    <tr>\n",
       "      <th>2</th>\n",
       "      <td>0</td>\n",
       "      <td>0</td>\n",
       "      <td>0</td>\n",
       "      <td>1</td>\n",
       "      <td>0</td>\n",
       "      <td>0</td>\n",
       "      <td>0</td>\n",
       "      <td>0</td>\n",
       "      <td>0</td>\n",
       "      <td>0</td>\n",
       "      <td>...</td>\n",
       "      <td>0</td>\n",
       "      <td>0</td>\n",
       "      <td>0</td>\n",
       "      <td>0</td>\n",
       "      <td>0</td>\n",
       "      <td>0</td>\n",
       "      <td>0</td>\n",
       "      <td>0</td>\n",
       "      <td>0</td>\n",
       "      <td>0</td>\n",
       "    </tr>\n",
       "    <tr>\n",
       "      <th>3</th>\n",
       "      <td>0</td>\n",
       "      <td>0</td>\n",
       "      <td>0</td>\n",
       "      <td>1</td>\n",
       "      <td>0</td>\n",
       "      <td>0</td>\n",
       "      <td>0</td>\n",
       "      <td>0</td>\n",
       "      <td>0</td>\n",
       "      <td>0</td>\n",
       "      <td>...</td>\n",
       "      <td>0</td>\n",
       "      <td>0</td>\n",
       "      <td>0</td>\n",
       "      <td>0</td>\n",
       "      <td>0</td>\n",
       "      <td>0</td>\n",
       "      <td>0</td>\n",
       "      <td>0</td>\n",
       "      <td>0</td>\n",
       "      <td>0</td>\n",
       "    </tr>\n",
       "    <tr>\n",
       "      <th>4</th>\n",
       "      <td>1</td>\n",
       "      <td>0</td>\n",
       "      <td>0</td>\n",
       "      <td>1</td>\n",
       "      <td>0</td>\n",
       "      <td>0</td>\n",
       "      <td>0</td>\n",
       "      <td>0</td>\n",
       "      <td>0</td>\n",
       "      <td>0</td>\n",
       "      <td>...</td>\n",
       "      <td>1</td>\n",
       "      <td>0</td>\n",
       "      <td>0</td>\n",
       "      <td>0</td>\n",
       "      <td>0</td>\n",
       "      <td>0</td>\n",
       "      <td>1</td>\n",
       "      <td>0</td>\n",
       "      <td>0</td>\n",
       "      <td>0</td>\n",
       "    </tr>\n",
       "    <tr>\n",
       "      <th>...</th>\n",
       "      <td>...</td>\n",
       "      <td>...</td>\n",
       "      <td>...</td>\n",
       "      <td>...</td>\n",
       "      <td>...</td>\n",
       "      <td>...</td>\n",
       "      <td>...</td>\n",
       "      <td>...</td>\n",
       "      <td>...</td>\n",
       "      <td>...</td>\n",
       "      <td>...</td>\n",
       "      <td>...</td>\n",
       "      <td>...</td>\n",
       "      <td>...</td>\n",
       "      <td>...</td>\n",
       "      <td>...</td>\n",
       "      <td>...</td>\n",
       "      <td>...</td>\n",
       "      <td>...</td>\n",
       "      <td>...</td>\n",
       "      <td>...</td>\n",
       "    </tr>\n",
       "    <tr>\n",
       "      <th>1087</th>\n",
       "      <td>0</td>\n",
       "      <td>0</td>\n",
       "      <td>0</td>\n",
       "      <td>0</td>\n",
       "      <td>0</td>\n",
       "      <td>1</td>\n",
       "      <td>0</td>\n",
       "      <td>0</td>\n",
       "      <td>0</td>\n",
       "      <td>1</td>\n",
       "      <td>...</td>\n",
       "      <td>0</td>\n",
       "      <td>0</td>\n",
       "      <td>0</td>\n",
       "      <td>0</td>\n",
       "      <td>0</td>\n",
       "      <td>0</td>\n",
       "      <td>0</td>\n",
       "      <td>0</td>\n",
       "      <td>0</td>\n",
       "      <td>0</td>\n",
       "    </tr>\n",
       "    <tr>\n",
       "      <th>1088</th>\n",
       "      <td>0</td>\n",
       "      <td>0</td>\n",
       "      <td>0</td>\n",
       "      <td>0</td>\n",
       "      <td>0</td>\n",
       "      <td>1</td>\n",
       "      <td>0</td>\n",
       "      <td>0</td>\n",
       "      <td>0</td>\n",
       "      <td>1</td>\n",
       "      <td>...</td>\n",
       "      <td>0</td>\n",
       "      <td>0</td>\n",
       "      <td>0</td>\n",
       "      <td>0</td>\n",
       "      <td>0</td>\n",
       "      <td>0</td>\n",
       "      <td>0</td>\n",
       "      <td>0</td>\n",
       "      <td>0</td>\n",
       "      <td>0</td>\n",
       "    </tr>\n",
       "    <tr>\n",
       "      <th>1089</th>\n",
       "      <td>1</td>\n",
       "      <td>0</td>\n",
       "      <td>0</td>\n",
       "      <td>0</td>\n",
       "      <td>0</td>\n",
       "      <td>1</td>\n",
       "      <td>0</td>\n",
       "      <td>0</td>\n",
       "      <td>0</td>\n",
       "      <td>0</td>\n",
       "      <td>...</td>\n",
       "      <td>0</td>\n",
       "      <td>0</td>\n",
       "      <td>0</td>\n",
       "      <td>0</td>\n",
       "      <td>0</td>\n",
       "      <td>0</td>\n",
       "      <td>0</td>\n",
       "      <td>0</td>\n",
       "      <td>0</td>\n",
       "      <td>0</td>\n",
       "    </tr>\n",
       "    <tr>\n",
       "      <th>1090</th>\n",
       "      <td>0</td>\n",
       "      <td>0</td>\n",
       "      <td>0</td>\n",
       "      <td>0</td>\n",
       "      <td>0</td>\n",
       "      <td>1</td>\n",
       "      <td>0</td>\n",
       "      <td>0</td>\n",
       "      <td>0</td>\n",
       "      <td>0</td>\n",
       "      <td>...</td>\n",
       "      <td>0</td>\n",
       "      <td>0</td>\n",
       "      <td>0</td>\n",
       "      <td>0</td>\n",
       "      <td>0</td>\n",
       "      <td>0</td>\n",
       "      <td>0</td>\n",
       "      <td>0</td>\n",
       "      <td>0</td>\n",
       "      <td>0</td>\n",
       "    </tr>\n",
       "    <tr>\n",
       "      <th>1091</th>\n",
       "      <td>0</td>\n",
       "      <td>0</td>\n",
       "      <td>0</td>\n",
       "      <td>0</td>\n",
       "      <td>0</td>\n",
       "      <td>1</td>\n",
       "      <td>0</td>\n",
       "      <td>0</td>\n",
       "      <td>0</td>\n",
       "      <td>0</td>\n",
       "      <td>...</td>\n",
       "      <td>0</td>\n",
       "      <td>0</td>\n",
       "      <td>0</td>\n",
       "      <td>0</td>\n",
       "      <td>0</td>\n",
       "      <td>0</td>\n",
       "      <td>0</td>\n",
       "      <td>0</td>\n",
       "      <td>0</td>\n",
       "      <td>0</td>\n",
       "    </tr>\n",
       "  </tbody>\n",
       "</table>\n",
       "<p>1092 rows × 107 columns</p>\n",
       "</div>"
      ],
      "text/plain": [
       "      predicts1  fsi_category_Alert  fsi_category_Sustainable  \\\n",
       "0             0                   0                         0   \n",
       "1             0                   0                         0   \n",
       "2             0                   0                         0   \n",
       "3             0                   0                         0   \n",
       "4             1                   0                         0   \n",
       "...         ...                 ...                       ...   \n",
       "1087          0                   0                         0   \n",
       "1088          0                   0                         0   \n",
       "1089          1                   0                         0   \n",
       "1090          0                   0                         0   \n",
       "1091          0                   0                         0   \n",
       "\n",
       "      fsi_category_Warning  hdr_hdicode_High  hdr_hdicode_Very High  \\\n",
       "0                        1                 1                      0   \n",
       "1                        1                 1                      0   \n",
       "2                        1                 0                      0   \n",
       "3                        1                 0                      0   \n",
       "4                        1                 0                      0   \n",
       "...                    ...               ...                    ...   \n",
       "1087                     0                 0                      1   \n",
       "1088                     0                 0                      1   \n",
       "1089                     0                 0                      1   \n",
       "1090                     0                 0                      1   \n",
       "1091                     0                 0                      1   \n",
       "\n",
       "      hdr_hdicode_Medium  hdr_region_AS  hdr_region_EAP  hdr_region_ECA  ...  \\\n",
       "0                      0              0               1               0  ...   \n",
       "1                      0              0               1               0  ...   \n",
       "2                      0              0               0               0  ...   \n",
       "3                      0              0               0               0  ...   \n",
       "4                      0              0               0               0  ...   \n",
       "...                  ...            ...             ...             ...  ...   \n",
       "1087                   0              0               0               1  ...   \n",
       "1088                   0              0               0               1  ...   \n",
       "1089                   0              0               0               0  ...   \n",
       "1090                   0              0               0               0  ...   \n",
       "1091                   0              0               0               0  ...   \n",
       "\n",
       "      wbi_income_group_Lower middle income X transformer X predicts1  \\\n",
       "0                                                     0                \n",
       "1                                                     0                \n",
       "2                                                     0                \n",
       "3                                                     0                \n",
       "4                                                     1                \n",
       "...                                                 ...                \n",
       "1087                                                  0                \n",
       "1088                                                  0                \n",
       "1089                                                  0                \n",
       "1090                                                  0                \n",
       "1091                                                  0                \n",
       "\n",
       "      wbi_income_group_Lower middle income X xgboost X predicts1  \\\n",
       "0                                                     0            \n",
       "1                                                     0            \n",
       "2                                                     0            \n",
       "3                                                     0            \n",
       "4                                                     0            \n",
       "...                                                 ...            \n",
       "1087                                                  0            \n",
       "1088                                                  0            \n",
       "1089                                                  0            \n",
       "1090                                                  0            \n",
       "1091                                                  0            \n",
       "\n",
       "      wbi_income_group_Upper middle income X transformer X predicts1  \\\n",
       "0                                                     0                \n",
       "1                                                     0                \n",
       "2                                                     0                \n",
       "3                                                     0                \n",
       "4                                                     0                \n",
       "...                                                 ...                \n",
       "1087                                                  0                \n",
       "1088                                                  0                \n",
       "1089                                                  0                \n",
       "1090                                                  0                \n",
       "1091                                                  0                \n",
       "\n",
       "      wbi_income_group_Upper middle income X xgboost X predicts1  \\\n",
       "0                                                     0            \n",
       "1                                                     0            \n",
       "2                                                     0            \n",
       "3                                                     0            \n",
       "4                                                     0            \n",
       "...                                                 ...            \n",
       "1087                                                  0            \n",
       "1088                                                  0            \n",
       "1089                                                  0            \n",
       "1090                                                  0            \n",
       "1091                                                  0            \n",
       "\n",
       "      wbi_lending_category_Blend X transformer X predicts1  \\\n",
       "0                                                     0      \n",
       "1                                                     0      \n",
       "2                                                     0      \n",
       "3                                                     0      \n",
       "4                                                     0      \n",
       "...                                                 ...      \n",
       "1087                                                  0      \n",
       "1088                                                  0      \n",
       "1089                                                  0      \n",
       "1090                                                  0      \n",
       "1091                                                  0      \n",
       "\n",
       "      wbi_lending_category_Blend X xgboost X predicts1  \\\n",
       "0                                                    0   \n",
       "1                                                    0   \n",
       "2                                                    0   \n",
       "3                                                    0   \n",
       "4                                                    0   \n",
       "...                                                ...   \n",
       "1087                                                 0   \n",
       "1088                                                 0   \n",
       "1089                                                 0   \n",
       "1090                                                 0   \n",
       "1091                                                 0   \n",
       "\n",
       "      wbi_lending_category_IDA X transformer X predicts1  \\\n",
       "0                                                     0    \n",
       "1                                                     0    \n",
       "2                                                     0    \n",
       "3                                                     0    \n",
       "4                                                     1    \n",
       "...                                                 ...    \n",
       "1087                                                  0    \n",
       "1088                                                  0    \n",
       "1089                                                  0    \n",
       "1090                                                  0    \n",
       "1091                                                  0    \n",
       "\n",
       "      wbi_lending_category_IDA X xgboost X predicts1  \\\n",
       "0                                                  0   \n",
       "1                                                  0   \n",
       "2                                                  0   \n",
       "3                                                  0   \n",
       "4                                                  0   \n",
       "...                                              ...   \n",
       "1087                                               0   \n",
       "1088                                               0   \n",
       "1089                                               0   \n",
       "1090                                               0   \n",
       "1091                                               0   \n",
       "\n",
       "      wbi_other_(emu_or_hipc)_EMU X transformer X predicts1  \\\n",
       "0                                                     0       \n",
       "1                                                     0       \n",
       "2                                                     0       \n",
       "3                                                     0       \n",
       "4                                                     0       \n",
       "...                                                 ...       \n",
       "1087                                                  0       \n",
       "1088                                                  0       \n",
       "1089                                                  0       \n",
       "1090                                                  0       \n",
       "1091                                                  0       \n",
       "\n",
       "      wbi_other_(emu_or_hipc)_EMU X xgboost X predicts1  \n",
       "0                                                     0  \n",
       "1                                                     0  \n",
       "2                                                     0  \n",
       "3                                                     0  \n",
       "4                                                     0  \n",
       "...                                                 ...  \n",
       "1087                                                  0  \n",
       "1088                                                  0  \n",
       "1089                                                  0  \n",
       "1090                                                  0  \n",
       "1091                                                  0  \n",
       "\n",
       "[1092 rows x 107 columns]"
      ]
     },
     "execution_count": 18,
     "metadata": {},
     "output_type": "execute_result"
    }
   ],
   "source": [
    "# This will be used to make the (additional) indicator variables of which model a prediction corresponds to\n",
    "df_oh['model_transformer'] = df_oh['error_transformer'].astype(str)*0+\"transformer\"\n",
    "df_oh['model_ffnn'] = df_oh['error_ffnn'].astype(str)*0+\"ffnn\"\n",
    "df_oh['model_xgboost'] = df_oh['error_xgboost'].astype(str)*0+\"xgboost\"\n",
    "\n",
    "# The amount of error might change depending on if the prediction is positive or negative\n",
    "# so this indicates if it was a postive or negative prediction\n",
    "df_oh['prediction_transformer'] = df.y_true_transformer.astype(int)\n",
    "df_oh['prediction_ffnn'] = df.y_pred_ffnn.astype(int)\n",
    "df_oh['prediction_xgboost'] = df.y_true_xgboost.astype(int)\n",
    "\n",
    "# This \"stacks\" all the predictions together on top of each other so they can all be analyzed together:\n",
    "# (make sure you understand what this is actually doing and why!)\n",
    "design_matrix = \\\n",
    "pd.concat([df_oh[['error_transformer', 'model_transformer', 'prediction_transformer']+reduced_oh_cols].rename(columns={'error_transformer':'error','model_transformer':'model','prediction_transformer':'predicts1'}),\n",
    "           df_oh[['error_ffnn', 'model_ffnn', 'prediction_ffnn']+reduced_oh_cols].rename(columns={'error_ffnn':'error','model_ffnn':'model','prediction_ffnn':'predicts1'}),\n",
    "           df_oh[['error_xgboost', 'model_xgboost', 'prediction_xgboost']+reduced_oh_cols].rename(columns={'error_xgboost':'error','model_xgboost':'model','prediction_xgboost':'predicts1'})],\n",
    "          ignore_index=True)\n",
    "\n",
    "# 0. design_matrix[reduced_oh_cols] effects at \"baseline\" (`ffnn` predicts 0)\n",
    "\n",
    "# 1. design_matrix[reduced_oh_cols]*predicts1 offset changes to \"baseline\" when prediction is 1\n",
    "design_matrix.predicts1 # is the intercept offset\n",
    "for x in reduced_oh_cols:\n",
    "    design_matrix[x+' X predicts1'] = design_matrix[x]*design_matrix['predicts1']\n",
    "\n",
    "# 2. design_matrix[reduced_oh_cols]*`transformer`/`xgboost` additional offset changes to \"baseline\"\n",
    "# when prediction is made by `transformer`/`xgboost` for any prediction (0 or 1)\n",
    "design_matrix['transformer'] = (design_matrix['model']==\"transformer\").astype(int) # intercept offset\n",
    "design_matrix['xgboost'] = (design_matrix['model']==\"xgboost\").astype(int) # intercept offset\n",
    "for x in reduced_oh_cols:\n",
    "    design_matrix[x+' X transformer'] = design_matrix[x]*design_matrix['transformer']\n",
    "    design_matrix[x+' X xgboost'] = design_matrix[x]*design_matrix['xgboost']\n",
    "\n",
    "# 3. design_matrix[reduced_oh_cols]*`transformer_predicts1`/`xgboost_predicts1` \n",
    "# additional offset changes to \"baseline\" for non `ffnn` 1 predictions      \n",
    "design_matrix['transformer X predicts1'] = design_matrix['transformer']*design_matrix['predicts1']\n",
    "design_matrix['xgboost X predicts1'] = design_matrix['xgboost']*design_matrix['predicts1']\n",
    "for x in reduced_oh_cols:\n",
    "    design_matrix[x+' X transformer X predicts1'] = design_matrix[x]*design_matrix['transformer X predicts1']\n",
    "    design_matrix[x+' X xgboost X predicts1'] = design_matrix[x]*design_matrix['xgboost X predicts1']\n",
    "\n",
    "# This is to address the \"DataFrame is highly fragmented\" warning that's being flagged below\n",
    "design_matrix = design_matrix.copy()\n",
    "y = design_matrix['error']\n",
    "del design_matrix['error']\n",
    "del design_matrix['model']\n",
    "design_matrix#.columns"
   ]
  },
  {
   "cell_type": "code",
   "execution_count": 19,
   "id": "704f72f1",
   "metadata": {},
   "outputs": [
    {
     "data": {
      "text/html": [
       "<table class=\"simpletable\">\n",
       "<tr>\n",
       "  <th>Omnibus:</th>       <td>26.496</td> <th>  Durbin-Watson:     </th> <td>   1.443</td>\n",
       "</tr>\n",
       "<tr>\n",
       "  <th>Prob(Omnibus):</th> <td> 0.000</td> <th>  Jarque-Bera (JB):  </th> <td>  55.692</td>\n",
       "</tr>\n",
       "<tr>\n",
       "  <th>Skew:</th>          <td> 0.053</td> <th>  Prob(JB):          </th> <td>8.07e-13</td>\n",
       "</tr>\n",
       "<tr>\n",
       "  <th>Kurtosis:</th>      <td> 4.101</td> <th>  Cond. No.          </th> <td>1.87e+16</td>\n",
       "</tr>\n",
       "</table>"
      ],
      "text/plain": [
       "<class 'statsmodels.iolib.table.SimpleTable'>"
      ]
     },
     "execution_count": 19,
     "metadata": {},
     "output_type": "execute_result"
    }
   ],
   "source": [
    "import statsmodels.api as sm\n",
    "\n",
    "model_0_variables = design_matrix.columns.tolist()\n",
    "model_0 = sm.OLS(y, sm.add_constant(design_matrix[model_0_variables]))\n",
    "model_0.fit().summary().tables[-1]"
   ]
  },
  {
   "cell_type": "code",
   "execution_count": 26,
   "id": "1b09adf3",
   "metadata": {},
   "outputs": [
    {
     "data": {
      "text/plain": [
       "(1092, 73)"
      ]
     },
     "execution_count": 26,
     "metadata": {},
     "output_type": "execute_result"
    }
   ],
   "source": [
    "design_matrix.loc[:,design_matrix.sum()>16].shape"
   ]
  },
  {
   "cell_type": "code",
   "execution_count": 34,
   "id": "e894608c",
   "metadata": {},
   "outputs": [
    {
     "data": {
      "text/html": [
       "<table class=\"simpletable\">\n",
       "<caption>OLS Regression Results</caption>\n",
       "<tr>\n",
       "  <th>Dep. Variable:</th>          <td>error</td>      <th>  R-squared:         </th> <td>   0.402</td>\n",
       "</tr>\n",
       "<tr>\n",
       "  <th>Model:</th>                   <td>OLS</td>       <th>  Adj. R-squared:    </th> <td>   0.358</td>\n",
       "</tr>\n",
       "<tr>\n",
       "  <th>Method:</th>             <td>Least Squares</td>  <th>  F-statistic:       </th> <td>   9.114</td>\n",
       "</tr>\n",
       "<tr>\n",
       "  <th>Date:</th>             <td>Tue, 05 Dec 2023</td> <th>  Prob (F-statistic):</th> <td>1.21e-71</td>\n",
       "</tr>\n",
       "<tr>\n",
       "  <th>Time:</th>                 <td>22:24:28</td>     <th>  Log-Likelihood:    </th> <td>  614.65</td>\n",
       "</tr>\n",
       "<tr>\n",
       "  <th>No. Observations:</th>      <td>  1092</td>      <th>  AIC:               </th> <td>  -1077.</td>\n",
       "</tr>\n",
       "<tr>\n",
       "  <th>Df Residuals:</th>          <td>  1016</td>      <th>  BIC:               </th> <td>  -697.6</td>\n",
       "</tr>\n",
       "<tr>\n",
       "  <th>Df Model:</th>              <td>    75</td>      <th>                     </th>     <td> </td>   \n",
       "</tr>\n",
       "<tr>\n",
       "  <th>Covariance Type:</th>      <td>nonrobust</td>    <th>                     </th>     <td> </td>   \n",
       "</tr>\n",
       "</table>\n",
       "<table class=\"simpletable\">\n",
       "<tr>\n",
       "                                 <td></td>                                   <th>coef</th>     <th>std err</th>      <th>t</th>      <th>P>|t|</th>  <th>[0.025</th>    <th>0.975]</th>  \n",
       "</tr>\n",
       "<tr>\n",
       "  <th>const</th>                                                          <td>    0.2903</td> <td>    0.071</td> <td>    4.115</td> <td> 0.000</td> <td>    0.152</td> <td>    0.429</td>\n",
       "</tr>\n",
       "<tr>\n",
       "  <th>predicts1</th>                                                      <td>    0.7280</td> <td>    0.141</td> <td>    5.174</td> <td> 0.000</td> <td>    0.452</td> <td>    1.004</td>\n",
       "</tr>\n",
       "<tr>\n",
       "  <th>fsi_category_Alert</th>                                             <td>    0.0549</td> <td>    0.047</td> <td>    1.158</td> <td> 0.247</td> <td>   -0.038</td> <td>    0.148</td>\n",
       "</tr>\n",
       "<tr>\n",
       "  <th>fsi_category_Sustainable</th>                                       <td>   -0.0106</td> <td>    0.032</td> <td>   -0.337</td> <td> 0.736</td> <td>   -0.073</td> <td>    0.051</td>\n",
       "</tr>\n",
       "<tr>\n",
       "  <th>fsi_category_Warning</th>                                           <td>    0.0277</td> <td>    0.031</td> <td>    0.901</td> <td> 0.368</td> <td>   -0.033</td> <td>    0.088</td>\n",
       "</tr>\n",
       "<tr>\n",
       "  <th>hdr_hdicode_High</th>                                               <td>    0.0490</td> <td>    0.059</td> <td>    0.829</td> <td> 0.407</td> <td>   -0.067</td> <td>    0.165</td>\n",
       "</tr>\n",
       "<tr>\n",
       "  <th>hdr_hdicode_Very High</th>                                          <td>    0.0431</td> <td>    0.068</td> <td>    0.634</td> <td> 0.526</td> <td>   -0.090</td> <td>    0.176</td>\n",
       "</tr>\n",
       "<tr>\n",
       "  <th>hdr_hdicode_Medium</th>                                             <td>    0.0905</td> <td>    0.059</td> <td>    1.537</td> <td> 0.125</td> <td>   -0.025</td> <td>    0.206</td>\n",
       "</tr>\n",
       "<tr>\n",
       "  <th>hdr_region_AS</th>                                                  <td>    0.0048</td> <td>    0.033</td> <td>    0.146</td> <td> 0.884</td> <td>   -0.060</td> <td>    0.070</td>\n",
       "</tr>\n",
       "<tr>\n",
       "  <th>hdr_region_EAP</th>                                                 <td>   -0.0120</td> <td>    0.037</td> <td>   -0.321</td> <td> 0.748</td> <td>   -0.085</td> <td>    0.061</td>\n",
       "</tr>\n",
       "<tr>\n",
       "  <th>hdr_region_ECA</th>                                                 <td>   -0.0756</td> <td>    0.036</td> <td>   -2.113</td> <td> 0.035</td> <td>   -0.146</td> <td>   -0.005</td>\n",
       "</tr>\n",
       "<tr>\n",
       "  <th>hdr_region_LAC</th>                                                 <td>    0.0202</td> <td>    0.028</td> <td>    0.722</td> <td> 0.470</td> <td>   -0.035</td> <td>    0.075</td>\n",
       "</tr>\n",
       "<tr>\n",
       "  <th>hdr_region_SA</th>                                                  <td>   -0.0107</td> <td>    0.039</td> <td>   -0.276</td> <td> 0.783</td> <td>   -0.087</td> <td>    0.066</td>\n",
       "</tr>\n",
       "<tr>\n",
       "  <th>wbi_income_group_Low income</th>                                    <td>    0.2714</td> <td>    0.129</td> <td>    2.098</td> <td> 0.036</td> <td>    0.018</td> <td>    0.525</td>\n",
       "</tr>\n",
       "<tr>\n",
       "  <th>wbi_income_group_Lower middle income</th>                           <td>    0.0415</td> <td>    0.056</td> <td>    0.742</td> <td> 0.458</td> <td>   -0.068</td> <td>    0.151</td>\n",
       "</tr>\n",
       "<tr>\n",
       "  <th>wbi_income_group_Upper middle income</th>                           <td>    0.0328</td> <td>    0.045</td> <td>    0.737</td> <td> 0.461</td> <td>   -0.055</td> <td>    0.120</td>\n",
       "</tr>\n",
       "<tr>\n",
       "  <th>wbi_lending_category_Blend</th>                                     <td>    0.0717</td> <td>    0.056</td> <td>    1.282</td> <td> 0.200</td> <td>   -0.038</td> <td>    0.181</td>\n",
       "</tr>\n",
       "<tr>\n",
       "  <th>wbi_lending_category_IDA</th>                                       <td>   -0.0014</td> <td>    0.034</td> <td>   -0.040</td> <td> 0.968</td> <td>   -0.069</td> <td>    0.066</td>\n",
       "</tr>\n",
       "<tr>\n",
       "  <th>wbi_other_(emu_or_hipc)_EMU</th>                                    <td>    0.0033</td> <td>    0.031</td> <td>    0.106</td> <td> 0.916</td> <td>   -0.057</td> <td>    0.064</td>\n",
       "</tr>\n",
       "<tr>\n",
       "  <th>fsi_category_Alert X predicts1</th>                                 <td>   -0.2927</td> <td>    0.082</td> <td>   -3.566</td> <td> 0.000</td> <td>   -0.454</td> <td>   -0.132</td>\n",
       "</tr>\n",
       "<tr>\n",
       "  <th>fsi_category_Warning X predicts1</th>                               <td>   -0.3239</td> <td>    0.093</td> <td>   -3.467</td> <td> 0.001</td> <td>   -0.507</td> <td>   -0.141</td>\n",
       "</tr>\n",
       "<tr>\n",
       "  <th>hdr_hdicode_High X predicts1</th>                                   <td>    0.0048</td> <td>    0.070</td> <td>    0.068</td> <td> 0.946</td> <td>   -0.132</td> <td>    0.142</td>\n",
       "</tr>\n",
       "<tr>\n",
       "  <th>hdr_hdicode_Very High X predicts1</th>                              <td>   -0.2311</td> <td>    0.101</td> <td>   -2.290</td> <td> 0.022</td> <td>   -0.429</td> <td>   -0.033</td>\n",
       "</tr>\n",
       "<tr>\n",
       "  <th>hdr_hdicode_Medium X predicts1</th>                                 <td>   -0.1259</td> <td>    0.071</td> <td>   -1.765</td> <td> 0.078</td> <td>   -0.266</td> <td>    0.014</td>\n",
       "</tr>\n",
       "<tr>\n",
       "  <th>hdr_region_AS X predicts1</th>                                      <td>    0.0275</td> <td>    0.043</td> <td>    0.638</td> <td> 0.523</td> <td>   -0.057</td> <td>    0.112</td>\n",
       "</tr>\n",
       "<tr>\n",
       "  <th>hdr_region_LAC X predicts1</th>                                     <td>   -0.0585</td> <td>    0.046</td> <td>   -1.267</td> <td> 0.205</td> <td>   -0.149</td> <td>    0.032</td>\n",
       "</tr>\n",
       "<tr>\n",
       "  <th>wbi_income_group_Low income X predicts1</th>                        <td>   -0.4734</td> <td>    0.119</td> <td>   -3.988</td> <td> 0.000</td> <td>   -0.706</td> <td>   -0.240</td>\n",
       "</tr>\n",
       "<tr>\n",
       "  <th>wbi_income_group_Lower middle income X predicts1</th>               <td>   -0.2073</td> <td>    0.132</td> <td>   -1.572</td> <td> 0.116</td> <td>   -0.466</td> <td>    0.051</td>\n",
       "</tr>\n",
       "<tr>\n",
       "  <th>wbi_income_group_Upper middle income X predicts1</th>               <td>   -0.2875</td> <td>    0.093</td> <td>   -3.078</td> <td> 0.002</td> <td>   -0.471</td> <td>   -0.104</td>\n",
       "</tr>\n",
       "<tr>\n",
       "  <th>wbi_lending_category_Blend X predicts1</th>                         <td>   -0.1399</td> <td>    0.063</td> <td>   -2.208</td> <td> 0.027</td> <td>   -0.264</td> <td>   -0.016</td>\n",
       "</tr>\n",
       "<tr>\n",
       "  <th>wbi_lending_category_IDA X predicts1</th>                           <td>   -0.0189</td> <td>    0.059</td> <td>   -0.318</td> <td> 0.751</td> <td>   -0.135</td> <td>    0.098</td>\n",
       "</tr>\n",
       "<tr>\n",
       "  <th>transformer</th>                                                    <td>   -0.0238</td> <td>    0.089</td> <td>   -0.267</td> <td> 0.790</td> <td>   -0.199</td> <td>    0.151</td>\n",
       "</tr>\n",
       "<tr>\n",
       "  <th>xgboost</th>                                                        <td>   -0.1413</td> <td>    0.089</td> <td>   -1.587</td> <td> 0.113</td> <td>   -0.316</td> <td>    0.033</td>\n",
       "</tr>\n",
       "<tr>\n",
       "  <th>fsi_category_Alert X transformer</th>                               <td>    0.1179</td> <td>    0.063</td> <td>    1.872</td> <td> 0.061</td> <td>   -0.006</td> <td>    0.241</td>\n",
       "</tr>\n",
       "<tr>\n",
       "  <th>fsi_category_Alert X xgboost</th>                                   <td>    0.2342</td> <td>    0.062</td> <td>    3.751</td> <td> 0.000</td> <td>    0.112</td> <td>    0.357</td>\n",
       "</tr>\n",
       "<tr>\n",
       "  <th>fsi_category_Sustainable X transformer</th>                         <td>   -0.0611</td> <td>    0.045</td> <td>   -1.373</td> <td> 0.170</td> <td>   -0.148</td> <td>    0.026</td>\n",
       "</tr>\n",
       "<tr>\n",
       "  <th>fsi_category_Sustainable X xgboost</th>                             <td>   -0.0183</td> <td>    0.045</td> <td>   -0.410</td> <td> 0.682</td> <td>   -0.106</td> <td>    0.069</td>\n",
       "</tr>\n",
       "<tr>\n",
       "  <th>fsi_category_Warning X transformer</th>                             <td>    0.0938</td> <td>    0.044</td> <td>    2.112</td> <td> 0.035</td> <td>    0.007</td> <td>    0.181</td>\n",
       "</tr>\n",
       "<tr>\n",
       "  <th>fsi_category_Warning X xgboost</th>                                 <td>    0.1943</td> <td>    0.044</td> <td>    4.396</td> <td> 0.000</td> <td>    0.108</td> <td>    0.281</td>\n",
       "</tr>\n",
       "<tr>\n",
       "  <th>hdr_hdicode_High X transformer</th>                                 <td>   -0.0577</td> <td>    0.072</td> <td>   -0.802</td> <td> 0.423</td> <td>   -0.199</td> <td>    0.084</td>\n",
       "</tr>\n",
       "<tr>\n",
       "  <th>hdr_hdicode_High X xgboost</th>                                     <td>   -0.0361</td> <td>    0.072</td> <td>   -0.503</td> <td> 0.615</td> <td>   -0.177</td> <td>    0.105</td>\n",
       "</tr>\n",
       "<tr>\n",
       "  <th>hdr_hdicode_Very High X transformer</th>                            <td>    0.0422</td> <td>    0.086</td> <td>    0.491</td> <td> 0.624</td> <td>   -0.126</td> <td>    0.211</td>\n",
       "</tr>\n",
       "<tr>\n",
       "  <th>hdr_hdicode_Very High X xgboost</th>                                <td>    0.0581</td> <td>    0.086</td> <td>    0.680</td> <td> 0.497</td> <td>   -0.110</td> <td>    0.226</td>\n",
       "</tr>\n",
       "<tr>\n",
       "  <th>hdr_hdicode_Medium X transformer</th>                               <td>   -0.1007</td> <td>    0.068</td> <td>   -1.472</td> <td> 0.141</td> <td>   -0.235</td> <td>    0.034</td>\n",
       "</tr>\n",
       "<tr>\n",
       "  <th>hdr_hdicode_Medium X xgboost</th>                                   <td>   -0.0434</td> <td>    0.068</td> <td>   -0.639</td> <td> 0.523</td> <td>   -0.177</td> <td>    0.090</td>\n",
       "</tr>\n",
       "<tr>\n",
       "  <th>hdr_region_AS X transformer</th>                                    <td>   -0.0376</td> <td>    0.043</td> <td>   -0.871</td> <td> 0.384</td> <td>   -0.122</td> <td>    0.047</td>\n",
       "</tr>\n",
       "<tr>\n",
       "  <th>hdr_region_AS X xgboost</th>                                        <td>   -0.0396</td> <td>    0.043</td> <td>   -0.910</td> <td> 0.363</td> <td>   -0.125</td> <td>    0.046</td>\n",
       "</tr>\n",
       "<tr>\n",
       "  <th>hdr_region_EAP X transformer</th>                                   <td>    0.0241</td> <td>    0.051</td> <td>    0.467</td> <td> 0.640</td> <td>   -0.077</td> <td>    0.125</td>\n",
       "</tr>\n",
       "<tr>\n",
       "  <th>hdr_region_EAP X xgboost</th>                                       <td>   -0.0566</td> <td>    0.051</td> <td>   -1.103</td> <td> 0.270</td> <td>   -0.157</td> <td>    0.044</td>\n",
       "</tr>\n",
       "<tr>\n",
       "  <th>hdr_region_ECA X transformer</th>                                   <td>    0.0024</td> <td>    0.049</td> <td>    0.049</td> <td> 0.961</td> <td>   -0.095</td> <td>    0.099</td>\n",
       "</tr>\n",
       "<tr>\n",
       "  <th>hdr_region_ECA X xgboost</th>                                       <td>   -0.0329</td> <td>    0.049</td> <td>   -0.666</td> <td> 0.506</td> <td>   -0.130</td> <td>    0.064</td>\n",
       "</tr>\n",
       "<tr>\n",
       "  <th>hdr_region_LAC X transformer</th>                                   <td>    0.0085</td> <td>    0.039</td> <td>    0.221</td> <td> 0.825</td> <td>   -0.067</td> <td>    0.085</td>\n",
       "</tr>\n",
       "<tr>\n",
       "  <th>hdr_region_LAC X xgboost</th>                                       <td>    0.0628</td> <td>    0.039</td> <td>    1.595</td> <td> 0.111</td> <td>   -0.014</td> <td>    0.140</td>\n",
       "</tr>\n",
       "<tr>\n",
       "  <th>hdr_region_SA X transformer</th>                                    <td>    0.0874</td> <td>    0.054</td> <td>    1.623</td> <td> 0.105</td> <td>   -0.018</td> <td>    0.193</td>\n",
       "</tr>\n",
       "<tr>\n",
       "  <th>hdr_region_SA X xgboost</th>                                        <td>   -0.0586</td> <td>    0.054</td> <td>   -1.088</td> <td> 0.277</td> <td>   -0.164</td> <td>    0.047</td>\n",
       "</tr>\n",
       "<tr>\n",
       "  <th>wbi_income_group_Low income X transformer</th>                      <td>   -0.1148</td> <td>    0.139</td> <td>   -0.825</td> <td> 0.410</td> <td>   -0.388</td> <td>    0.158</td>\n",
       "</tr>\n",
       "<tr>\n",
       "  <th>wbi_income_group_Low income X xgboost</th>                          <td>   -0.0685</td> <td>    0.139</td> <td>   -0.491</td> <td> 0.623</td> <td>   -0.342</td> <td>    0.205</td>\n",
       "</tr>\n",
       "<tr>\n",
       "  <th>wbi_income_group_Lower middle income X transformer</th>             <td>    0.1115</td> <td>    0.077</td> <td>    1.440</td> <td> 0.150</td> <td>   -0.040</td> <td>    0.264</td>\n",
       "</tr>\n",
       "<tr>\n",
       "  <th>wbi_income_group_Lower middle income X xgboost</th>                 <td>    0.1636</td> <td>    0.077</td> <td>    2.115</td> <td> 0.035</td> <td>    0.012</td> <td>    0.315</td>\n",
       "</tr>\n",
       "<tr>\n",
       "  <th>wbi_income_group_Upper middle income X transformer</th>             <td>    0.0597</td> <td>    0.062</td> <td>    0.959</td> <td> 0.338</td> <td>   -0.062</td> <td>    0.182</td>\n",
       "</tr>\n",
       "<tr>\n",
       "  <th>wbi_income_group_Upper middle income X xgboost</th>                 <td>    0.0878</td> <td>    0.062</td> <td>    1.417</td> <td> 0.157</td> <td>   -0.034</td> <td>    0.209</td>\n",
       "</tr>\n",
       "<tr>\n",
       "  <th>wbi_lending_category_Blend X transformer</th>                       <td>   -0.0677</td> <td>    0.066</td> <td>   -1.019</td> <td> 0.308</td> <td>   -0.198</td> <td>    0.063</td>\n",
       "</tr>\n",
       "<tr>\n",
       "  <th>wbi_lending_category_Blend X xgboost</th>                           <td>   -0.0476</td> <td>    0.066</td> <td>   -0.723</td> <td> 0.470</td> <td>   -0.177</td> <td>    0.082</td>\n",
       "</tr>\n",
       "<tr>\n",
       "  <th>wbi_lending_category_IDA X transformer</th>                         <td>   -0.0926</td> <td>    0.048</td> <td>   -1.946</td> <td> 0.052</td> <td>   -0.186</td> <td>    0.001</td>\n",
       "</tr>\n",
       "<tr>\n",
       "  <th>wbi_lending_category_IDA X xgboost</th>                             <td>   -0.0330</td> <td>    0.046</td> <td>   -0.709</td> <td> 0.479</td> <td>   -0.124</td> <td>    0.058</td>\n",
       "</tr>\n",
       "<tr>\n",
       "  <th>wbi_other_(emu_or_hipc)_EMU X transformer</th>                      <td>   -0.0318</td> <td>    0.043</td> <td>   -0.733</td> <td> 0.464</td> <td>   -0.117</td> <td>    0.053</td>\n",
       "</tr>\n",
       "<tr>\n",
       "  <th>wbi_other_(emu_or_hipc)_EMU X xgboost</th>                          <td>    0.0287</td> <td>    0.043</td> <td>    0.659</td> <td> 0.510</td> <td>   -0.057</td> <td>    0.114</td>\n",
       "</tr>\n",
       "<tr>\n",
       "  <th>transformer X predicts1</th>                                        <td>   -0.1524</td> <td>    0.138</td> <td>   -1.101</td> <td> 0.271</td> <td>   -0.424</td> <td>    0.119</td>\n",
       "</tr>\n",
       "<tr>\n",
       "  <th>xgboost X predicts1</th>                                            <td>   -0.2647</td> <td>    0.136</td> <td>   -1.946</td> <td> 0.052</td> <td>   -0.532</td> <td>    0.002</td>\n",
       "</tr>\n",
       "<tr>\n",
       "  <th>fsi_category_Warning X transformer X predicts1</th>                 <td>    0.0886</td> <td>    0.075</td> <td>    1.189</td> <td> 0.235</td> <td>   -0.058</td> <td>    0.235</td>\n",
       "</tr>\n",
       "<tr>\n",
       "  <th>fsi_category_Warning X xgboost X predicts1</th>                     <td>    0.1152</td> <td>    0.076</td> <td>    1.519</td> <td> 0.129</td> <td>   -0.034</td> <td>    0.264</td>\n",
       "</tr>\n",
       "<tr>\n",
       "  <th>hdr_hdicode_Medium X transformer X predicts1</th>                   <td>    0.1388</td> <td>    0.092</td> <td>    1.503</td> <td> 0.133</td> <td>   -0.042</td> <td>    0.320</td>\n",
       "</tr>\n",
       "<tr>\n",
       "  <th>hdr_hdicode_Medium X xgboost X predicts1</th>                       <td>    0.1538</td> <td>    0.095</td> <td>    1.618</td> <td> 0.106</td> <td>   -0.033</td> <td>    0.340</td>\n",
       "</tr>\n",
       "<tr>\n",
       "  <th>wbi_income_group_Lower middle income X transformer X predicts1</th> <td>   -0.2274</td> <td>    0.137</td> <td>   -1.663</td> <td> 0.097</td> <td>   -0.496</td> <td>    0.041</td>\n",
       "</tr>\n",
       "<tr>\n",
       "  <th>wbi_income_group_Lower middle income X xgboost X predicts1</th>     <td>   -0.2426</td> <td>    0.137</td> <td>   -1.776</td> <td> 0.076</td> <td>   -0.511</td> <td>    0.025</td>\n",
       "</tr>\n",
       "<tr>\n",
       "  <th>wbi_lending_category_IDA X transformer X predicts1</th>             <td>    0.1543</td> <td>    0.063</td> <td>    2.431</td> <td> 0.015</td> <td>    0.030</td> <td>    0.279</td>\n",
       "</tr>\n",
       "</table>\n",
       "<table class=\"simpletable\">\n",
       "<tr>\n",
       "  <th>Omnibus:</th>       <td>23.754</td> <th>  Durbin-Watson:     </th> <td>   1.473</td>\n",
       "</tr>\n",
       "<tr>\n",
       "  <th>Prob(Omnibus):</th> <td> 0.000</td> <th>  Jarque-Bera (JB):  </th> <td>  47.548</td>\n",
       "</tr>\n",
       "<tr>\n",
       "  <th>Skew:</th>          <td> 0.046</td> <th>  Prob(JB):          </th> <td>4.73e-11</td>\n",
       "</tr>\n",
       "<tr>\n",
       "  <th>Kurtosis:</th>      <td> 4.018</td> <th>  Cond. No.          </th> <td>    125.</td>\n",
       "</tr>\n",
       "</table><br/><br/>Notes:<br/>[1] Standard Errors assume that the covariance matrix of the errors is correctly specified."
      ],
      "text/plain": [
       "<class 'statsmodels.iolib.summary.Summary'>\n",
       "\"\"\"\n",
       "                            OLS Regression Results                            \n",
       "==============================================================================\n",
       "Dep. Variable:                  error   R-squared:                       0.402\n",
       "Model:                            OLS   Adj. R-squared:                  0.358\n",
       "Method:                 Least Squares   F-statistic:                     9.114\n",
       "Date:                Tue, 05 Dec 2023   Prob (F-statistic):           1.21e-71\n",
       "Time:                        22:24:28   Log-Likelihood:                 614.65\n",
       "No. Observations:                1092   AIC:                            -1077.\n",
       "Df Residuals:                    1016   BIC:                            -697.6\n",
       "Df Model:                          75                                         \n",
       "Covariance Type:            nonrobust                                         \n",
       "==================================================================================================================================\n",
       "                                                                     coef    std err          t      P>|t|      [0.025      0.975]\n",
       "----------------------------------------------------------------------------------------------------------------------------------\n",
       "const                                                              0.2903      0.071      4.115      0.000       0.152       0.429\n",
       "predicts1                                                          0.7280      0.141      5.174      0.000       0.452       1.004\n",
       "fsi_category_Alert                                                 0.0549      0.047      1.158      0.247      -0.038       0.148\n",
       "fsi_category_Sustainable                                          -0.0106      0.032     -0.337      0.736      -0.073       0.051\n",
       "fsi_category_Warning                                               0.0277      0.031      0.901      0.368      -0.033       0.088\n",
       "hdr_hdicode_High                                                   0.0490      0.059      0.829      0.407      -0.067       0.165\n",
       "hdr_hdicode_Very High                                              0.0431      0.068      0.634      0.526      -0.090       0.176\n",
       "hdr_hdicode_Medium                                                 0.0905      0.059      1.537      0.125      -0.025       0.206\n",
       "hdr_region_AS                                                      0.0048      0.033      0.146      0.884      -0.060       0.070\n",
       "hdr_region_EAP                                                    -0.0120      0.037     -0.321      0.748      -0.085       0.061\n",
       "hdr_region_ECA                                                    -0.0756      0.036     -2.113      0.035      -0.146      -0.005\n",
       "hdr_region_LAC                                                     0.0202      0.028      0.722      0.470      -0.035       0.075\n",
       "hdr_region_SA                                                     -0.0107      0.039     -0.276      0.783      -0.087       0.066\n",
       "wbi_income_group_Low income                                        0.2714      0.129      2.098      0.036       0.018       0.525\n",
       "wbi_income_group_Lower middle income                               0.0415      0.056      0.742      0.458      -0.068       0.151\n",
       "wbi_income_group_Upper middle income                               0.0328      0.045      0.737      0.461      -0.055       0.120\n",
       "wbi_lending_category_Blend                                         0.0717      0.056      1.282      0.200      -0.038       0.181\n",
       "wbi_lending_category_IDA                                          -0.0014      0.034     -0.040      0.968      -0.069       0.066\n",
       "wbi_other_(emu_or_hipc)_EMU                                        0.0033      0.031      0.106      0.916      -0.057       0.064\n",
       "fsi_category_Alert X predicts1                                    -0.2927      0.082     -3.566      0.000      -0.454      -0.132\n",
       "fsi_category_Warning X predicts1                                  -0.3239      0.093     -3.467      0.001      -0.507      -0.141\n",
       "hdr_hdicode_High X predicts1                                       0.0048      0.070      0.068      0.946      -0.132       0.142\n",
       "hdr_hdicode_Very High X predicts1                                 -0.2311      0.101     -2.290      0.022      -0.429      -0.033\n",
       "hdr_hdicode_Medium X predicts1                                    -0.1259      0.071     -1.765      0.078      -0.266       0.014\n",
       "hdr_region_AS X predicts1                                          0.0275      0.043      0.638      0.523      -0.057       0.112\n",
       "hdr_region_LAC X predicts1                                        -0.0585      0.046     -1.267      0.205      -0.149       0.032\n",
       "wbi_income_group_Low income X predicts1                           -0.4734      0.119     -3.988      0.000      -0.706      -0.240\n",
       "wbi_income_group_Lower middle income X predicts1                  -0.2073      0.132     -1.572      0.116      -0.466       0.051\n",
       "wbi_income_group_Upper middle income X predicts1                  -0.2875      0.093     -3.078      0.002      -0.471      -0.104\n",
       "wbi_lending_category_Blend X predicts1                            -0.1399      0.063     -2.208      0.027      -0.264      -0.016\n",
       "wbi_lending_category_IDA X predicts1                              -0.0189      0.059     -0.318      0.751      -0.135       0.098\n",
       "transformer                                                       -0.0238      0.089     -0.267      0.790      -0.199       0.151\n",
       "xgboost                                                           -0.1413      0.089     -1.587      0.113      -0.316       0.033\n",
       "fsi_category_Alert X transformer                                   0.1179      0.063      1.872      0.061      -0.006       0.241\n",
       "fsi_category_Alert X xgboost                                       0.2342      0.062      3.751      0.000       0.112       0.357\n",
       "fsi_category_Sustainable X transformer                            -0.0611      0.045     -1.373      0.170      -0.148       0.026\n",
       "fsi_category_Sustainable X xgboost                                -0.0183      0.045     -0.410      0.682      -0.106       0.069\n",
       "fsi_category_Warning X transformer                                 0.0938      0.044      2.112      0.035       0.007       0.181\n",
       "fsi_category_Warning X xgboost                                     0.1943      0.044      4.396      0.000       0.108       0.281\n",
       "hdr_hdicode_High X transformer                                    -0.0577      0.072     -0.802      0.423      -0.199       0.084\n",
       "hdr_hdicode_High X xgboost                                        -0.0361      0.072     -0.503      0.615      -0.177       0.105\n",
       "hdr_hdicode_Very High X transformer                                0.0422      0.086      0.491      0.624      -0.126       0.211\n",
       "hdr_hdicode_Very High X xgboost                                    0.0581      0.086      0.680      0.497      -0.110       0.226\n",
       "hdr_hdicode_Medium X transformer                                  -0.1007      0.068     -1.472      0.141      -0.235       0.034\n",
       "hdr_hdicode_Medium X xgboost                                      -0.0434      0.068     -0.639      0.523      -0.177       0.090\n",
       "hdr_region_AS X transformer                                       -0.0376      0.043     -0.871      0.384      -0.122       0.047\n",
       "hdr_region_AS X xgboost                                           -0.0396      0.043     -0.910      0.363      -0.125       0.046\n",
       "hdr_region_EAP X transformer                                       0.0241      0.051      0.467      0.640      -0.077       0.125\n",
       "hdr_region_EAP X xgboost                                          -0.0566      0.051     -1.103      0.270      -0.157       0.044\n",
       "hdr_region_ECA X transformer                                       0.0024      0.049      0.049      0.961      -0.095       0.099\n",
       "hdr_region_ECA X xgboost                                          -0.0329      0.049     -0.666      0.506      -0.130       0.064\n",
       "hdr_region_LAC X transformer                                       0.0085      0.039      0.221      0.825      -0.067       0.085\n",
       "hdr_region_LAC X xgboost                                           0.0628      0.039      1.595      0.111      -0.014       0.140\n",
       "hdr_region_SA X transformer                                        0.0874      0.054      1.623      0.105      -0.018       0.193\n",
       "hdr_region_SA X xgboost                                           -0.0586      0.054     -1.088      0.277      -0.164       0.047\n",
       "wbi_income_group_Low income X transformer                         -0.1148      0.139     -0.825      0.410      -0.388       0.158\n",
       "wbi_income_group_Low income X xgboost                             -0.0685      0.139     -0.491      0.623      -0.342       0.205\n",
       "wbi_income_group_Lower middle income X transformer                 0.1115      0.077      1.440      0.150      -0.040       0.264\n",
       "wbi_income_group_Lower middle income X xgboost                     0.1636      0.077      2.115      0.035       0.012       0.315\n",
       "wbi_income_group_Upper middle income X transformer                 0.0597      0.062      0.959      0.338      -0.062       0.182\n",
       "wbi_income_group_Upper middle income X xgboost                     0.0878      0.062      1.417      0.157      -0.034       0.209\n",
       "wbi_lending_category_Blend X transformer                          -0.0677      0.066     -1.019      0.308      -0.198       0.063\n",
       "wbi_lending_category_Blend X xgboost                              -0.0476      0.066     -0.723      0.470      -0.177       0.082\n",
       "wbi_lending_category_IDA X transformer                            -0.0926      0.048     -1.946      0.052      -0.186       0.001\n",
       "wbi_lending_category_IDA X xgboost                                -0.0330      0.046     -0.709      0.479      -0.124       0.058\n",
       "wbi_other_(emu_or_hipc)_EMU X transformer                         -0.0318      0.043     -0.733      0.464      -0.117       0.053\n",
       "wbi_other_(emu_or_hipc)_EMU X xgboost                              0.0287      0.043      0.659      0.510      -0.057       0.114\n",
       "transformer X predicts1                                           -0.1524      0.138     -1.101      0.271      -0.424       0.119\n",
       "xgboost X predicts1                                               -0.2647      0.136     -1.946      0.052      -0.532       0.002\n",
       "fsi_category_Warning X transformer X predicts1                     0.0886      0.075      1.189      0.235      -0.058       0.235\n",
       "fsi_category_Warning X xgboost X predicts1                         0.1152      0.076      1.519      0.129      -0.034       0.264\n",
       "hdr_hdicode_Medium X transformer X predicts1                       0.1388      0.092      1.503      0.133      -0.042       0.320\n",
       "hdr_hdicode_Medium X xgboost X predicts1                           0.1538      0.095      1.618      0.106      -0.033       0.340\n",
       "wbi_income_group_Lower middle income X transformer X predicts1    -0.2274      0.137     -1.663      0.097      -0.496       0.041\n",
       "wbi_income_group_Lower middle income X xgboost X predicts1        -0.2426      0.137     -1.776      0.076      -0.511       0.025\n",
       "wbi_lending_category_IDA X transformer X predicts1                 0.1543      0.063      2.431      0.015       0.030       0.279\n",
       "==============================================================================\n",
       "Omnibus:                       23.754   Durbin-Watson:                   1.473\n",
       "Prob(Omnibus):                  0.000   Jarque-Bera (JB):               47.548\n",
       "Skew:                           0.046   Prob(JB):                     4.73e-11\n",
       "Kurtosis:                       4.018   Cond. No.                         125.\n",
       "==============================================================================\n",
       "\n",
       "Notes:\n",
       "[1] Standard Errors assume that the covariance matrix of the errors is correctly specified.\n",
       "\"\"\""
      ]
     },
     "execution_count": 34,
     "metadata": {},
     "output_type": "execute_result"
    }
   ],
   "source": [
    "model_1_variables = design_matrix.loc[:,design_matrix.sum()>16].columns.tolist()\n",
    "model_1 = sm.OLS(y, sm.add_constant(design_matrix[model_1_variables]))\n",
    "model_1.fit().summary()"
   ]
  },
  {
   "cell_type": "code",
   "execution_count": 38,
   "id": "c8c0e10d",
   "metadata": {},
   "outputs": [
    {
     "data": {
      "text/html": [
       "<table class=\"simpletable\">\n",
       "<caption>OLS Regression Results</caption>\n",
       "<tr>\n",
       "  <th>Dep. Variable:</th>          <td>error</td>      <th>  R-squared:         </th> <td>   0.396</td>\n",
       "</tr>\n",
       "<tr>\n",
       "  <th>Model:</th>                   <td>OLS</td>       <th>  Adj. R-squared:    </th> <td>   0.367</td>\n",
       "</tr>\n",
       "<tr>\n",
       "  <th>Method:</th>             <td>Least Squares</td>  <th>  F-statistic:       </th> <td>   13.38</td>\n",
       "</tr>\n",
       "<tr>\n",
       "  <th>Date:</th>             <td>Tue, 05 Dec 2023</td> <th>  Prob (F-statistic):</th> <td>3.80e-82</td>\n",
       "</tr>\n",
       "<tr>\n",
       "  <th>Time:</th>                 <td>22:37:18</td>     <th>  Log-Likelihood:    </th> <td>  609.13</td>\n",
       "</tr>\n",
       "<tr>\n",
       "  <th>No. Observations:</th>      <td>  1092</td>      <th>  AIC:               </th> <td>  -1114.</td>\n",
       "</tr>\n",
       "<tr>\n",
       "  <th>Df Residuals:</th>          <td>  1040</td>      <th>  BIC:               </th> <td>  -854.5</td>\n",
       "</tr>\n",
       "<tr>\n",
       "  <th>Df Model:</th>              <td>    51</td>      <th>                     </th>     <td> </td>   \n",
       "</tr>\n",
       "<tr>\n",
       "  <th>Covariance Type:</th>      <td>nonrobust</td>    <th>                     </th>     <td> </td>   \n",
       "</tr>\n",
       "</table>\n",
       "<table class=\"simpletable\">\n",
       "<tr>\n",
       "                                 <td></td>                                   <th>coef</th>     <th>std err</th>      <th>t</th>      <th>P>|t|</th>  <th>[0.025</th>    <th>0.975]</th>  \n",
       "</tr>\n",
       "<tr>\n",
       "  <th>const</th>                                                          <td>    0.3417</td> <td>    0.011</td> <td>   30.006</td> <td> 0.000</td> <td>    0.319</td> <td>    0.364</td>\n",
       "</tr>\n",
       "<tr>\n",
       "  <th>predicts1</th>                                                      <td>    0.6593</td> <td>    0.110</td> <td>    6.003</td> <td> 0.000</td> <td>    0.444</td> <td>    0.875</td>\n",
       "</tr>\n",
       "<tr>\n",
       "  <th>fsi_category_Alert</th>                                             <td>    0.0802</td> <td>    0.033</td> <td>    2.462</td> <td> 0.014</td> <td>    0.016</td> <td>    0.144</td>\n",
       "</tr>\n",
       "<tr>\n",
       "  <th>fsi_category_Warning</th>                                           <td>    0.0517</td> <td>    0.018</td> <td>    2.835</td> <td> 0.005</td> <td>    0.016</td> <td>    0.088</td>\n",
       "</tr>\n",
       "<tr>\n",
       "  <th>hdr_hdicode_Medium</th>                                             <td>    0.0476</td> <td>    0.017</td> <td>    2.809</td> <td> 0.005</td> <td>    0.014</td> <td>    0.081</td>\n",
       "</tr>\n",
       "<tr>\n",
       "  <th>hdr_region_ECA</th>                                                 <td>   -0.0735</td> <td>    0.017</td> <td>   -4.341</td> <td> 0.000</td> <td>   -0.107</td> <td>   -0.040</td>\n",
       "</tr>\n",
       "<tr>\n",
       "  <th>hdr_region_LAC</th>                                                 <td>    0.0251</td> <td>    0.016</td> <td>    1.565</td> <td> 0.118</td> <td>   -0.006</td> <td>    0.057</td>\n",
       "</tr>\n",
       "<tr>\n",
       "  <th>wbi_income_group_Low income</th>                                    <td>    0.1929</td> <td>    0.052</td> <td>    3.688</td> <td> 0.000</td> <td>    0.090</td> <td>    0.295</td>\n",
       "</tr>\n",
       "<tr>\n",
       "  <th>wbi_lending_category_Blend</th>                                     <td>    0.0800</td> <td>    0.052</td> <td>    1.547</td> <td> 0.122</td> <td>   -0.021</td> <td>    0.181</td>\n",
       "</tr>\n",
       "<tr>\n",
       "  <th>fsi_category_Alert X predicts1</th>                                 <td>   -0.2597</td> <td>    0.075</td> <td>   -3.448</td> <td> 0.001</td> <td>   -0.407</td> <td>   -0.112</td>\n",
       "</tr>\n",
       "<tr>\n",
       "  <th>fsi_category_Warning X predicts1</th>                               <td>   -0.2978</td> <td>    0.088</td> <td>   -3.394</td> <td> 0.001</td> <td>   -0.470</td> <td>   -0.126</td>\n",
       "</tr>\n",
       "<tr>\n",
       "  <th>hdr_hdicode_Very High X predicts1</th>                              <td>   -0.1816</td> <td>    0.082</td> <td>   -2.207</td> <td> 0.028</td> <td>   -0.343</td> <td>   -0.020</td>\n",
       "</tr>\n",
       "<tr>\n",
       "  <th>hdr_hdicode_Medium X predicts1</th>                                 <td>   -0.0755</td> <td>    0.042</td> <td>   -1.790</td> <td> 0.074</td> <td>   -0.158</td> <td>    0.007</td>\n",
       "</tr>\n",
       "<tr>\n",
       "  <th>hdr_region_LAC X predicts1</th>                                     <td>   -0.0611</td> <td>    0.045</td> <td>   -1.367</td> <td> 0.172</td> <td>   -0.149</td> <td>    0.027</td>\n",
       "</tr>\n",
       "<tr>\n",
       "  <th>wbi_income_group_Low income X predicts1</th>                        <td>   -0.4511</td> <td>    0.098</td> <td>   -4.620</td> <td> 0.000</td> <td>   -0.643</td> <td>   -0.260</td>\n",
       "</tr>\n",
       "<tr>\n",
       "  <th>wbi_income_group_Lower middle income X predicts1</th>               <td>   -0.2178</td> <td>    0.099</td> <td>   -2.197</td> <td> 0.028</td> <td>   -0.412</td> <td>   -0.023</td>\n",
       "</tr>\n",
       "<tr>\n",
       "  <th>wbi_income_group_Upper middle income X predicts1</th>               <td>   -0.2516</td> <td>    0.087</td> <td>   -2.902</td> <td> 0.004</td> <td>   -0.422</td> <td>   -0.081</td>\n",
       "</tr>\n",
       "<tr>\n",
       "  <th>wbi_lending_category_Blend X predicts1</th>                         <td>   -0.1415</td> <td>    0.051</td> <td>   -2.782</td> <td> 0.005</td> <td>   -0.241</td> <td>   -0.042</td>\n",
       "</tr>\n",
       "<tr>\n",
       "  <th>xgboost</th>                                                        <td>   -0.1698</td> <td>    0.039</td> <td>   -4.392</td> <td> 0.000</td> <td>   -0.246</td> <td>   -0.094</td>\n",
       "</tr>\n",
       "<tr>\n",
       "  <th>fsi_category_Alert X transformer</th>                               <td>    0.0818</td> <td>    0.052</td> <td>    1.572</td> <td> 0.116</td> <td>   -0.020</td> <td>    0.184</td>\n",
       "</tr>\n",
       "<tr>\n",
       "  <th>fsi_category_Alert X xgboost</th>                                   <td>    0.2003</td> <td>    0.051</td> <td>    3.936</td> <td> 0.000</td> <td>    0.100</td> <td>    0.300</td>\n",
       "</tr>\n",
       "<tr>\n",
       "  <th>fsi_category_Sustainable X transformer</th>                         <td>   -0.0661</td> <td>    0.029</td> <td>   -2.259</td> <td> 0.024</td> <td>   -0.123</td> <td>   -0.009</td>\n",
       "</tr>\n",
       "<tr>\n",
       "  <th>fsi_category_Warning X transformer</th>                             <td>    0.0649</td> <td>    0.036</td> <td>    1.822</td> <td> 0.069</td> <td>   -0.005</td> <td>    0.135</td>\n",
       "</tr>\n",
       "<tr>\n",
       "  <th>fsi_category_Warning X xgboost</th>                                 <td>    0.1620</td> <td>    0.036</td> <td>    4.545</td> <td> 0.000</td> <td>    0.092</td> <td>    0.232</td>\n",
       "</tr>\n",
       "<tr>\n",
       "  <th>hdr_hdicode_High X transformer</th>                                 <td>   -0.0526</td> <td>    0.027</td> <td>   -1.984</td> <td> 0.048</td> <td>   -0.105</td> <td>   -0.001</td>\n",
       "</tr>\n",
       "<tr>\n",
       "  <th>hdr_hdicode_Very High X xgboost</th>                                <td>    0.0795</td> <td>    0.034</td> <td>    2.360</td> <td> 0.018</td> <td>    0.013</td> <td>    0.146</td>\n",
       "</tr>\n",
       "<tr>\n",
       "  <th>hdr_hdicode_Medium X transformer</th>                               <td>   -0.0892</td> <td>    0.033</td> <td>   -2.713</td> <td> 0.007</td> <td>   -0.154</td> <td>   -0.025</td>\n",
       "</tr>\n",
       "<tr>\n",
       "  <th>hdr_region_AS X transformer</th>                                    <td>   -0.0264</td> <td>    0.027</td> <td>   -0.980</td> <td> 0.328</td> <td>   -0.079</td> <td>    0.027</td>\n",
       "</tr>\n",
       "<tr>\n",
       "  <th>hdr_region_AS X xgboost</th>                                        <td>   -0.0242</td> <td>    0.027</td> <td>   -0.879</td> <td> 0.380</td> <td>   -0.078</td> <td>    0.030</td>\n",
       "</tr>\n",
       "<tr>\n",
       "  <th>hdr_region_EAP X xgboost</th>                                       <td>   -0.0552</td> <td>    0.032</td> <td>   -1.750</td> <td> 0.080</td> <td>   -0.117</td> <td>    0.007</td>\n",
       "</tr>\n",
       "<tr>\n",
       "  <th>hdr_region_LAC X xgboost</th>                                       <td>    0.0687</td> <td>    0.028</td> <td>    2.441</td> <td> 0.015</td> <td>    0.013</td> <td>    0.124</td>\n",
       "</tr>\n",
       "<tr>\n",
       "  <th>hdr_region_SA X transformer</th>                                    <td>    0.0774</td> <td>    0.035</td> <td>    2.191</td> <td> 0.029</td> <td>    0.008</td> <td>    0.147</td>\n",
       "</tr>\n",
       "<tr>\n",
       "  <th>hdr_region_SA X xgboost</th>                                        <td>   -0.0600</td> <td>    0.036</td> <td>   -1.670</td> <td> 0.095</td> <td>   -0.130</td> <td>    0.010</td>\n",
       "</tr>\n",
       "<tr>\n",
       "  <th>wbi_income_group_Low income X transformer</th>                      <td>   -0.0841</td> <td>    0.069</td> <td>   -1.215</td> <td> 0.225</td> <td>   -0.220</td> <td>    0.052</td>\n",
       "</tr>\n",
       "<tr>\n",
       "  <th>wbi_income_group_Lower middle income X transformer</th>             <td>    0.1235</td> <td>    0.041</td> <td>    2.983</td> <td> 0.003</td> <td>    0.042</td> <td>    0.205</td>\n",
       "</tr>\n",
       "<tr>\n",
       "  <th>wbi_income_group_Lower middle income X xgboost</th>                 <td>    0.1860</td> <td>    0.047</td> <td>    3.953</td> <td> 0.000</td> <td>    0.094</td> <td>    0.278</td>\n",
       "</tr>\n",
       "<tr>\n",
       "  <th>wbi_income_group_Upper middle income X transformer</th>             <td>    0.0747</td> <td>    0.034</td> <td>    2.175</td> <td> 0.030</td> <td>    0.007</td> <td>    0.142</td>\n",
       "</tr>\n",
       "<tr>\n",
       "  <th>wbi_income_group_Upper middle income X xgboost</th>                 <td>    0.1020</td> <td>    0.038</td> <td>    2.690</td> <td> 0.007</td> <td>    0.028</td> <td>    0.176</td>\n",
       "</tr>\n",
       "<tr>\n",
       "  <th>wbi_lending_category_Blend X transformer</th>                       <td>   -0.0903</td> <td>    0.062</td> <td>   -1.466</td> <td> 0.143</td> <td>   -0.211</td> <td>    0.031</td>\n",
       "</tr>\n",
       "<tr>\n",
       "  <th>wbi_lending_category_Blend X xgboost</th>                           <td>   -0.0554</td> <td>    0.061</td> <td>   -0.907</td> <td> 0.364</td> <td>   -0.175</td> <td>    0.064</td>\n",
       "</tr>\n",
       "<tr>\n",
       "  <th>wbi_lending_category_IDA X transformer</th>                         <td>   -0.1098</td> <td>    0.032</td> <td>   -3.397</td> <td> 0.001</td> <td>   -0.173</td> <td>   -0.046</td>\n",
       "</tr>\n",
       "<tr>\n",
       "  <th>wbi_lending_category_IDA X xgboost</th>                             <td>   -0.0416</td> <td>    0.030</td> <td>   -1.378</td> <td> 0.169</td> <td>   -0.101</td> <td>    0.018</td>\n",
       "</tr>\n",
       "<tr>\n",
       "  <th>wbi_other_(emu_or_hipc)_EMU X transformer</th>                      <td>   -0.0214</td> <td>    0.027</td> <td>   -0.786</td> <td> 0.432</td> <td>   -0.075</td> <td>    0.032</td>\n",
       "</tr>\n",
       "<tr>\n",
       "  <th>transformer X predicts1</th>                                        <td>   -0.1324</td> <td>    0.084</td> <td>   -1.574</td> <td> 0.116</td> <td>   -0.298</td> <td>    0.033</td>\n",
       "</tr>\n",
       "<tr>\n",
       "  <th>xgboost X predicts1</th>                                            <td>   -0.2478</td> <td>    0.082</td> <td>   -3.008</td> <td> 0.003</td> <td>   -0.409</td> <td>   -0.086</td>\n",
       "</tr>\n",
       "<tr>\n",
       "  <th>fsi_category_Warning X transformer X predicts1</th>                 <td>    0.0772</td> <td>    0.071</td> <td>    1.084</td> <td> 0.279</td> <td>   -0.063</td> <td>    0.217</td>\n",
       "</tr>\n",
       "<tr>\n",
       "  <th>fsi_category_Warning X xgboost X predicts1</th>                     <td>    0.1118</td> <td>    0.073</td> <td>    1.533</td> <td> 0.126</td> <td>   -0.031</td> <td>    0.255</td>\n",
       "</tr>\n",
       "<tr>\n",
       "  <th>hdr_hdicode_Medium X transformer X predicts1</th>                   <td>    0.0987</td> <td>    0.068</td> <td>    1.457</td> <td> 0.145</td> <td>   -0.034</td> <td>    0.232</td>\n",
       "</tr>\n",
       "<tr>\n",
       "  <th>hdr_hdicode_Medium X xgboost X predicts1</th>                       <td>    0.0985</td> <td>    0.062</td> <td>    1.582</td> <td> 0.114</td> <td>   -0.024</td> <td>    0.221</td>\n",
       "</tr>\n",
       "<tr>\n",
       "  <th>wbi_income_group_Lower middle income X transformer X predicts1</th> <td>   -0.1936</td> <td>    0.085</td> <td>   -2.290</td> <td> 0.022</td> <td>   -0.359</td> <td>   -0.028</td>\n",
       "</tr>\n",
       "<tr>\n",
       "  <th>wbi_income_group_Lower middle income X xgboost X predicts1</th>     <td>   -0.2057</td> <td>    0.085</td> <td>   -2.418</td> <td> 0.016</td> <td>   -0.373</td> <td>   -0.039</td>\n",
       "</tr>\n",
       "<tr>\n",
       "  <th>wbi_lending_category_IDA X transformer X predicts1</th>             <td>    0.1413</td> <td>    0.057</td> <td>    2.475</td> <td> 0.013</td> <td>    0.029</td> <td>    0.253</td>\n",
       "</tr>\n",
       "</table>\n",
       "<table class=\"simpletable\">\n",
       "<tr>\n",
       "  <th>Omnibus:</th>       <td>23.281</td> <th>  Durbin-Watson:     </th> <td>   1.469</td>\n",
       "</tr>\n",
       "<tr>\n",
       "  <th>Prob(Omnibus):</th> <td> 0.000</td> <th>  Jarque-Bera (JB):  </th> <td>  45.460</td>\n",
       "</tr>\n",
       "<tr>\n",
       "  <th>Skew:</th>          <td> 0.064</td> <th>  Prob(JB):          </th> <td>1.34e-10</td>\n",
       "</tr>\n",
       "<tr>\n",
       "  <th>Kurtosis:</th>      <td> 3.991</td> <th>  Cond. No.          </th> <td>    60.1</td>\n",
       "</tr>\n",
       "</table><br/><br/>Notes:<br/>[1] Standard Errors assume that the covariance matrix of the errors is correctly specified."
      ],
      "text/plain": [
       "<class 'statsmodels.iolib.summary.Summary'>\n",
       "\"\"\"\n",
       "                            OLS Regression Results                            \n",
       "==============================================================================\n",
       "Dep. Variable:                  error   R-squared:                       0.396\n",
       "Model:                            OLS   Adj. R-squared:                  0.367\n",
       "Method:                 Least Squares   F-statistic:                     13.38\n",
       "Date:                Tue, 05 Dec 2023   Prob (F-statistic):           3.80e-82\n",
       "Time:                        22:37:18   Log-Likelihood:                 609.13\n",
       "No. Observations:                1092   AIC:                            -1114.\n",
       "Df Residuals:                    1040   BIC:                            -854.5\n",
       "Df Model:                          51                                         \n",
       "Covariance Type:            nonrobust                                         \n",
       "==================================================================================================================================\n",
       "                                                                     coef    std err          t      P>|t|      [0.025      0.975]\n",
       "----------------------------------------------------------------------------------------------------------------------------------\n",
       "const                                                              0.3417      0.011     30.006      0.000       0.319       0.364\n",
       "predicts1                                                          0.6593      0.110      6.003      0.000       0.444       0.875\n",
       "fsi_category_Alert                                                 0.0802      0.033      2.462      0.014       0.016       0.144\n",
       "fsi_category_Warning                                               0.0517      0.018      2.835      0.005       0.016       0.088\n",
       "hdr_hdicode_Medium                                                 0.0476      0.017      2.809      0.005       0.014       0.081\n",
       "hdr_region_ECA                                                    -0.0735      0.017     -4.341      0.000      -0.107      -0.040\n",
       "hdr_region_LAC                                                     0.0251      0.016      1.565      0.118      -0.006       0.057\n",
       "wbi_income_group_Low income                                        0.1929      0.052      3.688      0.000       0.090       0.295\n",
       "wbi_lending_category_Blend                                         0.0800      0.052      1.547      0.122      -0.021       0.181\n",
       "fsi_category_Alert X predicts1                                    -0.2597      0.075     -3.448      0.001      -0.407      -0.112\n",
       "fsi_category_Warning X predicts1                                  -0.2978      0.088     -3.394      0.001      -0.470      -0.126\n",
       "hdr_hdicode_Very High X predicts1                                 -0.1816      0.082     -2.207      0.028      -0.343      -0.020\n",
       "hdr_hdicode_Medium X predicts1                                    -0.0755      0.042     -1.790      0.074      -0.158       0.007\n",
       "hdr_region_LAC X predicts1                                        -0.0611      0.045     -1.367      0.172      -0.149       0.027\n",
       "wbi_income_group_Low income X predicts1                           -0.4511      0.098     -4.620      0.000      -0.643      -0.260\n",
       "wbi_income_group_Lower middle income X predicts1                  -0.2178      0.099     -2.197      0.028      -0.412      -0.023\n",
       "wbi_income_group_Upper middle income X predicts1                  -0.2516      0.087     -2.902      0.004      -0.422      -0.081\n",
       "wbi_lending_category_Blend X predicts1                            -0.1415      0.051     -2.782      0.005      -0.241      -0.042\n",
       "xgboost                                                           -0.1698      0.039     -4.392      0.000      -0.246      -0.094\n",
       "fsi_category_Alert X transformer                                   0.0818      0.052      1.572      0.116      -0.020       0.184\n",
       "fsi_category_Alert X xgboost                                       0.2003      0.051      3.936      0.000       0.100       0.300\n",
       "fsi_category_Sustainable X transformer                            -0.0661      0.029     -2.259      0.024      -0.123      -0.009\n",
       "fsi_category_Warning X transformer                                 0.0649      0.036      1.822      0.069      -0.005       0.135\n",
       "fsi_category_Warning X xgboost                                     0.1620      0.036      4.545      0.000       0.092       0.232\n",
       "hdr_hdicode_High X transformer                                    -0.0526      0.027     -1.984      0.048      -0.105      -0.001\n",
       "hdr_hdicode_Very High X xgboost                                    0.0795      0.034      2.360      0.018       0.013       0.146\n",
       "hdr_hdicode_Medium X transformer                                  -0.0892      0.033     -2.713      0.007      -0.154      -0.025\n",
       "hdr_region_AS X transformer                                       -0.0264      0.027     -0.980      0.328      -0.079       0.027\n",
       "hdr_region_AS X xgboost                                           -0.0242      0.027     -0.879      0.380      -0.078       0.030\n",
       "hdr_region_EAP X xgboost                                          -0.0552      0.032     -1.750      0.080      -0.117       0.007\n",
       "hdr_region_LAC X xgboost                                           0.0687      0.028      2.441      0.015       0.013       0.124\n",
       "hdr_region_SA X transformer                                        0.0774      0.035      2.191      0.029       0.008       0.147\n",
       "hdr_region_SA X xgboost                                           -0.0600      0.036     -1.670      0.095      -0.130       0.010\n",
       "wbi_income_group_Low income X transformer                         -0.0841      0.069     -1.215      0.225      -0.220       0.052\n",
       "wbi_income_group_Lower middle income X transformer                 0.1235      0.041      2.983      0.003       0.042       0.205\n",
       "wbi_income_group_Lower middle income X xgboost                     0.1860      0.047      3.953      0.000       0.094       0.278\n",
       "wbi_income_group_Upper middle income X transformer                 0.0747      0.034      2.175      0.030       0.007       0.142\n",
       "wbi_income_group_Upper middle income X xgboost                     0.1020      0.038      2.690      0.007       0.028       0.176\n",
       "wbi_lending_category_Blend X transformer                          -0.0903      0.062     -1.466      0.143      -0.211       0.031\n",
       "wbi_lending_category_Blend X xgboost                              -0.0554      0.061     -0.907      0.364      -0.175       0.064\n",
       "wbi_lending_category_IDA X transformer                            -0.1098      0.032     -3.397      0.001      -0.173      -0.046\n",
       "wbi_lending_category_IDA X xgboost                                -0.0416      0.030     -1.378      0.169      -0.101       0.018\n",
       "wbi_other_(emu_or_hipc)_EMU X transformer                         -0.0214      0.027     -0.786      0.432      -0.075       0.032\n",
       "transformer X predicts1                                           -0.1324      0.084     -1.574      0.116      -0.298       0.033\n",
       "xgboost X predicts1                                               -0.2478      0.082     -3.008      0.003      -0.409      -0.086\n",
       "fsi_category_Warning X transformer X predicts1                     0.0772      0.071      1.084      0.279      -0.063       0.217\n",
       "fsi_category_Warning X xgboost X predicts1                         0.1118      0.073      1.533      0.126      -0.031       0.255\n",
       "hdr_hdicode_Medium X transformer X predicts1                       0.0987      0.068      1.457      0.145      -0.034       0.232\n",
       "hdr_hdicode_Medium X xgboost X predicts1                           0.0985      0.062      1.582      0.114      -0.024       0.221\n",
       "wbi_income_group_Lower middle income X transformer X predicts1    -0.1936      0.085     -2.290      0.022      -0.359      -0.028\n",
       "wbi_income_group_Lower middle income X xgboost X predicts1        -0.2057      0.085     -2.418      0.016      -0.373      -0.039\n",
       "wbi_lending_category_IDA X transformer X predicts1                 0.1413      0.057      2.475      0.013       0.029       0.253\n",
       "==============================================================================\n",
       "Omnibus:                       23.281   Durbin-Watson:                   1.469\n",
       "Prob(Omnibus):                  0.000   Jarque-Bera (JB):               45.460\n",
       "Skew:                           0.064   Prob(JB):                     1.34e-10\n",
       "Kurtosis:                       3.991   Cond. No.                         60.1\n",
       "==============================================================================\n",
       "\n",
       "Notes:\n",
       "[1] Standard Errors assume that the covariance matrix of the errors is correctly specified.\n",
       "\"\"\""
      ]
     },
     "execution_count": 38,
     "metadata": {},
     "output_type": "execute_result"
    }
   ],
   "source": [
    "model_2_variables = model_1_variables.copy()\n",
    "\n",
    "model_2_variables.remove('fsi_category_Sustainable')\n",
    "model_2_variables.remove('hdr_hdicode_High')\n",
    "model_2_variables.remove('hdr_hdicode_Very High')\n",
    "model_2_variables.remove('hdr_region_AS')\n",
    "model_2_variables.remove('hdr_region_EAP')\n",
    "model_2_variables.remove('hdr_region_SA')\n",
    "model_2_variables.remove('wbi_lending_category_IDA')\n",
    "model_2_variables.remove('wbi_other_(emu_or_hipc)_EMU')\n",
    "model_2_variables.remove('hdr_hdicode_High X predicts1')\n",
    "model_2_variables.remove('hdr_region_AS X predicts1')\n",
    "model_2_variables.remove('wbi_lending_category_IDA X predicts1')\n",
    "model_2_variables.remove('transformer')\n",
    "model_2_variables.remove('fsi_category_Sustainable X xgboost')\n",
    "model_2_variables.remove('hdr_hdicode_High X xgboost')\n",
    "model_2_variables.remove('hdr_hdicode_Very High X transformer')\n",
    "model_2_variables.remove('hdr_hdicode_Medium X xgboost')\n",
    "model_2_variables.remove('hdr_region_EAP X transformer')\n",
    "model_2_variables.remove('hdr_region_ECA X transformer')\n",
    "model_2_variables.remove('hdr_region_ECA X xgboost')\n",
    "model_2_variables.remove('hdr_region_LAC X transformer')\n",
    "model_2_variables.remove('wbi_income_group_Low income X xgboost')\n",
    "model_2_variables.remove('wbi_other_(emu_or_hipc)_EMU X xgboost')\n",
    "model_2_variables.remove('wbi_income_group_Lower middle income')\n",
    "model_2_variables.remove('wbi_income_group_Upper middle income')\n",
    "\n",
    "model_2 = sm.OLS(y, sm.add_constant(design_matrix[model_2_variables]))\n",
    "model_2.fit().summary()"
   ]
  },
  {
   "cell_type": "code",
   "execution_count": 71,
   "id": "68c7ef45",
   "metadata": {
    "scrolled": true
   },
   "outputs": [
    {
     "data": {
      "text/html": [
       "<table class=\"simpletable\">\n",
       "<caption>OLS Regression Results</caption>\n",
       "<tr>\n",
       "  <th>Dep. Variable:</th>          <td>error</td>      <th>  R-squared:         </th> <td>   0.298</td>\n",
       "</tr>\n",
       "<tr>\n",
       "  <th>Model:</th>                   <td>OLS</td>       <th>  Adj. R-squared:    </th> <td>   0.285</td>\n",
       "</tr>\n",
       "<tr>\n",
       "  <th>Method:</th>             <td>Least Squares</td>  <th>  F-statistic:       </th> <td>   23.94</td>\n",
       "</tr>\n",
       "<tr>\n",
       "  <th>Date:</th>             <td>Wed, 06 Dec 2023</td> <th>  Prob (F-statistic):</th> <td>2.35e-69</td>\n",
       "</tr>\n",
       "<tr>\n",
       "  <th>Time:</th>                 <td>00:00:28</td>     <th>  Log-Likelihood:    </th> <td>  526.84</td>\n",
       "</tr>\n",
       "<tr>\n",
       "  <th>No. Observations:</th>      <td>  1092</td>      <th>  AIC:               </th> <td>  -1014.</td>\n",
       "</tr>\n",
       "<tr>\n",
       "  <th>Df Residuals:</th>          <td>  1072</td>      <th>  BIC:               </th> <td>  -913.8</td>\n",
       "</tr>\n",
       "<tr>\n",
       "  <th>Df Model:</th>              <td>    19</td>      <th>                     </th>     <td> </td>   \n",
       "</tr>\n",
       "<tr>\n",
       "  <th>Covariance Type:</th>      <td>nonrobust</td>    <th>                     </th>     <td> </td>   \n",
       "</tr>\n",
       "</table>\n",
       "<table class=\"simpletable\">\n",
       "<tr>\n",
       "                           <td></td>                             <th>coef</th>     <th>std err</th>      <th>t</th>      <th>P>|t|</th>  <th>[0.025</th>    <th>0.975]</th>  \n",
       "</tr>\n",
       "<tr>\n",
       "  <th>const</th>                                              <td>    0.3605</td> <td>    0.009</td> <td>   40.369</td> <td> 0.000</td> <td>    0.343</td> <td>    0.378</td>\n",
       "</tr>\n",
       "<tr>\n",
       "  <th>predicts1</th>                                          <td>    0.3246</td> <td>    0.038</td> <td>    8.561</td> <td> 0.000</td> <td>    0.250</td> <td>    0.399</td>\n",
       "</tr>\n",
       "<tr>\n",
       "  <th>fsi_category_Warning</th>                               <td>    0.0697</td> <td>    0.013</td> <td>    5.246</td> <td> 0.000</td> <td>    0.044</td> <td>    0.096</td>\n",
       "</tr>\n",
       "<tr>\n",
       "  <th>hdr_hdicode_Medium</th>                                 <td>    0.0419</td> <td>    0.015</td> <td>    2.827</td> <td> 0.005</td> <td>    0.013</td> <td>    0.071</td>\n",
       "</tr>\n",
       "<tr>\n",
       "  <th>hdr_region_ECA</th>                                     <td>   -0.0657</td> <td>    0.016</td> <td>   -4.081</td> <td> 0.000</td> <td>   -0.097</td> <td>   -0.034</td>\n",
       "</tr>\n",
       "<tr>\n",
       "  <th>wbi_income_group_Low income</th>                        <td>    0.1477</td> <td>    0.026</td> <td>    5.687</td> <td> 0.000</td> <td>    0.097</td> <td>    0.199</td>\n",
       "</tr>\n",
       "<tr>\n",
       "  <th>fsi_category_Alert X predicts1</th>                     <td>   -0.2051</td> <td>    0.046</td> <td>   -4.450</td> <td> 0.000</td> <td>   -0.295</td> <td>   -0.115</td>\n",
       "</tr>\n",
       "<tr>\n",
       "  <th>fsi_category_Warning X predicts1</th>                   <td>   -0.2834</td> <td>    0.039</td> <td>   -7.178</td> <td> 0.000</td> <td>   -0.361</td> <td>   -0.206</td>\n",
       "</tr>\n",
       "<tr>\n",
       "  <th>wbi_income_group_Low income X predicts1</th>            <td>   -0.1020</td> <td>    0.038</td> <td>   -2.712</td> <td> 0.007</td> <td>   -0.176</td> <td>   -0.028</td>\n",
       "</tr>\n",
       "<tr>\n",
       "  <th>wbi_income_group_Upper middle income X predicts1</th>   <td>    0.0384</td> <td>    0.036</td> <td>    1.061</td> <td> 0.289</td> <td>   -0.033</td> <td>    0.109</td>\n",
       "</tr>\n",
       "<tr>\n",
       "  <th>wbi_lending_category_Blend X predicts1</th>             <td>   -0.0840</td> <td>    0.038</td> <td>   -2.189</td> <td> 0.029</td> <td>   -0.159</td> <td>   -0.009</td>\n",
       "</tr>\n",
       "<tr>\n",
       "  <th>xgboost</th>                                            <td>   -0.1026</td> <td>    0.017</td> <td>   -6.027</td> <td> 0.000</td> <td>   -0.136</td> <td>   -0.069</td>\n",
       "</tr>\n",
       "<tr>\n",
       "  <th>fsi_category_Alert X xgboost</th>                       <td>    0.1889</td> <td>    0.030</td> <td>    6.374</td> <td> 0.000</td> <td>    0.131</td> <td>    0.247</td>\n",
       "</tr>\n",
       "<tr>\n",
       "  <th>fsi_category_Warning X xgboost</th>                     <td>    0.1096</td> <td>    0.028</td> <td>    3.856</td> <td> 0.000</td> <td>    0.054</td> <td>    0.165</td>\n",
       "</tr>\n",
       "<tr>\n",
       "  <th>hdr_hdicode_Medium X transformer</th>                   <td>   -0.0438</td> <td>    0.026</td> <td>   -1.661</td> <td> 0.097</td> <td>   -0.096</td> <td>    0.008</td>\n",
       "</tr>\n",
       "<tr>\n",
       "  <th>wbi_income_group_Lower middle income X transformer</th> <td>    0.0970</td> <td>    0.022</td> <td>    4.396</td> <td> 0.000</td> <td>    0.054</td> <td>    0.140</td>\n",
       "</tr>\n",
       "<tr>\n",
       "  <th>wbi_income_group_Lower middle income X xgboost</th>     <td>    0.1068</td> <td>    0.028</td> <td>    3.782</td> <td> 0.000</td> <td>    0.051</td> <td>    0.162</td>\n",
       "</tr>\n",
       "<tr>\n",
       "  <th>wbi_income_group_Upper middle income X xgboost</th>     <td>    0.0981</td> <td>    0.026</td> <td>    3.778</td> <td> 0.000</td> <td>    0.047</td> <td>    0.149</td>\n",
       "</tr>\n",
       "<tr>\n",
       "  <th>wbi_lending_category_IDA X transformer</th>             <td>   -0.0412</td> <td>    0.022</td> <td>   -1.898</td> <td> 0.058</td> <td>   -0.084</td> <td>    0.001</td>\n",
       "</tr>\n",
       "<tr>\n",
       "  <th>xgboost X predicts1</th>                                <td>   -0.2050</td> <td>    0.029</td> <td>   -7.132</td> <td> 0.000</td> <td>   -0.261</td> <td>   -0.149</td>\n",
       "</tr>\n",
       "</table>\n",
       "<table class=\"simpletable\">\n",
       "<tr>\n",
       "  <th>Omnibus:</th>       <td>12.014</td> <th>  Durbin-Watson:     </th> <td>   1.421</td>\n",
       "</tr>\n",
       "<tr>\n",
       "  <th>Prob(Omnibus):</th> <td> 0.002</td> <th>  Jarque-Bera (JB):  </th> <td>  14.110</td>\n",
       "</tr>\n",
       "<tr>\n",
       "  <th>Skew:</th>          <td> 0.171</td> <th>  Prob(JB):          </th> <td>0.000863</td>\n",
       "</tr>\n",
       "<tr>\n",
       "  <th>Kurtosis:</th>      <td> 3.439</td> <th>  Cond. No.          </th> <td>    19.2</td>\n",
       "</tr>\n",
       "</table><br/><br/>Notes:<br/>[1] Standard Errors assume that the covariance matrix of the errors is correctly specified."
      ],
      "text/plain": [
       "<class 'statsmodels.iolib.summary.Summary'>\n",
       "\"\"\"\n",
       "                            OLS Regression Results                            \n",
       "==============================================================================\n",
       "Dep. Variable:                  error   R-squared:                       0.298\n",
       "Model:                            OLS   Adj. R-squared:                  0.285\n",
       "Method:                 Least Squares   F-statistic:                     23.94\n",
       "Date:                Wed, 06 Dec 2023   Prob (F-statistic):           2.35e-69\n",
       "Time:                        00:00:28   Log-Likelihood:                 526.84\n",
       "No. Observations:                1092   AIC:                            -1014.\n",
       "Df Residuals:                    1072   BIC:                            -913.8\n",
       "Df Model:                          19                                         \n",
       "Covariance Type:            nonrobust                                         \n",
       "======================================================================================================================\n",
       "                                                         coef    std err          t      P>|t|      [0.025      0.975]\n",
       "----------------------------------------------------------------------------------------------------------------------\n",
       "const                                                  0.3605      0.009     40.369      0.000       0.343       0.378\n",
       "predicts1                                              0.3246      0.038      8.561      0.000       0.250       0.399\n",
       "fsi_category_Warning                                   0.0697      0.013      5.246      0.000       0.044       0.096\n",
       "hdr_hdicode_Medium                                     0.0419      0.015      2.827      0.005       0.013       0.071\n",
       "hdr_region_ECA                                        -0.0657      0.016     -4.081      0.000      -0.097      -0.034\n",
       "wbi_income_group_Low income                            0.1477      0.026      5.687      0.000       0.097       0.199\n",
       "fsi_category_Alert X predicts1                        -0.2051      0.046     -4.450      0.000      -0.295      -0.115\n",
       "fsi_category_Warning X predicts1                      -0.2834      0.039     -7.178      0.000      -0.361      -0.206\n",
       "wbi_income_group_Low income X predicts1               -0.1020      0.038     -2.712      0.007      -0.176      -0.028\n",
       "wbi_income_group_Upper middle income X predicts1       0.0384      0.036      1.061      0.289      -0.033       0.109\n",
       "wbi_lending_category_Blend X predicts1                -0.0840      0.038     -2.189      0.029      -0.159      -0.009\n",
       "xgboost                                               -0.1026      0.017     -6.027      0.000      -0.136      -0.069\n",
       "fsi_category_Alert X xgboost                           0.1889      0.030      6.374      0.000       0.131       0.247\n",
       "fsi_category_Warning X xgboost                         0.1096      0.028      3.856      0.000       0.054       0.165\n",
       "hdr_hdicode_Medium X transformer                      -0.0438      0.026     -1.661      0.097      -0.096       0.008\n",
       "wbi_income_group_Lower middle income X transformer     0.0970      0.022      4.396      0.000       0.054       0.140\n",
       "wbi_income_group_Lower middle income X xgboost         0.1068      0.028      3.782      0.000       0.051       0.162\n",
       "wbi_income_group_Upper middle income X xgboost         0.0981      0.026      3.778      0.000       0.047       0.149\n",
       "wbi_lending_category_IDA X transformer                -0.0412      0.022     -1.898      0.058      -0.084       0.001\n",
       "xgboost X predicts1                                   -0.2050      0.029     -7.132      0.000      -0.261      -0.149\n",
       "==============================================================================\n",
       "Omnibus:                       12.014   Durbin-Watson:                   1.421\n",
       "Prob(Omnibus):                  0.002   Jarque-Bera (JB):               14.110\n",
       "Skew:                           0.171   Prob(JB):                     0.000863\n",
       "Kurtosis:                       3.439   Cond. No.                         19.2\n",
       "==============================================================================\n",
       "\n",
       "Notes:\n",
       "[1] Standard Errors assume that the covariance matrix of the errors is correctly specified.\n",
       "\"\"\""
      ]
     },
     "execution_count": 71,
     "metadata": {},
     "output_type": "execute_result"
    }
   ],
   "source": [
    "model_3_variables = model_2_variables.copy()\n",
    "\n",
    "model_3_variables.remove('hdr_region_LAC')\n",
    "model_3_variables.remove('wbi_lending_category_Blend')\n",
    "model_3_variables.remove('hdr_region_LAC X predicts1')\n",
    "model_3_variables.remove('fsi_category_Alert X transformer')\n",
    "model_3_variables.remove('hdr_region_AS X transformer')\n",
    "model_3_variables.remove('hdr_region_AS X xgboost')\n",
    "model_3_variables.remove('wbi_income_group_Low income X transformer')\n",
    "model_3_variables.remove('wbi_lending_category_Blend X transformer')\n",
    "model_3_variables.remove('wbi_lending_category_Blend X xgboost')\n",
    "model_3_variables.remove('wbi_lending_category_IDA X xgboost')\n",
    "model_3_variables.remove('wbi_other_(emu_or_hipc)_EMU X transformer')\n",
    "model_3_variables.remove('transformer X predicts1')\n",
    "model_3_variables.remove('fsi_category_Warning X transformer X predicts1')\n",
    "model_3_variables.remove('fsi_category_Warning X xgboost X predicts1')\n",
    "model_3_variables.remove('hdr_hdicode_Medium X transformer X predicts1')\n",
    "model_3_variables.remove('hdr_hdicode_Medium X xgboost X predicts1')\n",
    "model_3_variables.remove('hdr_hdicode_Medium X predicts1')\n",
    "model_3_variables.remove('fsi_category_Warning X transformer')\n",
    "model_3_variables.remove('hdr_region_EAP X xgboost')\n",
    "model_3_variables.remove('hdr_region_SA X xgboost')\n",
    "model_3_variables.remove('fsi_category_Alert')\n",
    "model_3_variables.remove('hdr_hdicode_Very High X predicts1')\n",
    "model_3_variables.remove('wbi_income_group_Lower middle income X predicts1')\n",
    "model_3_variables.remove('fsi_category_Sustainable X transformer')\n",
    "model_3_variables.remove('hdr_hdicode_High X transformer')\n",
    "model_3_variables.remove('hdr_hdicode_Very High X xgboost')\n",
    "model_3_variables.remove('hdr_region_LAC X xgboost')\n",
    "model_3_variables.remove('hdr_region_SA X transformer')\n",
    "model_3_variables.remove('wbi_income_group_Upper middle income X transformer')\n",
    "model_3_variables.remove('wbi_income_group_Lower middle income X transformer X predicts1')\n",
    "model_3_variables.remove('wbi_income_group_Lower middle income X xgboost X predicts1')\n",
    "model_3_variables.remove('wbi_lending_category_IDA X transformer X predicts1')\n",
    "\n",
    "\n",
    "model_3 = sm.OLS(y, sm.add_constant(design_matrix[model_3_variables]))\n",
    "model_3.fit().summary()"
   ]
  },
  {
   "cell_type": "code",
   "execution_count": 73,
   "id": "83848fb0",
   "metadata": {},
   "outputs": [
    {
     "data": {
      "text/html": [
       "<table class=\"simpletable\">\n",
       "<caption>OLS Regression Results</caption>\n",
       "<tr>\n",
       "  <th>Dep. Variable:</th>          <td>error</td>      <th>  R-squared:         </th> <td>   0.284</td>\n",
       "</tr>\n",
       "<tr>\n",
       "  <th>Model:</th>                   <td>OLS</td>       <th>  Adj. R-squared:    </th> <td>   0.275</td>\n",
       "</tr>\n",
       "<tr>\n",
       "  <th>Method:</th>             <td>Least Squares</td>  <th>  F-statistic:       </th> <td>   32.81</td>\n",
       "</tr>\n",
       "<tr>\n",
       "  <th>Date:</th>             <td>Wed, 06 Dec 2023</td> <th>  Prob (F-statistic):</th> <td>3.47e-69</td>\n",
       "</tr>\n",
       "<tr>\n",
       "  <th>Time:</th>                 <td>00:03:36</td>     <th>  Log-Likelihood:    </th> <td>  515.75</td>\n",
       "</tr>\n",
       "<tr>\n",
       "  <th>No. Observations:</th>      <td>  1092</td>      <th>  AIC:               </th> <td>  -1004.</td>\n",
       "</tr>\n",
       "<tr>\n",
       "  <th>Df Residuals:</th>          <td>  1078</td>      <th>  BIC:               </th> <td>  -933.6</td>\n",
       "</tr>\n",
       "<tr>\n",
       "  <th>Df Model:</th>              <td>    13</td>      <th>                     </th>     <td> </td>   \n",
       "</tr>\n",
       "<tr>\n",
       "  <th>Covariance Type:</th>      <td>nonrobust</td>    <th>                     </th>     <td> </td>   \n",
       "</tr>\n",
       "</table>\n",
       "<table class=\"simpletable\">\n",
       "<tr>\n",
       "                           <td></td>                             <th>coef</th>     <th>std err</th>      <th>t</th>      <th>P>|t|</th>  <th>[0.025</th>    <th>0.975]</th>  \n",
       "</tr>\n",
       "<tr>\n",
       "  <th>const</th>                                              <td>    0.3652</td> <td>    0.009</td> <td>   41.335</td> <td> 0.000</td> <td>    0.348</td> <td>    0.383</td>\n",
       "</tr>\n",
       "<tr>\n",
       "  <th>predicts1</th>                                          <td>    0.3333</td> <td>    0.037</td> <td>    9.088</td> <td> 0.000</td> <td>    0.261</td> <td>    0.405</td>\n",
       "</tr>\n",
       "<tr>\n",
       "  <th>fsi_category_Warning</th>                               <td>    0.0729</td> <td>    0.013</td> <td>    5.612</td> <td> 0.000</td> <td>    0.047</td> <td>    0.098</td>\n",
       "</tr>\n",
       "<tr>\n",
       "  <th>hdr_region_ECA</th>                                     <td>   -0.0708</td> <td>    0.016</td> <td>   -4.417</td> <td> 0.000</td> <td>   -0.102</td> <td>   -0.039</td>\n",
       "</tr>\n",
       "<tr>\n",
       "  <th>wbi_income_group_Low income</th>                        <td>    0.0922</td> <td>    0.017</td> <td>    5.507</td> <td> 0.000</td> <td>    0.059</td> <td>    0.125</td>\n",
       "</tr>\n",
       "<tr>\n",
       "  <th>fsi_category_Alert X predicts1</th>                     <td>   -0.2681</td> <td>    0.041</td> <td>   -6.593</td> <td> 0.000</td> <td>   -0.348</td> <td>   -0.188</td>\n",
       "</tr>\n",
       "<tr>\n",
       "  <th>fsi_category_Warning X predicts1</th>                   <td>   -0.3163</td> <td>    0.038</td> <td>   -8.240</td> <td> 0.000</td> <td>   -0.392</td> <td>   -0.241</td>\n",
       "</tr>\n",
       "<tr>\n",
       "  <th>xgboost</th>                                            <td>   -0.1036</td> <td>    0.017</td> <td>   -6.116</td> <td> 0.000</td> <td>   -0.137</td> <td>   -0.070</td>\n",
       "</tr>\n",
       "<tr>\n",
       "  <th>fsi_category_Alert X xgboost</th>                       <td>    0.2289</td> <td>    0.026</td> <td>    8.659</td> <td> 0.000</td> <td>    0.177</td> <td>    0.281</td>\n",
       "</tr>\n",
       "<tr>\n",
       "  <th>fsi_category_Warning X xgboost</th>                     <td>    0.1318</td> <td>    0.027</td> <td>    4.851</td> <td> 0.000</td> <td>    0.079</td> <td>    0.185</td>\n",
       "</tr>\n",
       "<tr>\n",
       "  <th>wbi_income_group_Lower middle income X transformer</th> <td>    0.0723</td> <td>    0.017</td> <td>    4.291</td> <td> 0.000</td> <td>    0.039</td> <td>    0.105</td>\n",
       "</tr>\n",
       "<tr>\n",
       "  <th>wbi_income_group_Lower middle income X xgboost</th>     <td>    0.0988</td> <td>    0.026</td> <td>    3.822</td> <td> 0.000</td> <td>    0.048</td> <td>    0.150</td>\n",
       "</tr>\n",
       "<tr>\n",
       "  <th>wbi_income_group_Upper middle income X xgboost</th>     <td>    0.0876</td> <td>    0.024</td> <td>    3.597</td> <td> 0.000</td> <td>    0.040</td> <td>    0.135</td>\n",
       "</tr>\n",
       "<tr>\n",
       "  <th>xgboost X predicts1</th>                                <td>   -0.1942</td> <td>    0.028</td> <td>   -6.863</td> <td> 0.000</td> <td>   -0.250</td> <td>   -0.139</td>\n",
       "</tr>\n",
       "</table>\n",
       "<table class=\"simpletable\">\n",
       "<tr>\n",
       "  <th>Omnibus:</th>       <td> 7.491</td> <th>  Durbin-Watson:     </th> <td>   1.425</td>\n",
       "</tr>\n",
       "<tr>\n",
       "  <th>Prob(Omnibus):</th> <td> 0.024</td> <th>  Jarque-Bera (JB):  </th> <td>   8.170</td>\n",
       "</tr>\n",
       "<tr>\n",
       "  <th>Skew:</th>          <td> 0.137</td> <th>  Prob(JB):          </th> <td>  0.0168</td>\n",
       "</tr>\n",
       "<tr>\n",
       "  <th>Kurtosis:</th>      <td> 3.324</td> <th>  Cond. No.          </th> <td>    17.4</td>\n",
       "</tr>\n",
       "</table><br/><br/>Notes:<br/>[1] Standard Errors assume that the covariance matrix of the errors is correctly specified."
      ],
      "text/plain": [
       "<class 'statsmodels.iolib.summary.Summary'>\n",
       "\"\"\"\n",
       "                            OLS Regression Results                            \n",
       "==============================================================================\n",
       "Dep. Variable:                  error   R-squared:                       0.284\n",
       "Model:                            OLS   Adj. R-squared:                  0.275\n",
       "Method:                 Least Squares   F-statistic:                     32.81\n",
       "Date:                Wed, 06 Dec 2023   Prob (F-statistic):           3.47e-69\n",
       "Time:                        00:03:36   Log-Likelihood:                 515.75\n",
       "No. Observations:                1092   AIC:                            -1004.\n",
       "Df Residuals:                    1078   BIC:                            -933.6\n",
       "Df Model:                          13                                         \n",
       "Covariance Type:            nonrobust                                         \n",
       "======================================================================================================================\n",
       "                                                         coef    std err          t      P>|t|      [0.025      0.975]\n",
       "----------------------------------------------------------------------------------------------------------------------\n",
       "const                                                  0.3652      0.009     41.335      0.000       0.348       0.383\n",
       "predicts1                                              0.3333      0.037      9.088      0.000       0.261       0.405\n",
       "fsi_category_Warning                                   0.0729      0.013      5.612      0.000       0.047       0.098\n",
       "hdr_region_ECA                                        -0.0708      0.016     -4.417      0.000      -0.102      -0.039\n",
       "wbi_income_group_Low income                            0.0922      0.017      5.507      0.000       0.059       0.125\n",
       "fsi_category_Alert X predicts1                        -0.2681      0.041     -6.593      0.000      -0.348      -0.188\n",
       "fsi_category_Warning X predicts1                      -0.3163      0.038     -8.240      0.000      -0.392      -0.241\n",
       "xgboost                                               -0.1036      0.017     -6.116      0.000      -0.137      -0.070\n",
       "fsi_category_Alert X xgboost                           0.2289      0.026      8.659      0.000       0.177       0.281\n",
       "fsi_category_Warning X xgboost                         0.1318      0.027      4.851      0.000       0.079       0.185\n",
       "wbi_income_group_Lower middle income X transformer     0.0723      0.017      4.291      0.000       0.039       0.105\n",
       "wbi_income_group_Lower middle income X xgboost         0.0988      0.026      3.822      0.000       0.048       0.150\n",
       "wbi_income_group_Upper middle income X xgboost         0.0876      0.024      3.597      0.000       0.040       0.135\n",
       "xgboost X predicts1                                   -0.1942      0.028     -6.863      0.000      -0.250      -0.139\n",
       "==============================================================================\n",
       "Omnibus:                        7.491   Durbin-Watson:                   1.425\n",
       "Prob(Omnibus):                  0.024   Jarque-Bera (JB):                8.170\n",
       "Skew:                           0.137   Prob(JB):                       0.0168\n",
       "Kurtosis:                       3.324   Cond. No.                         17.4\n",
       "==============================================================================\n",
       "\n",
       "Notes:\n",
       "[1] Standard Errors assume that the covariance matrix of the errors is correctly specified.\n",
       "\"\"\""
      ]
     },
     "execution_count": 73,
     "metadata": {},
     "output_type": "execute_result"
    }
   ],
   "source": [
    "model_4_variables = model_3_variables.copy()\n",
    "\n",
    "model_4_variables.remove('hdr_hdicode_Medium')\n",
    "model_4_variables.remove('wbi_income_group_Low income X predicts1')\n",
    "model_4_variables.remove('wbi_income_group_Upper middle income X predicts1')\n",
    "model_4_variables.remove('wbi_lending_category_Blend X predicts1')\n",
    "model_4_variables.remove('hdr_hdicode_Medium X transformer')\n",
    "model_4_variables.remove('wbi_lending_category_IDA X transformer')\n",
    "\n",
    "model_4 = sm.OLS(y, sm.add_constant(design_matrix[model_4_variables]))\n",
    "model_4.fit().summary()"
   ]
  },
  {
   "cell_type": "code",
   "execution_count": 74,
   "id": "945225b1",
   "metadata": {
    "scrolled": true
   },
   "outputs": [
    {
     "data": {
      "image/png": "[encoded data removed]",
      "text/plain": [
       "<Figure size 640x480 with 1 Axes>"
      ]
     },
     "metadata": {},
     "output_type": "display_data"
    }
   ],
   "source": [
    "_ = plt.hist(y-model_4.fit().predict())"
   ]
  },
  {
   "cell_type": "code",
   "execution_count": 75,
   "id": "300f499d",
   "metadata": {
    "scrolled": false
   },
   "outputs": [
    {
     "data": {
      "image/png": "[encoded data removed]",
      "text/plain": [
       "<Figure size 640x480 with 1 Axes>"
      ]
     },
     "metadata": {},
     "output_type": "display_data"
    }
   ],
   "source": [
    "_ = plt.plot(model_4.fit().predict()+0.05*np.random.uniform(size=len(y)), y-model_4.fit().predict(), '.')"
   ]
  },
  {
   "cell_type": "code",
   "execution_count": 76,
   "id": "cae5487e",
   "metadata": {
    "scrolled": true
   },
   "outputs": [
    {
     "data": {
      "application/vnd.plotly.v1+json": {
       "config": {
        "plotlyServerURL": "https://plot.ly"
       },
       "data": [
        {
         "alignmentgroup": "True",
         "hovertemplate": "Score=Training<br>Model=%{x}<br>RMSE=%{y}<extra></extra>",
         "legendgroup": "Training",
         "marker": {
          "color": "#636efa",
          "pattern": {
           "shape": ""
          }
         },
         "name": "Training",
         "offsetgroup": "Training",
         "orientation": "v",
         "showlegend": true,
         "textposition": "auto",
         "type": "bar",
         "x": [
          1,
          2,
          3,
          4
         ],
         "xaxis": "x",
         "y": [
          0.12788274184129167,
          0.13166541296004516,
          0.14771359545661467,
          0.14960658314721145
         ],
         "yaxis": "y"
        },
        {
         "alignmentgroup": "True",
         "hovertemplate": "Score=Testing<br>Model=%{x}<br>RMSE=%{y}<extra></extra>",
         "legendgroup": "Testing",
         "marker": {
          "color": "#EF553B",
          "pattern": {
           "shape": ""
          }
         },
         "name": "Testing",
         "offsetgroup": "Testing",
         "orientation": "v",
         "showlegend": true,
         "textposition": "auto",
         "type": "bar",
         "x": [
          1,
          2,
          3,
          4
         ],
         "xaxis": "x",
         "y": [
          0.16082899537217207,
          0.15423446683193362,
          0.15347143112316444,
          0.15404648835639898
         ],
         "yaxis": "y"
        }
       ],
       "layout": {
        "barmode": "group",
        "legend": {
         "title": {
          "text": "Score"
         },
         "tracegroupgap": 0
        },
        "margin": {
         "t": 60
        },
        "template": {
         "data": {
          "bar": [
           {
            "error_x": {
             "color": "#2a3f5f"
            },
            "error_y": {
             "color": "#2a3f5f"
            },
            "marker": {
             "line": {
              "color": "#E5ECF6",
              "width": 0.5
             },
             "pattern": {
              "fillmode": "overlay",
              "size": 10,
              "solidity": 0.2
             }
            },
            "type": "bar"
           }
          ],
          "barpolar": [
           {
            "marker": {
             "line": {
              "color": "#E5ECF6",
              "width": 0.5
             },
             "pattern": {
              "fillmode": "overlay",
              "size": 10,
              "solidity": 0.2
             }
            },
            "type": "barpolar"
           }
          ],
          "carpet": [
           {
            "aaxis": {
             "endlinecolor": "#2a3f5f",
             "gridcolor": "white",
             "linecolor": "white",
             "minorgridcolor": "white",
             "startlinecolor": "#2a3f5f"
            },
            "baxis": {
             "endlinecolor": "#2a3f5f",
             "gridcolor": "white",
             "linecolor": "white",
             "minorgridcolor": "white",
             "startlinecolor": "#2a3f5f"
            },
            "type": "carpet"
           }
          ],
          "choropleth": [
           {
            "colorbar": {
             "outlinewidth": 0,
             "ticks": ""
            },
            "type": "choropleth"
           }
          ],
          "contour": [
           {
            "colorbar": {
             "outlinewidth": 0,
             "ticks": ""
            },
            "colorscale": [
             [
              0,
              "#0d0887"
             ],
             [
              0.1111111111111111,
              "#46039f"
             ],
             [
              0.2222222222222222,
              "#7201a8"
             ],
             [
              0.3333333333333333,
              "#9c179e"
             ],
             [
              0.4444444444444444,
              "#bd3786"
             ],
             [
              0.5555555555555556,
              "#d8576b"
             ],
             [
              0.6666666666666666,
              "#ed7953"
             ],
             [
              0.7777777777777778,
              "#fb9f3a"
             ],
             [
              0.8888888888888888,
              "#fdca26"
             ],
             [
              1,
              "#f0f921"
             ]
            ],
            "type": "contour"
           }
          ],
          "contourcarpet": [
           {
            "colorbar": {
             "outlinewidth": 0,
             "ticks": ""
            },
            "type": "contourcarpet"
           }
          ],
          "heatmap": [
           {
            "colorbar": {
             "outlinewidth": 0,
             "ticks": ""
            },
            "colorscale": [
             [
              0,
              "#0d0887"
             ],
             [
              0.1111111111111111,
              "#46039f"
             ],
             [
              0.2222222222222222,
              "#7201a8"
             ],
             [
              0.3333333333333333,
              "#9c179e"
             ],
             [
              0.4444444444444444,
              "#bd3786"
             ],
             [
              0.5555555555555556,
              "#d8576b"
             ],
             [
              0.6666666666666666,
              "#ed7953"
             ],
             [
              0.7777777777777778,
              "#fb9f3a"
             ],
             [
              0.8888888888888888,
              "#fdca26"
             ],
             [
              1,
              "#f0f921"
             ]
            ],
            "type": "heatmap"
           }
          ],
          "heatmapgl": [
           {
            "colorbar": {
             "outlinewidth": 0,
             "ticks": ""
            },
            "colorscale": [
             [
              0,
              "#0d0887"
             ],
             [
              0.1111111111111111,
              "#46039f"
             ],
             [
              0.2222222222222222,
              "#7201a8"
             ],
             [
              0.3333333333333333,
              "#9c179e"
             ],
             [
              0.4444444444444444,
              "#bd3786"
             ],
             [
              0.5555555555555556,
              "#d8576b"
             ],
             [
              0.6666666666666666,
              "#ed7953"
             ],
             [
              0.7777777777777778,
              "#fb9f3a"
             ],
             [
              0.8888888888888888,
              "#fdca26"
             ],
             [
              1,
              "#f0f921"
             ]
            ],
            "type": "heatmapgl"
           }
          ],
          "histogram": [
           {
            "marker": {
             "pattern": {
              "fillmode": "overlay",
              "size": 10,
              "solidity": 0.2
             }
            },
            "type": "histogram"
           }
          ],
          "histogram2d": [
           {
            "colorbar": {
             "outlinewidth": 0,
             "ticks": ""
            },
            "colorscale": [
             [
              0,
              "#0d0887"
             ],
             [
              0.1111111111111111,
              "#46039f"
             ],
             [
              0.2222222222222222,
              "#7201a8"
             ],
             [
              0.3333333333333333,
              "#9c179e"
             ],
             [
              0.4444444444444444,
              "#bd3786"
             ],
             [
              0.5555555555555556,
              "#d8576b"
             ],
             [
              0.6666666666666666,
              "#ed7953"
             ],
             [
              0.7777777777777778,
              "#fb9f3a"
             ],
             [
              0.8888888888888888,
              "#fdca26"
             ],
             [
              1,
              "#f0f921"
             ]
            ],
            "type": "histogram2d"
           }
          ],
          "histogram2dcontour": [
           {
            "colorbar": {
             "outlinewidth": 0,
             "ticks": ""
            },
            "colorscale": [
             [
              0,
              "#0d0887"
             ],
             [
              0.1111111111111111,
              "#46039f"
             ],
             [
              0.2222222222222222,
              "#7201a8"
             ],
             [
              0.3333333333333333,
              "#9c179e"
             ],
             [
              0.4444444444444444,
              "#bd3786"
             ],
             [
              0.5555555555555556,
              "#d8576b"
             ],
             [
              0.6666666666666666,
              "#ed7953"
             ],
             [
              0.7777777777777778,
              "#fb9f3a"
             ],
             [
              0.8888888888888888,
              "#fdca26"
             ],
             [
              1,
              "#f0f921"
             ]
            ],
            "type": "histogram2dcontour"
           }
          ],
          "mesh3d": [
           {
            "colorbar": {
             "outlinewidth": 0,
             "ticks": ""
            },
            "type": "mesh3d"
           }
          ],
          "parcoords": [
           {
            "line": {
             "colorbar": {
              "outlinewidth": 0,
              "ticks": ""
             }
            },
            "type": "parcoords"
           }
          ],
          "pie": [
           {
            "automargin": true,
            "type": "pie"
           }
          ],
          "scatter": [
           {
            "fillpattern": {
             "fillmode": "overlay",
             "size": 10,
             "solidity": 0.2
            },
            "type": "scatter"
           }
          ],
          "scatter3d": [
           {
            "line": {
             "colorbar": {
              "outlinewidth": 0,
              "ticks": ""
             }
            },
            "marker": {
             "colorbar": {
              "outlinewidth": 0,
              "ticks": ""
             }
            },
            "type": "scatter3d"
           }
          ],
          "scattercarpet": [
           {
            "marker": {
             "colorbar": {
              "outlinewidth": 0,
              "ticks": ""
             }
            },
            "type": "scattercarpet"
           }
          ],
          "scattergeo": [
           {
            "marker": {
             "colorbar": {
              "outlinewidth": 0,
              "ticks": ""
             }
            },
            "type": "scattergeo"
           }
          ],
          "scattergl": [
           {
            "marker": {
             "colorbar": {
              "outlinewidth": 0,
              "ticks": ""
             }
            },
            "type": "scattergl"
           }
          ],
          "scattermapbox": [
           {
            "marker": {
             "colorbar": {
              "outlinewidth": 0,
              "ticks": ""
             }
            },
            "type": "scattermapbox"
           }
          ],
          "scatterpolar": [
           {
            "marker": {
             "colorbar": {
              "outlinewidth": 0,
              "ticks": ""
             }
            },
            "type": "scatterpolar"
           }
          ],
          "scatterpolargl": [
           {
            "marker": {
             "colorbar": {
              "outlinewidth": 0,
              "ticks": ""
             }
            },
            "type": "scatterpolargl"
           }
          ],
          "scatterternary": [
           {
            "marker": {
             "colorbar": {
              "outlinewidth": 0,
              "ticks": ""
             }
            },
            "type": "scatterternary"
           }
          ],
          "surface": [
           {
            "colorbar": {
             "outlinewidth": 0,
             "ticks": ""
            },
            "colorscale": [
             [
              0,
              "#0d0887"
             ],
             [
              0.1111111111111111,
              "#46039f"
             ],
             [
              0.2222222222222222,
              "#7201a8"
             ],
             [
              0.3333333333333333,
              "#9c179e"
             ],
             [
              0.4444444444444444,
              "#bd3786"
             ],
             [
              0.5555555555555556,
              "#d8576b"
             ],
             [
              0.6666666666666666,
              "#ed7953"
             ],
             [
              0.7777777777777778,
              "#fb9f3a"
             ],
             [
              0.8888888888888888,
              "#fdca26"
             ],
             [
              1,
              "#f0f921"
             ]
            ],
            "type": "surface"
           }
          ],
          "table": [
           {
            "cells": {
             "fill": {
              "color": "#EBF0F8"
             },
             "line": {
              "color": "white"
             }
            },
            "header": {
             "fill": {
              "color": "#C8D4E3"
             },
             "line": {
              "color": "white"
             }
            },
            "type": "table"
           }
          ]
         },
         "layout": {
          "annotationdefaults": {
           "arrowcolor": "#2a3f5f",
           "arrowhead": 0,
           "arrowwidth": 1
          },
          "autotypenumbers": "strict",
          "coloraxis": {
           "colorbar": {
            "outlinewidth": 0,
            "ticks": ""
           }
          },
          "colorscale": {
           "diverging": [
            [
             0,
             "#8e0152"
            ],
            [
             0.1,
             "#c51b7d"
            ],
            [
             0.2,
             "#de77ae"
            ],
            [
             0.3,
             "#f1b6da"
            ],
            [
             0.4,
             "#fde0ef"
            ],
            [
             0.5,
             "#f7f7f7"
            ],
            [
             0.6,
             "#e6f5d0"
            ],
            [
             0.7,
             "#b8e186"
            ],
            [
             0.8,
             "#7fbc41"
            ],
            [
             0.9,
             "#4d9221"
            ],
            [
             1,
             "#276419"
            ]
           ],
           "sequential": [
            [
             0,
             "#0d0887"
            ],
            [
             0.1111111111111111,
             "#46039f"
            ],
            [
             0.2222222222222222,
             "#7201a8"
            ],
            [
             0.3333333333333333,
             "#9c179e"
            ],
            [
             0.4444444444444444,
             "#bd3786"
            ],
            [
             0.5555555555555556,
             "#d8576b"
            ],
            [
             0.6666666666666666,
             "#ed7953"
            ],
            [
             0.7777777777777778,
             "#fb9f3a"
            ],
            [
             0.8888888888888888,
             "#fdca26"
            ],
            [
             1,
             "#f0f921"
            ]
           ],
           "sequentialminus": [
            [
             0,
             "#0d0887"
            ],
            [
             0.1111111111111111,
             "#46039f"
            ],
            [
             0.2222222222222222,
             "#7201a8"
            ],
            [
             0.3333333333333333,
             "#9c179e"
            ],
            [
             0.4444444444444444,
             "#bd3786"
            ],
            [
             0.5555555555555556,
             "#d8576b"
            ],
            [
             0.6666666666666666,
             "#ed7953"
            ],
            [
             0.7777777777777778,
             "#fb9f3a"
            ],
            [
             0.8888888888888888,
             "#fdca26"
            ],
            [
             1,
             "#f0f921"
            ]
           ]
          },
          "colorway": [
           "#636efa",
           "#EF553B",
           "#00cc96",
           "#ab63fa",
           "#FFA15A",
           "#19d3f3",
           "#FF6692",
           "#B6E880",
           "#FF97FF",
           "#FECB52"
          ],
          "font": {
           "color": "#2a3f5f"
          },
          "geo": {
           "bgcolor": "white",
           "lakecolor": "white",
           "landcolor": "#E5ECF6",
           "showlakes": true,
           "showland": true,
           "subunitcolor": "white"
          },
          "hoverlabel": {
           "align": "left"
          },
          "hovermode": "closest",
          "mapbox": {
           "style": "light"
          },
          "paper_bgcolor": "white",
          "plot_bgcolor": "#E5ECF6",
          "polar": {
           "angularaxis": {
            "gridcolor": "white",
            "linecolor": "white",
            "ticks": ""
           },
           "bgcolor": "#E5ECF6",
           "radialaxis": {
            "gridcolor": "white",
            "linecolor": "white",
            "ticks": ""
           }
          },
          "scene": {
           "xaxis": {
            "backgroundcolor": "#E5ECF6",
            "gridcolor": "white",
            "gridwidth": 2,
            "linecolor": "white",
            "showbackground": true,
            "ticks": "",
            "zerolinecolor": "white"
           },
           "yaxis": {
            "backgroundcolor": "#E5ECF6",
            "gridcolor": "white",
            "gridwidth": 2,
            "linecolor": "white",
            "showbackground": true,
            "ticks": "",
            "zerolinecolor": "white"
           },
           "zaxis": {
            "backgroundcolor": "#E5ECF6",
            "gridcolor": "white",
            "gridwidth": 2,
            "linecolor": "white",
            "showbackground": true,
            "ticks": "",
            "zerolinecolor": "white"
           }
          },
          "shapedefaults": {
           "line": {
            "color": "#2a3f5f"
           }
          },
          "ternary": {
           "aaxis": {
            "gridcolor": "white",
            "linecolor": "white",
            "ticks": ""
           },
           "baxis": {
            "gridcolor": "white",
            "linecolor": "white",
            "ticks": ""
           },
           "bgcolor": "#E5ECF6",
           "caxis": {
            "gridcolor": "white",
            "linecolor": "white",
            "ticks": ""
           }
          },
          "title": {
           "x": 0.05
          },
          "xaxis": {
           "automargin": true,
           "gridcolor": "white",
           "linecolor": "white",
           "ticks": "",
           "title": {
            "standoff": 15
           },
           "zerolinecolor": "white",
           "zerolinewidth": 2
          },
          "yaxis": {
           "automargin": true,
           "gridcolor": "white",
           "linecolor": "white",
           "ticks": "",
           "title": {
            "standoff": 15
           },
           "zerolinecolor": "white",
           "zerolinewidth": 2
          }
         }
        },
        "xaxis": {
         "anchor": "y",
         "domain": [
          0,
          1
         ],
         "title": {
          "text": "Model"
         }
        },
        "yaxis": {
         "anchor": "x",
         "domain": [
          0,
          1
         ],
         "title": {
          "text": "RMSE"
         }
        }
       }
      },
      "text/html": [
       "<div>                            <div id=\"e3271070-cf5f-4008-953c-aa7e32200a3c\" class=\"plotly-graph-div\" style=\"height:525px; width:100%;\"></div>            <script type=\"text/javascript\">                require([\"plotly\"], function(Plotly) {                    window.PLOTLYENV=window.PLOTLYENV || {};                                    if (document.getElementById(\"e3271070-cf5f-4008-953c-aa7e32200a3c\")) {                    Plotly.newPlot(                        \"e3271070-cf5f-4008-953c-aa7e32200a3c\",                        [{\"alignmentgroup\":\"True\",\"hovertemplate\":\"Score=Training\\u003cbr\\u003eModel=%{x}\\u003cbr\\u003eRMSE=%{y}\\u003cextra\\u003e\\u003c\\u002fextra\\u003e\",\"legendgroup\":\"Training\",\"marker\":{\"color\":\"#636efa\",\"pattern\":{\"shape\":\"\"}},\"name\":\"Training\",\"offsetgroup\":\"Training\",\"orientation\":\"v\",\"showlegend\":true,\"textposition\":\"auto\",\"x\":[1,2,3,4],\"xaxis\":\"x\",\"y\":[0.12788274184129167,0.13166541296004516,0.14771359545661467,0.14960658314721145],\"yaxis\":\"y\",\"type\":\"bar\"},{\"alignmentgroup\":\"True\",\"hovertemplate\":\"Score=Testing\\u003cbr\\u003eModel=%{x}\\u003cbr\\u003eRMSE=%{y}\\u003cextra\\u003e\\u003c\\u002fextra\\u003e\",\"legendgroup\":\"Testing\",\"marker\":{\"color\":\"#EF553B\",\"pattern\":{\"shape\":\"\"}},\"name\":\"Testing\",\"offsetgroup\":\"Testing\",\"orientation\":\"v\",\"showlegend\":true,\"textposition\":\"auto\",\"x\":[1,2,3,4],\"xaxis\":\"x\",\"y\":[0.16082899537217207,0.15423446683193362,0.15347143112316444,0.15404648835639898],\"yaxis\":\"y\",\"type\":\"bar\"}],                        {\"template\":{\"data\":{\"histogram2dcontour\":[{\"type\":\"histogram2dcontour\",\"colorbar\":{\"outlinewidth\":0,\"ticks\":\"\"},\"colorscale\":[[0.0,\"#0d0887\"],[0.1111111111111111,\"#46039f\"],[0.2222222222222222,\"#7201a8\"],[0.3333333333333333,\"#9c179e\"],[0.4444444444444444,\"#bd3786\"],[0.5555555555555556,\"#d8576b\"],[0.6666666666666666,\"#ed7953\"],[0.7777777777777778,\"#fb9f3a\"],[0.8888888888888888,\"#fdca26\"],[1.0,\"#f0f921\"]]}],\"choropleth\":[{\"type\":\"choropleth\",\"colorbar\":{\"outlinewidth\":0,\"ticks\":\"\"}}],\"histogram2d\":[{\"type\":\"histogram2d\",\"colorbar\":{\"outlinewidth\":0,\"ticks\":\"\"},\"colorscale\":[[0.0,\"#0d0887\"],[0.1111111111111111,\"#46039f\"],[0.2222222222222222,\"#7201a8\"],[0.3333333333333333,\"#9c179e\"],[0.4444444444444444,\"#bd3786\"],[0.5555555555555556,\"#d8576b\"],[0.6666666666666666,\"#ed7953\"],[0.7777777777777778,\"#fb9f3a\"],[0.8888888888888888,\"#fdca26\"],[1.0,\"#f0f921\"]]}],\"heatmap\":[{\"type\":\"heatmap\",\"colorbar\":{\"outlinewidth\":0,\"ticks\":\"\"},\"colorscale\":[[0.0,\"#0d0887\"],[0.1111111111111111,\"#46039f\"],[0.2222222222222222,\"#7201a8\"],[0.3333333333333333,\"#9c179e\"],[0.4444444444444444,\"#bd3786\"],[0.5555555555555556,\"#d8576b\"],[0.6666666666666666,\"#ed7953\"],[0.7777777777777778,\"#fb9f3a\"],[0.8888888888888888,\"#fdca26\"],[1.0,\"#f0f921\"]]}],\"heatmapgl\":[{\"type\":\"heatmapgl\",\"colorbar\":{\"outlinewidth\":0,\"ticks\":\"\"},\"colorscale\":[[0.0,\"#0d0887\"],[0.1111111111111111,\"#46039f\"],[0.2222222222222222,\"#7201a8\"],[0.3333333333333333,\"#9c179e\"],[0.4444444444444444,\"#bd3786\"],[0.5555555555555556,\"#d8576b\"],[0.6666666666666666,\"#ed7953\"],[0.7777777777777778,\"#fb9f3a\"],[0.8888888888888888,\"#fdca26\"],[1.0,\"#f0f921\"]]}],\"contourcarpet\":[{\"type\":\"contourcarpet\",\"colorbar\":{\"outlinewidth\":0,\"ticks\":\"\"}}],\"contour\":[{\"type\":\"contour\",\"colorbar\":{\"outlinewidth\":0,\"ticks\":\"\"},\"colorscale\":[[0.0,\"#0d0887\"],[0.1111111111111111,\"#46039f\"],[0.2222222222222222,\"#7201a8\"],[0.3333333333333333,\"#9c179e\"],[0.4444444444444444,\"#bd3786\"],[0.5555555555555556,\"#d8576b\"],[0.6666666666666666,\"#ed7953\"],[0.7777777777777778,\"#fb9f3a\"],[0.8888888888888888,\"#fdca26\"],[1.0,\"#f0f921\"]]}],\"surface\":[{\"type\":\"surface\",\"colorbar\":{\"outlinewidth\":0,\"ticks\":\"\"},\"colorscale\":[[0.0,\"#0d0887\"],[0.1111111111111111,\"#46039f\"],[0.2222222222222222,\"#7201a8\"],[0.3333333333333333,\"#9c179e\"],[0.4444444444444444,\"#bd3786\"],[0.5555555555555556,\"#d8576b\"],[0.6666666666666666,\"#ed7953\"],[0.7777777777777778,\"#fb9f3a\"],[0.8888888888888888,\"#fdca26\"],[1.0,\"#f0f921\"]]}],\"mesh3d\":[{\"type\":\"mesh3d\",\"colorbar\":{\"outlinewidth\":0,\"ticks\":\"\"}}],\"scatter\":[{\"fillpattern\":{\"fillmode\":\"overlay\",\"size\":10,\"solidity\":0.2},\"type\":\"scatter\"}],\"parcoords\":[{\"type\":\"parcoords\",\"line\":{\"colorbar\":{\"outlinewidth\":0,\"ticks\":\"\"}}}],\"scatterpolargl\":[{\"type\":\"scatterpolargl\",\"marker\":{\"colorbar\":{\"outlinewidth\":0,\"ticks\":\"\"}}}],\"bar\":[{\"error_x\":{\"color\":\"#2a3f5f\"},\"error_y\":{\"color\":\"#2a3f5f\"},\"marker\":{\"line\":{\"color\":\"#E5ECF6\",\"width\":0.5},\"pattern\":{\"fillmode\":\"overlay\",\"size\":10,\"solidity\":0.2}},\"type\":\"bar\"}],\"scattergeo\":[{\"type\":\"scattergeo\",\"marker\":{\"colorbar\":{\"outlinewidth\":0,\"ticks\":\"\"}}}],\"scatterpolar\":[{\"type\":\"scatterpolar\",\"marker\":{\"colorbar\":{\"outlinewidth\":0,\"ticks\":\"\"}}}],\"histogram\":[{\"marker\":{\"pattern\":{\"fillmode\":\"overlay\",\"size\":10,\"solidity\":0.2}},\"type\":\"histogram\"}],\"scattergl\":[{\"type\":\"scattergl\",\"marker\":{\"colorbar\":{\"outlinewidth\":0,\"ticks\":\"\"}}}],\"scatter3d\":[{\"type\":\"scatter3d\",\"line\":{\"colorbar\":{\"outlinewidth\":0,\"ticks\":\"\"}},\"marker\":{\"colorbar\":{\"outlinewidth\":0,\"ticks\":\"\"}}}],\"scattermapbox\":[{\"type\":\"scattermapbox\",\"marker\":{\"colorbar\":{\"outlinewidth\":0,\"ticks\":\"\"}}}],\"scatterternary\":[{\"type\":\"scatterternary\",\"marker\":{\"colorbar\":{\"outlinewidth\":0,\"ticks\":\"\"}}}],\"scattercarpet\":[{\"type\":\"scattercarpet\",\"marker\":{\"colorbar\":{\"outlinewidth\":0,\"ticks\":\"\"}}}],\"carpet\":[{\"aaxis\":{\"endlinecolor\":\"#2a3f5f\",\"gridcolor\":\"white\",\"linecolor\":\"white\",\"minorgridcolor\":\"white\",\"startlinecolor\":\"#2a3f5f\"},\"baxis\":{\"endlinecolor\":\"#2a3f5f\",\"gridcolor\":\"white\",\"linecolor\":\"white\",\"minorgridcolor\":\"white\",\"startlinecolor\":\"#2a3f5f\"},\"type\":\"carpet\"}],\"table\":[{\"cells\":{\"fill\":{\"color\":\"#EBF0F8\"},\"line\":{\"color\":\"white\"}},\"header\":{\"fill\":{\"color\":\"#C8D4E3\"},\"line\":{\"color\":\"white\"}},\"type\":\"table\"}],\"barpolar\":[{\"marker\":{\"line\":{\"color\":\"#E5ECF6\",\"width\":0.5},\"pattern\":{\"fillmode\":\"overlay\",\"size\":10,\"solidity\":0.2}},\"type\":\"barpolar\"}],\"pie\":[{\"automargin\":true,\"type\":\"pie\"}]},\"layout\":{\"autotypenumbers\":\"strict\",\"colorway\":[\"#636efa\",\"#EF553B\",\"#00cc96\",\"#ab63fa\",\"#FFA15A\",\"#19d3f3\",\"#FF6692\",\"#B6E880\",\"#FF97FF\",\"#FECB52\"],\"font\":{\"color\":\"#2a3f5f\"},\"hovermode\":\"closest\",\"hoverlabel\":{\"align\":\"left\"},\"paper_bgcolor\":\"white\",\"plot_bgcolor\":\"#E5ECF6\",\"polar\":{\"bgcolor\":\"#E5ECF6\",\"angularaxis\":{\"gridcolor\":\"white\",\"linecolor\":\"white\",\"ticks\":\"\"},\"radialaxis\":{\"gridcolor\":\"white\",\"linecolor\":\"white\",\"ticks\":\"\"}},\"ternary\":{\"bgcolor\":\"#E5ECF6\",\"aaxis\":{\"gridcolor\":\"white\",\"linecolor\":\"white\",\"ticks\":\"\"},\"baxis\":{\"gridcolor\":\"white\",\"linecolor\":\"white\",\"ticks\":\"\"},\"caxis\":{\"gridcolor\":\"white\",\"linecolor\":\"white\",\"ticks\":\"\"}},\"coloraxis\":{\"colorbar\":{\"outlinewidth\":0,\"ticks\":\"\"}},\"colorscale\":{\"sequential\":[[0.0,\"#0d0887\"],[0.1111111111111111,\"#46039f\"],[0.2222222222222222,\"#7201a8\"],[0.3333333333333333,\"#9c179e\"],[0.4444444444444444,\"#bd3786\"],[0.5555555555555556,\"#d8576b\"],[0.6666666666666666,\"#ed7953\"],[0.7777777777777778,\"#fb9f3a\"],[0.8888888888888888,\"#fdca26\"],[1.0,\"#f0f921\"]],\"sequentialminus\":[[0.0,\"#0d0887\"],[0.1111111111111111,\"#46039f\"],[0.2222222222222222,\"#7201a8\"],[0.3333333333333333,\"#9c179e\"],[0.4444444444444444,\"#bd3786\"],[0.5555555555555556,\"#d8576b\"],[0.6666666666666666,\"#ed7953\"],[0.7777777777777778,\"#fb9f3a\"],[0.8888888888888888,\"#fdca26\"],[1.0,\"#f0f921\"]],\"diverging\":[[0,\"#8e0152\"],[0.1,\"#c51b7d\"],[0.2,\"#de77ae\"],[0.3,\"#f1b6da\"],[0.4,\"#fde0ef\"],[0.5,\"#f7f7f7\"],[0.6,\"#e6f5d0\"],[0.7,\"#b8e186\"],[0.8,\"#7fbc41\"],[0.9,\"#4d9221\"],[1,\"#276419\"]]},\"xaxis\":{\"gridcolor\":\"white\",\"linecolor\":\"white\",\"ticks\":\"\",\"title\":{\"standoff\":15},\"zerolinecolor\":\"white\",\"automargin\":true,\"zerolinewidth\":2},\"yaxis\":{\"gridcolor\":\"white\",\"linecolor\":\"white\",\"ticks\":\"\",\"title\":{\"standoff\":15},\"zerolinecolor\":\"white\",\"automargin\":true,\"zerolinewidth\":2},\"scene\":{\"xaxis\":{\"backgroundcolor\":\"#E5ECF6\",\"gridcolor\":\"white\",\"linecolor\":\"white\",\"showbackground\":true,\"ticks\":\"\",\"zerolinecolor\":\"white\",\"gridwidth\":2},\"yaxis\":{\"backgroundcolor\":\"#E5ECF6\",\"gridcolor\":\"white\",\"linecolor\":\"white\",\"showbackground\":true,\"ticks\":\"\",\"zerolinecolor\":\"white\",\"gridwidth\":2},\"zaxis\":{\"backgroundcolor\":\"#E5ECF6\",\"gridcolor\":\"white\",\"linecolor\":\"white\",\"showbackground\":true,\"ticks\":\"\",\"zerolinecolor\":\"white\",\"gridwidth\":2}},\"shapedefaults\":{\"line\":{\"color\":\"#2a3f5f\"}},\"annotationdefaults\":{\"arrowcolor\":\"#2a3f5f\",\"arrowhead\":0,\"arrowwidth\":1},\"geo\":{\"bgcolor\":\"white\",\"landcolor\":\"#E5ECF6\",\"subunitcolor\":\"white\",\"showland\":true,\"showlakes\":true,\"lakecolor\":\"white\"},\"title\":{\"x\":0.05},\"mapbox\":{\"style\":\"light\"}}},\"xaxis\":{\"anchor\":\"y\",\"domain\":[0.0,1.0],\"title\":{\"text\":\"Model\"}},\"yaxis\":{\"anchor\":\"x\",\"domain\":[0.0,1.0],\"title\":{\"text\":\"RMSE\"}},\"legend\":{\"title\":{\"text\":\"Score\"},\"tracegroupgap\":0},\"margin\":{\"t\":60},\"barmode\":\"group\"},                        {\"responsive\": true}                    ).then(function(){\n",
       "                            \n",
       "var gd = document.getElementById('e3271070-cf5f-4008-953c-aa7e32200a3c');\n",
       "var x = new MutationObserver(function (mutations, observer) {{\n",
       "        var display = window.getComputedStyle(gd).display;\n",
       "        if (!display || display === 'none') {{\n",
       "            console.log([gd, 'removed!']);\n",
       "            Plotly.purge(gd);\n",
       "            observer.disconnect();\n",
       "        }}\n",
       "}});\n",
       "\n",
       "// Listen for the removal of the full notebook cells\n",
       "var notebookContainer = gd.closest('#notebook-container');\n",
       "if (notebookContainer) {{\n",
       "    x.observe(notebookContainer, {childList: true});\n",
       "}}\n",
       "\n",
       "// Listen for the clearing of the current output cell\n",
       "var outputEl = gd.closest('.output');\n",
       "if (outputEl) {{\n",
       "    x.observe(outputEl, {childList: true});\n",
       "}}\n",
       "\n",
       "                        })                };                });            </script>        </div>"
      ]
     },
     "metadata": {},
     "output_type": "display_data"
    }
   ],
   "source": [
    "train_size = 800\n",
    "data_indices = np.random.choice(design_matrix.index, size=design_matrix.shape[0], replace=False)\n",
    "train_indices = data_indices[train_size:]\n",
    "test_indices = data_indices[:train_size]\n",
    "\n",
    "model_1_train_test_fit = sm.OLS(y[train_indices], sm.add_constant(design_matrix.iloc[train_indices][model_1_variables])).fit()\n",
    "model_1_train_RMSE = ((y[train_indices] - model_1_train_test_fit.predict())**2).mean()**.5\n",
    "model_1_test_RMSE = ((y[test_indices] - \n",
    "                      model_1_train_test_fit.predict(sm.add_constant(design_matrix.iloc[test_indices][model_1_variables]))\n",
    "                     )**2).mean()**.5\n",
    "\n",
    "model_2_train_test_fit = sm.OLS(y[train_indices], sm.add_constant(design_matrix.iloc[train_indices][model_2_variables])).fit()\n",
    "model_2_train_RMSE = ((y[train_indices] - model_2_train_test_fit.predict())**2).mean()**.5\n",
    "model_2_test_RMSE = ((y[test_indices] - \n",
    "                      model_2_train_test_fit.predict(sm.add_constant(design_matrix.iloc[test_indices][model_2_variables]))\n",
    "                     )**2).mean()**.5\n",
    "\n",
    "model_3_train_test_fit = sm.OLS(y[train_indices], sm.add_constant(design_matrix.iloc[train_indices][model_3_variables])).fit()\n",
    "model_3_train_RMSE = ((y[train_indices] - model_3_train_test_fit.predict())**2).mean()**.5\n",
    "model_3_test_RMSE = ((y[test_indices] - \n",
    "                      model_3_train_test_fit.predict(sm.add_constant(design_matrix.iloc[test_indices][model_3_variables]))\n",
    "                     )**2).mean()**.5\n",
    "\n",
    "model_4_train_test_fit = sm.OLS(y[train_indices], sm.add_constant(design_matrix.iloc[train_indices][model_4_variables])).fit()\n",
    "model_4_train_RMSE = ((y[train_indices] - model_4_train_test_fit.predict())**2).mean()**.5\n",
    "model_4_test_RMSE = ((y[test_indices] - \n",
    "                      model_4_train_test_fit.predict(sm.add_constant(design_matrix.iloc[test_indices][model_4_variables]))\n",
    "                     )**2).mean()**.5\n",
    "\n",
    "import plotly.express as px\n",
    "px.bar(pd.DataFrame({'RMSE': [model_1_train_RMSE, model_2_train_RMSE, model_3_train_RMSE, model_4_train_RMSE] + \n",
    "                             [model_1_test_RMSE, model_2_test_RMSE, model_3_test_RMSE, model_4_test_RMSE],\n",
    "                     'Score': ['Training']*4+['Testing']*4,\n",
    "                     'Model': [1,2,3,4]+[1,2,3,4]}), \n",
    "       y='RMSE', x='Model', color='Score', barmode='group')"
   ]
  },
  {
   "cell_type": "code",
   "execution_count": 80,
   "id": "df187592",
   "metadata": {},
   "outputs": [],
   "source": [
    "reps = 100\n",
    "model_3_train_RMSEs = np.array([0.0]*reps)\n",
    "model_4_train_RMSEs = np.array([0.0]*reps)\n",
    "model_3_test_RMSEs = np.array([0.0]*reps)\n",
    "model_4_test_RMSEs = np.array([0.0]*reps)\n",
    "for i in range(reps):\n",
    "    data_indices = np.random.choice(design_matrix.index, size=design_matrix.shape[0], replace=False)\n",
    "    train_indices = data_indices[train_size:]\n",
    "    test_indices = data_indices[:train_size]\n",
    "\n",
    "    model_3_train_test_fit = sm.OLS(y[train_indices], sm.add_constant(design_matrix.iloc[train_indices][model_3_variables])).fit()\n",
    "    model_3_train_RMSE = ((y[train_indices] - model_3_train_test_fit.predict())**2).mean()**.5\n",
    "    model_3_test_RMSE = ((y[test_indices] - \n",
    "                          model_3_train_test_fit.predict(sm.add_constant(design_matrix.iloc[test_indices][model_3_variables]))\n",
    "                         )**2).mean()**.5\n",
    "    model_3_train_RMSEs[i] = model_3_train_RMSE\n",
    "    model_3_test_RMSEs[i] = model_3_test_RMSE\n",
    "\n",
    "    model_4_train_test_fit = sm.OLS(y[train_indices], sm.add_constant(design_matrix.iloc[train_indices][model_4_variables])).fit()\n",
    "    model_4_train_RMSE = ((y[train_indices] - model_4_train_test_fit.predict())**2).mean()**.5\n",
    "    model_4_test_RMSE = ((y[test_indices] - \n",
    "                          model_4_train_test_fit.predict(sm.add_constant(design_matrix.iloc[test_indices][model_4_variables]))\n",
    "                         )**2).mean()**.5\n",
    "    model_4_train_RMSEs[i] = model_4_train_RMSE\n",
    "    model_4_test_RMSEs[i] = model_4_test_RMSE"
   ]
  },
  {
   "cell_type": "code",
   "execution_count": 79,
   "id": "81f103ca",
   "metadata": {
    "scrolled": true
   },
   "outputs": [
    {
     "data": {
      "application/vnd.plotly.v1+json": {
       "config": {
        "plotlyServerURL": "https://plot.ly"
       },
       "data": [
        {
         "hovertemplate": "Model=Model 3<br>Training RMSE=%{x}<br>Incresed Test RMSE=%{y}<extra></extra>",
         "legendgroup": "Model 3",
         "marker": {
          "color": "#636efa",
          "symbol": "circle"
         },
         "mode": "markers",
         "name": "Model 3",
         "orientation": "v",
         "showlegend": true,
         "type": "scatter",
         "x": [
          0.14846920214629314,
          0.15096324026434282,
          0.15674795932830082,
          0.15166784504080433,
          0.14445687282234582,
          0.13990127561808216,
          0.14703193886427768,
          0.15157799807427322,
          0.14820602687070877,
          0.1419327208162105,
          0.14858701824065176,
          0.13502516207279608,
          0.13803912822495307,
          0.1480553849628526,
          0.14296896858555144,
          0.15360131719970802,
          0.13988509678647942,
          0.13724602728299254,
          0.13853985619306627,
          0.13628786125098044,
          0.14714333897746956,
          0.13565034512122282,
          0.14168772452112152,
          0.15262852540497707,
          0.13601563726636395,
          0.14701231835550485,
          0.14158721030287313,
          0.1352170166711767,
          0.14401024714344518,
          0.15345156130277746,
          0.1453431439433962,
          0.1333328462058068,
          0.14820225540635645,
          0.14682651105705957,
          0.15904704067813044,
          0.14314157658324678,
          0.13179019088425736,
          0.14984077768204865,
          0.14431352117078128,
          0.143692804534618,
          0.1407202996071464,
          0.14082007215817796,
          0.14010374124112368,
          0.1429111606369337,
          0.14181883924796346,
          0.14189515934172012,
          0.1445823751894408,
          0.13618773634946146,
          0.1523221875681739,
          0.13107691798286927,
          0.13938051962140563,
          0.14427546686253115,
          0.13820820346828966,
          0.15847483122256809,
          0.1489636424598938,
          0.13618893035408303,
          0.15771132289951664,
          0.13891832928629047,
          0.14104403183454503,
          0.14567059177660646,
          0.13800275064527642,
          0.14331118967865844,
          0.13684718638714088,
          0.13818532887404036,
          0.13880031109479937,
          0.14405921700831578,
          0.15040653017745984,
          0.1500660402282862,
          0.15355529668468254,
          0.151522023733237,
          0.1367413218632979,
          0.15719804935989817,
          0.13675318617257753,
          0.1385594418009893,
          0.1375279984182278,
          0.14635208072149122,
          0.1421521360978406,
          0.13944454878948556,
          0.14852750042499666,
          0.14720870585479834,
          0.14300924153287373,
          0.1544461615315508,
          0.14532400848868132,
          0.14647193172365996,
          0.1431655654235433,
          0.1527623967318405,
          0.14183139792311672,
          0.1397749835978826,
          0.1418973864735773,
          0.1453104003674546,
          0.14609948255437005,
          0.15020809945412036,
          0.15059137476332377,
          0.14701594724055622,
          0.14683536617978268,
          0.14770188478462531,
          0.13402754893770974,
          0.1442328125457141,
          0.13704280624721288,
          0.14622433837629015
         ],
         "xaxis": "x",
         "y": [
          0.0035600262120344672,
          0.007805815163814178,
          -0.0073083035247363815,
          -0.00017364216969464885,
          0.00729283665194741,
          0.016017066714845596,
          0.008349777784212226,
          -0.0007078871585841084,
          0.010920545708253404,
          0.01531859294130361,
          0.004629723302251948,
          0.0211231852767223,
          0.019825086658616764,
          0.00392546606299507,
          0.010329916032832787,
          0.0013585566230853718,
          0.018017878029366163,
          0.027652728114070962,
          0.020541136796575266,
          0.021448661590534518,
          0.004757968816659575,
          0.020689300752410517,
          0.013390296996394269,
          -0.002171218141460568,
          0.021198095172012793,
          0.00416667292179973,
          0.013337838488665488,
          0.021546056818588788,
          0.013783518958396801,
          -5.172187297078357e-05,
          0.010777263764703199,
          0.02549773576139283,
          0.006023973370220509,
          0.010250565605292333,
          -0.006733761560074797,
          0.011108521779613523,
          0.028341769314766535,
          7.097440418263323e-05,
          0.01325435654631596,
          0.01223118169871984,
          0.014625689358250482,
          0.014443311991897162,
          0.017804487354261905,
          0.010731377717268537,
          0.012707331890116219,
          0.012046411744143198,
          0.009426229260333041,
          0.01798187858654257,
          0.0008601953067291501,
          0.028804106506082144,
          0.015443805602507799,
          0.013155124359911952,
          0.017933286654681968,
          -0.010385252864931055,
          0.01266044494747498,
          0.01941109582063369,
          -0.010323796464337759,
          0.014140772175461419,
          0.016228035236454524,
          0.010867906730773896,
          0.01975039549018931,
          0.008946936085997975,
          0.0173874281599172,
          0.022871952286010355,
          0.02051334240736727,
          0.009852541132784443,
          0.0013079999644288465,
          0.005900043907653113,
          -0.0023509898592702083,
          -0.0001999707859732247,
          0.018117042636767472,
          0.0005690510011123751,
          0.020149686147286544,
          0.033689395882009865,
          0.017737929025741533,
          0.005037052316493235,
          0.015310637063500637,
          0.017307309455646958,
          0.004016149628885468,
          0.014037639491890214,
          0.015008758691015367,
          -0.003312878513768547,
          0.00959290588128911,
          0.010201249167263282,
          0.010035765696189552,
          0.002567379610794951,
          0.017102995217140926,
          0.012658604866758183,
          0.014109293787167632,
          0.006517734170238931,
          0.004514272743478875,
          0.003942998347014087,
          0.0019050378352778174,
          0.011530429322216457,
          0.011586357730480251,
          0.006100024308214297,
          0.02906841766185364,
          0.011022769690835599,
          0.025077753586953355,
          0.005785718162738457
         ],
         "yaxis": "y"
        },
        {
         "alignmentgroup": "True",
         "hovertemplate": "Model=Model 3<br>Training RMSE=%{x}<extra></extra>",
         "legendgroup": "Model 3",
         "marker": {
          "color": "#636efa",
          "symbol": "circle"
         },
         "name": "Model 3",
         "notched": true,
         "offsetgroup": "Model 3",
         "showlegend": false,
         "type": "box",
         "x": [
          0.14846920214629314,
          0.15096324026434282,
          0.15674795932830082,
          0.15166784504080433,
          0.14445687282234582,
          0.13990127561808216,
          0.14703193886427768,
          0.15157799807427322,
          0.14820602687070877,
          0.1419327208162105,
          0.14858701824065176,
          0.13502516207279608,
          0.13803912822495307,
          0.1480553849628526,
          0.14296896858555144,
          0.15360131719970802,
          0.13988509678647942,
          0.13724602728299254,
          0.13853985619306627,
          0.13628786125098044,
          0.14714333897746956,
          0.13565034512122282,
          0.14168772452112152,
          0.15262852540497707,
          0.13601563726636395,
          0.14701231835550485,
          0.14158721030287313,
          0.1352170166711767,
          0.14401024714344518,
          0.15345156130277746,
          0.1453431439433962,
          0.1333328462058068,
          0.14820225540635645,
          0.14682651105705957,
          0.15904704067813044,
          0.14314157658324678,
          0.13179019088425736,
          0.14984077768204865,
          0.14431352117078128,
          0.143692804534618,
          0.1407202996071464,
          0.14082007215817796,
          0.14010374124112368,
          0.1429111606369337,
          0.14181883924796346,
          0.14189515934172012,
          0.1445823751894408,
          0.13618773634946146,
          0.1523221875681739,
          0.13107691798286927,
          0.13938051962140563,
          0.14427546686253115,
          0.13820820346828966,
          0.15847483122256809,
          0.1489636424598938,
          0.13618893035408303,
          0.15771132289951664,
          0.13891832928629047,
          0.14104403183454503,
          0.14567059177660646,
          0.13800275064527642,
          0.14331118967865844,
          0.13684718638714088,
          0.13818532887404036,
          0.13880031109479937,
          0.14405921700831578,
          0.15040653017745984,
          0.1500660402282862,
          0.15355529668468254,
          0.151522023733237,
          0.1367413218632979,
          0.15719804935989817,
          0.13675318617257753,
          0.1385594418009893,
          0.1375279984182278,
          0.14635208072149122,
          0.1421521360978406,
          0.13944454878948556,
          0.14852750042499666,
          0.14720870585479834,
          0.14300924153287373,
          0.1544461615315508,
          0.14532400848868132,
          0.14647193172365996,
          0.1431655654235433,
          0.1527623967318405,
          0.14183139792311672,
          0.1397749835978826,
          0.1418973864735773,
          0.1453104003674546,
          0.14609948255437005,
          0.15020809945412036,
          0.15059137476332377,
          0.14701594724055622,
          0.14683536617978268,
          0.14770188478462531,
          0.13402754893770974,
          0.1442328125457141,
          0.13704280624721288,
          0.14622433837629015
         ],
         "xaxis": "x3",
         "yaxis": "y3"
        },
        {
         "alignmentgroup": "True",
         "hovertemplate": "Model=Model 3<br>Incresed Test RMSE=%{y}<extra></extra>",
         "legendgroup": "Model 3",
         "marker": {
          "color": "#636efa",
          "symbol": "circle"
         },
         "name": "Model 3",
         "offsetgroup": "Model 3",
         "scalegroup": "y",
         "showlegend": false,
         "type": "violin",
         "xaxis": "x2",
         "y": [
          0.0035600262120344672,
          0.007805815163814178,
          -0.0073083035247363815,
          -0.00017364216969464885,
          0.00729283665194741,
          0.016017066714845596,
          0.008349777784212226,
          -0.0007078871585841084,
          0.010920545708253404,
          0.01531859294130361,
          0.004629723302251948,
          0.0211231852767223,
          0.019825086658616764,
          0.00392546606299507,
          0.010329916032832787,
          0.0013585566230853718,
          0.018017878029366163,
          0.027652728114070962,
          0.020541136796575266,
          0.021448661590534518,
          0.004757968816659575,
          0.020689300752410517,
          0.013390296996394269,
          -0.002171218141460568,
          0.021198095172012793,
          0.00416667292179973,
          0.013337838488665488,
          0.021546056818588788,
          0.013783518958396801,
          -5.172187297078357e-05,
          0.010777263764703199,
          0.02549773576139283,
          0.006023973370220509,
          0.010250565605292333,
          -0.006733761560074797,
          0.011108521779613523,
          0.028341769314766535,
          7.097440418263323e-05,
          0.01325435654631596,
          0.01223118169871984,
          0.014625689358250482,
          0.014443311991897162,
          0.017804487354261905,
          0.010731377717268537,
          0.012707331890116219,
          0.012046411744143198,
          0.009426229260333041,
          0.01798187858654257,
          0.0008601953067291501,
          0.028804106506082144,
          0.015443805602507799,
          0.013155124359911952,
          0.017933286654681968,
          -0.010385252864931055,
          0.01266044494747498,
          0.01941109582063369,
          -0.010323796464337759,
          0.014140772175461419,
          0.016228035236454524,
          0.010867906730773896,
          0.01975039549018931,
          0.008946936085997975,
          0.0173874281599172,
          0.022871952286010355,
          0.02051334240736727,
          0.009852541132784443,
          0.0013079999644288465,
          0.005900043907653113,
          -0.0023509898592702083,
          -0.0001999707859732247,
          0.018117042636767472,
          0.0005690510011123751,
          0.020149686147286544,
          0.033689395882009865,
          0.017737929025741533,
          0.005037052316493235,
          0.015310637063500637,
          0.017307309455646958,
          0.004016149628885468,
          0.014037639491890214,
          0.015008758691015367,
          -0.003312878513768547,
          0.00959290588128911,
          0.010201249167263282,
          0.010035765696189552,
          0.002567379610794951,
          0.017102995217140926,
          0.012658604866758183,
          0.014109293787167632,
          0.006517734170238931,
          0.004514272743478875,
          0.003942998347014087,
          0.0019050378352778174,
          0.011530429322216457,
          0.011586357730480251,
          0.006100024308214297,
          0.02906841766185364,
          0.011022769690835599,
          0.025077753586953355,
          0.005785718162738457
         ],
         "yaxis": "y2"
        },
        {
         "hovertemplate": "Model=Model 4<br>Training RMSE=%{x}<br>Incresed Test RMSE=%{y}<extra></extra>",
         "legendgroup": "Model 4",
         "marker": {
          "color": "#EF553B",
          "symbol": "circle"
         },
         "mode": "markers",
         "name": "Model 4",
         "orientation": "v",
         "showlegend": true,
         "type": "scatter",
         "x": [
          0.15083066769468045,
          0.15624785923499104,
          0.1585056179009471,
          0.15453962291883072,
          0.14763350436320802,
          0.14164571271191806,
          0.1510924299845927,
          0.15434390961264594,
          0.14951603002613228,
          0.14428512551600053,
          0.153077741708048,
          0.1364058767587864,
          0.13968295716858758,
          0.1509108442161027,
          0.14532662886919087,
          0.15474129569368805,
          0.143959059097006,
          0.13931758668041272,
          0.14045528133504828,
          0.14037796219363996,
          0.1486239186886699,
          0.13926608633663784,
          0.14340474319056695,
          0.15497194608124473,
          0.139905619161336,
          0.150393170868035,
          0.14327456814357042,
          0.1398131052914678,
          0.14554813028602193,
          0.15562000866787995,
          0.14921933517573788,
          0.13506703120564562,
          0.15011062414702728,
          0.14843723123585464,
          0.1603314996301283,
          0.14594196625153136,
          0.13631476345331675,
          0.1526215092000374,
          0.14514577302670237,
          0.1459583521373721,
          0.1416085314054194,
          0.14345606147075082,
          0.14228149795552592,
          0.14402148998338882,
          0.14406742512113863,
          0.14638922483419575,
          0.14599036214968675,
          0.1405943816654068,
          0.15401520920229572,
          0.13273055439883863,
          0.14211780503531662,
          0.1451293098974673,
          0.1404883618817497,
          0.160851308308711,
          0.150507433128918,
          0.13881848014916773,
          0.15920389559931117,
          0.14327836694443974,
          0.1427661008724895,
          0.14867419709049973,
          0.1418426345735995,
          0.14422875044752415,
          0.1402680935280719,
          0.14129640299177282,
          0.14213133630507252,
          0.14680077050828894,
          0.15216382806907522,
          0.15139686584429513,
          0.15622317602400948,
          0.15360470783911376,
          0.13889173104281688,
          0.15897633807146702,
          0.14006204113913712,
          0.13953313692802682,
          0.13991748048505867,
          0.14962714800234705,
          0.14341858402136234,
          0.14094786649865626,
          0.15005148728133277,
          0.15134543354894664,
          0.14575104941598233,
          0.15657045127446298,
          0.1479713738576901,
          0.14836103481845603,
          0.14510996926039033,
          0.156626022175675,
          0.14533641970889144,
          0.1437965454404777,
          0.14508888488473418,
          0.14646548602671,
          0.15065318708558836,
          0.1512645277502499,
          0.1519975657722581,
          0.14827220822409945,
          0.15068366459605367,
          0.1493810085625893,
          0.13476180894351666,
          0.14628923009599032,
          0.13933812527248515,
          0.14775934674727048
         ],
         "xaxis": "x",
         "y": [
          0.0037806440839522337,
          -0.0005702541836762054,
          -0.007172198193092255,
          -0.000554699169781403,
          0.007051686584684497,
          0.01649735247931533,
          0.006854722075157832,
          0.00029956176996190353,
          0.013474390023885202,
          0.014091615098318716,
          0.0007259708518670693,
          0.0218502912240775,
          0.018812116714474136,
          0.003647136187802602,
          0.010364961388887428,
          -0.0010470764633338792,
          0.014534306413002296,
          0.02495581059492924,
          0.02093902020881458,
          0.019490458070736183,
          0.005562791438190773,
          0.01967076024068276,
          0.014374326516299551,
          -0.002328221557096166,
          0.018019492160604667,
          0.003947583340679656,
          0.01428920090871491,
          0.020104166742659246,
          0.014124835098937888,
          0.0008770516460676614,
          0.009653097003012007,
          0.026359148380145775,
          0.004081153156264616,
          0.01043113947273655,
          -0.005412789145243346,
          0.011660427069038165,
          0.024505191222223277,
          0.0006247619408643879,
          0.013797034071827169,
          0.012880083571212203,
          0.015801928696289547,
          0.014139646693782648,
          0.01933534960512659,
          0.01171318167873589,
          0.012669512426664448,
          0.009892938958161623,
          0.010050353226239844,
          0.017548934188118454,
          0.0018177638126055384,
          0.029096913085566833,
          0.015574000508319169,
          0.012654750762134959,
          0.01740013925317857,
          -0.011586450891449274,
          0.007076152427583582,
          0.019796057545965307,
          -0.010495732233271438,
          0.01274900042167762,
          0.016261728765048583,
          0.009182159734099915,
          0.016773468736264396,
          0.010502083123417771,
          0.017917792657778098,
          0.022619369260951594,
          0.02093699513840508,
          0.008336630121272587,
          0.0012212535336618147,
          0.0030262351039532787,
          -0.00423372216887663,
          -0.0011419908590751815,
          0.019043912474854235,
          -0.0027651978476736505,
          0.018675938335127318,
          0.03340388876487779,
          0.01888785247282651,
          0.004772473393844318,
          0.014509570697037316,
          0.017090623210261835,
          0.0037980192316624806,
          0.005442632842965034,
          0.01579481196321625,
          -0.0026767395124538407,
          0.008314175995681294,
          0.00761314864434573,
          0.010890605549636806,
          -0.0012784432776512533,
          0.013873218700748396,
          0.012308427090404334,
          0.012681328110589696,
          0.007542185674547119,
          0.0030673556053107953,
          0.004534298285799737,
          0.001520082229645392,
          0.011684551096940332,
          0.009822179180825258,
          0.0065085088511772915,
          0.02978581825399826,
          0.011720705823650257,
          0.023453536625202775,
          0.006656732382977204
         ],
         "yaxis": "y"
        },
        {
         "alignmentgroup": "True",
         "hovertemplate": "Model=Model 4<br>Training RMSE=%{x}<extra></extra>",
         "legendgroup": "Model 4",
         "marker": {
          "color": "#EF553B",
          "symbol": "circle"
         },
         "name": "Model 4",
         "notched": true,
         "offsetgroup": "Model 4",
         "showlegend": false,
         "type": "box",
         "x": [
          0.15083066769468045,
          0.15624785923499104,
          0.1585056179009471,
          0.15453962291883072,
          0.14763350436320802,
          0.14164571271191806,
          0.1510924299845927,
          0.15434390961264594,
          0.14951603002613228,
          0.14428512551600053,
          0.153077741708048,
          0.1364058767587864,
          0.13968295716858758,
          0.1509108442161027,
          0.14532662886919087,
          0.15474129569368805,
          0.143959059097006,
          0.13931758668041272,
          0.14045528133504828,
          0.14037796219363996,
          0.1486239186886699,
          0.13926608633663784,
          0.14340474319056695,
          0.15497194608124473,
          0.139905619161336,
          0.150393170868035,
          0.14327456814357042,
          0.1398131052914678,
          0.14554813028602193,
          0.15562000866787995,
          0.14921933517573788,
          0.13506703120564562,
          0.15011062414702728,
          0.14843723123585464,
          0.1603314996301283,
          0.14594196625153136,
          0.13631476345331675,
          0.1526215092000374,
          0.14514577302670237,
          0.1459583521373721,
          0.1416085314054194,
          0.14345606147075082,
          0.14228149795552592,
          0.14402148998338882,
          0.14406742512113863,
          0.14638922483419575,
          0.14599036214968675,
          0.1405943816654068,
          0.15401520920229572,
          0.13273055439883863,
          0.14211780503531662,
          0.1451293098974673,
          0.1404883618817497,
          0.160851308308711,
          0.150507433128918,
          0.13881848014916773,
          0.15920389559931117,
          0.14327836694443974,
          0.1427661008724895,
          0.14867419709049973,
          0.1418426345735995,
          0.14422875044752415,
          0.1402680935280719,
          0.14129640299177282,
          0.14213133630507252,
          0.14680077050828894,
          0.15216382806907522,
          0.15139686584429513,
          0.15622317602400948,
          0.15360470783911376,
          0.13889173104281688,
          0.15897633807146702,
          0.14006204113913712,
          0.13953313692802682,
          0.13991748048505867,
          0.14962714800234705,
          0.14341858402136234,
          0.14094786649865626,
          0.15005148728133277,
          0.15134543354894664,
          0.14575104941598233,
          0.15657045127446298,
          0.1479713738576901,
          0.14836103481845603,
          0.14510996926039033,
          0.156626022175675,
          0.14533641970889144,
          0.1437965454404777,
          0.14508888488473418,
          0.14646548602671,
          0.15065318708558836,
          0.1512645277502499,
          0.1519975657722581,
          0.14827220822409945,
          0.15068366459605367,
          0.1493810085625893,
          0.13476180894351666,
          0.14628923009599032,
          0.13933812527248515,
          0.14775934674727048
         ],
         "xaxis": "x3",
         "yaxis": "y3"
        },
        {
         "alignmentgroup": "True",
         "hovertemplate": "Model=Model 4<br>Incresed Test RMSE=%{y}<extra></extra>",
         "legendgroup": "Model 4",
         "marker": {
          "color": "#EF553B",
          "symbol": "circle"
         },
         "name": "Model 4",
         "offsetgroup": "Model 4",
         "scalegroup": "y",
         "showlegend": false,
         "type": "violin",
         "xaxis": "x2",
         "y": [
          0.0037806440839522337,
          -0.0005702541836762054,
          -0.007172198193092255,
          -0.000554699169781403,
          0.007051686584684497,
          0.01649735247931533,
          0.006854722075157832,
          0.00029956176996190353,
          0.013474390023885202,
          0.014091615098318716,
          0.0007259708518670693,
          0.0218502912240775,
          0.018812116714474136,
          0.003647136187802602,
          0.010364961388887428,
          -0.0010470764633338792,
          0.014534306413002296,
          0.02495581059492924,
          0.02093902020881458,
          0.019490458070736183,
          0.005562791438190773,
          0.01967076024068276,
          0.014374326516299551,
          -0.002328221557096166,
          0.018019492160604667,
          0.003947583340679656,
          0.01428920090871491,
          0.020104166742659246,
          0.014124835098937888,
          0.0008770516460676614,
          0.009653097003012007,
          0.026359148380145775,
          0.004081153156264616,
          0.01043113947273655,
          -0.005412789145243346,
          0.011660427069038165,
          0.024505191222223277,
          0.0006247619408643879,
          0.013797034071827169,
          0.012880083571212203,
          0.015801928696289547,
          0.014139646693782648,
          0.01933534960512659,
          0.01171318167873589,
          0.012669512426664448,
          0.009892938958161623,
          0.010050353226239844,
          0.017548934188118454,
          0.0018177638126055384,
          0.029096913085566833,
          0.015574000508319169,
          0.012654750762134959,
          0.01740013925317857,
          -0.011586450891449274,
          0.007076152427583582,
          0.019796057545965307,
          -0.010495732233271438,
          0.01274900042167762,
          0.016261728765048583,
          0.009182159734099915,
          0.016773468736264396,
          0.010502083123417771,
          0.017917792657778098,
          0.022619369260951594,
          0.02093699513840508,
          0.008336630121272587,
          0.0012212535336618147,
          0.0030262351039532787,
          -0.00423372216887663,
          -0.0011419908590751815,
          0.019043912474854235,
          -0.0027651978476736505,
          0.018675938335127318,
          0.03340388876487779,
          0.01888785247282651,
          0.004772473393844318,
          0.014509570697037316,
          0.017090623210261835,
          0.0037980192316624806,
          0.005442632842965034,
          0.01579481196321625,
          -0.0026767395124538407,
          0.008314175995681294,
          0.00761314864434573,
          0.010890605549636806,
          -0.0012784432776512533,
          0.013873218700748396,
          0.012308427090404334,
          0.012681328110589696,
          0.007542185674547119,
          0.0030673556053107953,
          0.004534298285799737,
          0.001520082229645392,
          0.011684551096940332,
          0.009822179180825258,
          0.0065085088511772915,
          0.02978581825399826,
          0.011720705823650257,
          0.023453536625202775,
          0.006656732382977204
         ],
         "yaxis": "y2"
        }
       ],
       "layout": {
        "legend": {
         "title": {
          "text": "Model"
         },
         "tracegroupgap": 0
        },
        "margin": {
         "t": 60
        },
        "template": {
         "data": {
          "bar": [
           {
            "error_x": {
             "color": "#2a3f5f"
            },
            "error_y": {
             "color": "#2a3f5f"
            },
            "marker": {
             "line": {
              "color": "#E5ECF6",
              "width": 0.5
             },
             "pattern": {
              "fillmode": "overlay",
              "size": 10,
              "solidity": 0.2
             }
            },
            "type": "bar"
           }
          ],
          "barpolar": [
           {
            "marker": {
             "line": {
              "color": "#E5ECF6",
              "width": 0.5
             },
             "pattern": {
              "fillmode": "overlay",
              "size": 10,
              "solidity": 0.2
             }
            },
            "type": "barpolar"
           }
          ],
          "carpet": [
           {
            "aaxis": {
             "endlinecolor": "#2a3f5f",
             "gridcolor": "white",
             "linecolor": "white",
             "minorgridcolor": "white",
             "startlinecolor": "#2a3f5f"
            },
            "baxis": {
             "endlinecolor": "#2a3f5f",
             "gridcolor": "white",
             "linecolor": "white",
             "minorgridcolor": "white",
             "startlinecolor": "#2a3f5f"
            },
            "type": "carpet"
           }
          ],
          "choropleth": [
           {
            "colorbar": {
             "outlinewidth": 0,
             "ticks": ""
            },
            "type": "choropleth"
           }
          ],
          "contour": [
           {
            "colorbar": {
             "outlinewidth": 0,
             "ticks": ""
            },
            "colorscale": [
             [
              0,
              "#0d0887"
             ],
             [
              0.1111111111111111,
              "#46039f"
             ],
             [
              0.2222222222222222,
              "#7201a8"
             ],
             [
              0.3333333333333333,
              "#9c179e"
             ],
             [
              0.4444444444444444,
              "#bd3786"
             ],
             [
              0.5555555555555556,
              "#d8576b"
             ],
             [
              0.6666666666666666,
              "#ed7953"
             ],
             [
              0.7777777777777778,
              "#fb9f3a"
             ],
             [
              0.8888888888888888,
              "#fdca26"
             ],
             [
              1,
              "#f0f921"
             ]
            ],
            "type": "contour"
           }
          ],
          "contourcarpet": [
           {
            "colorbar": {
             "outlinewidth": 0,
             "ticks": ""
            },
            "type": "contourcarpet"
           }
          ],
          "heatmap": [
           {
            "colorbar": {
             "outlinewidth": 0,
             "ticks": ""
            },
            "colorscale": [
             [
              0,
              "#0d0887"
             ],
             [
              0.1111111111111111,
              "#46039f"
             ],
             [
              0.2222222222222222,
              "#7201a8"
             ],
             [
              0.3333333333333333,
              "#9c179e"
             ],
             [
              0.4444444444444444,
              "#bd3786"
             ],
             [
              0.5555555555555556,
              "#d8576b"
             ],
             [
              0.6666666666666666,
              "#ed7953"
             ],
             [
              0.7777777777777778,
              "#fb9f3a"
             ],
             [
              0.8888888888888888,
              "#fdca26"
             ],
             [
              1,
              "#f0f921"
             ]
            ],
            "type": "heatmap"
           }
          ],
          "heatmapgl": [
           {
            "colorbar": {
             "outlinewidth": 0,
             "ticks": ""
            },
            "colorscale": [
             [
              0,
              "#0d0887"
             ],
             [
              0.1111111111111111,
              "#46039f"
             ],
             [
              0.2222222222222222,
              "#7201a8"
             ],
             [
              0.3333333333333333,
              "#9c179e"
             ],
             [
              0.4444444444444444,
              "#bd3786"
             ],
             [
              0.5555555555555556,
              "#d8576b"
             ],
             [
              0.6666666666666666,
              "#ed7953"
             ],
             [
              0.7777777777777778,
              "#fb9f3a"
             ],
             [
              0.8888888888888888,
              "#fdca26"
             ],
             [
              1,
              "#f0f921"
             ]
            ],
            "type": "heatmapgl"
           }
          ],
          "histogram": [
           {
            "marker": {
             "pattern": {
              "fillmode": "overlay",
              "size": 10,
              "solidity": 0.2
             }
            },
            "type": "histogram"
           }
          ],
          "histogram2d": [
           {
            "colorbar": {
             "outlinewidth": 0,
             "ticks": ""
            },
            "colorscale": [
             [
              0,
              "#0d0887"
             ],
             [
              0.1111111111111111,
              "#46039f"
             ],
             [
              0.2222222222222222,
              "#7201a8"
             ],
             [
              0.3333333333333333,
              "#9c179e"
             ],
             [
              0.4444444444444444,
              "#bd3786"
             ],
             [
              0.5555555555555556,
              "#d8576b"
             ],
             [
              0.6666666666666666,
              "#ed7953"
             ],
             [
              0.7777777777777778,
              "#fb9f3a"
             ],
             [
              0.8888888888888888,
              "#fdca26"
             ],
             [
              1,
              "#f0f921"
             ]
            ],
            "type": "histogram2d"
           }
          ],
          "histogram2dcontour": [
           {
            "colorbar": {
             "outlinewidth": 0,
             "ticks": ""
            },
            "colorscale": [
             [
              0,
              "#0d0887"
             ],
             [
              0.1111111111111111,
              "#46039f"
             ],
             [
              0.2222222222222222,
              "#7201a8"
             ],
             [
              0.3333333333333333,
              "#9c179e"
             ],
             [
              0.4444444444444444,
              "#bd3786"
             ],
             [
              0.5555555555555556,
              "#d8576b"
             ],
             [
              0.6666666666666666,
              "#ed7953"
             ],
             [
              0.7777777777777778,
              "#fb9f3a"
             ],
             [
              0.8888888888888888,
              "#fdca26"
             ],
             [
              1,
              "#f0f921"
             ]
            ],
            "type": "histogram2dcontour"
           }
          ],
          "mesh3d": [
           {
            "colorbar": {
             "outlinewidth": 0,
             "ticks": ""
            },
            "type": "mesh3d"
           }
          ],
          "parcoords": [
           {
            "line": {
             "colorbar": {
              "outlinewidth": 0,
              "ticks": ""
             }
            },
            "type": "parcoords"
           }
          ],
          "pie": [
           {
            "automargin": true,
            "type": "pie"
           }
          ],
          "scatter": [
           {
            "fillpattern": {
             "fillmode": "overlay",
             "size": 10,
             "solidity": 0.2
            },
            "type": "scatter"
           }
          ],
          "scatter3d": [
           {
            "line": {
             "colorbar": {
              "outlinewidth": 0,
              "ticks": ""
             }
            },
            "marker": {
             "colorbar": {
              "outlinewidth": 0,
              "ticks": ""
             }
            },
            "type": "scatter3d"
           }
          ],
          "scattercarpet": [
           {
            "marker": {
             "colorbar": {
              "outlinewidth": 0,
              "ticks": ""
             }
            },
            "type": "scattercarpet"
           }
          ],
          "scattergeo": [
           {
            "marker": {
             "colorbar": {
              "outlinewidth": 0,
              "ticks": ""
             }
            },
            "type": "scattergeo"
           }
          ],
          "scattergl": [
           {
            "marker": {
             "colorbar": {
              "outlinewidth": 0,
              "ticks": ""
             }
            },
            "type": "scattergl"
           }
          ],
          "scattermapbox": [
           {
            "marker": {
             "colorbar": {
              "outlinewidth": 0,
              "ticks": ""
             }
            },
            "type": "scattermapbox"
           }
          ],
          "scatterpolar": [
           {
            "marker": {
             "colorbar": {
              "outlinewidth": 0,
              "ticks": ""
             }
            },
            "type": "scatterpolar"
           }
          ],
          "scatterpolargl": [
           {
            "marker": {
             "colorbar": {
              "outlinewidth": 0,
              "ticks": ""
             }
            },
            "type": "scatterpolargl"
           }
          ],
          "scatterternary": [
           {
            "marker": {
             "colorbar": {
              "outlinewidth": 0,
              "ticks": ""
             }
            },
            "type": "scatterternary"
           }
          ],
          "surface": [
           {
            "colorbar": {
             "outlinewidth": 0,
             "ticks": ""
            },
            "colorscale": [
             [
              0,
              "#0d0887"
             ],
             [
              0.1111111111111111,
              "#46039f"
             ],
             [
              0.2222222222222222,
              "#7201a8"
             ],
             [
              0.3333333333333333,
              "#9c179e"
             ],
             [
              0.4444444444444444,
              "#bd3786"
             ],
             [
              0.5555555555555556,
              "#d8576b"
             ],
             [
              0.6666666666666666,
              "#ed7953"
             ],
             [
              0.7777777777777778,
              "#fb9f3a"
             ],
             [
              0.8888888888888888,
              "#fdca26"
             ],
             [
              1,
              "#f0f921"
             ]
            ],
            "type": "surface"
           }
          ],
          "table": [
           {
            "cells": {
             "fill": {
              "color": "#EBF0F8"
             },
             "line": {
              "color": "white"
             }
            },
            "header": {
             "fill": {
              "color": "#C8D4E3"
             },
             "line": {
              "color": "white"
             }
            },
            "type": "table"
           }
          ]
         },
         "layout": {
          "annotationdefaults": {
           "arrowcolor": "#2a3f5f",
           "arrowhead": 0,
           "arrowwidth": 1
          },
          "autotypenumbers": "strict",
          "coloraxis": {
           "colorbar": {
            "outlinewidth": 0,
            "ticks": ""
           }
          },
          "colorscale": {
           "diverging": [
            [
             0,
             "#8e0152"
            ],
            [
             0.1,
             "#c51b7d"
            ],
            [
             0.2,
             "#de77ae"
            ],
            [
             0.3,
             "#f1b6da"
            ],
            [
             0.4,
             "#fde0ef"
            ],
            [
             0.5,
             "#f7f7f7"
            ],
            [
             0.6,
             "#e6f5d0"
            ],
            [
             0.7,
             "#b8e186"
            ],
            [
             0.8,
             "#7fbc41"
            ],
            [
             0.9,
             "#4d9221"
            ],
            [
             1,
             "#276419"
            ]
           ],
           "sequential": [
            [
             0,
             "#0d0887"
            ],
            [
             0.1111111111111111,
             "#46039f"
            ],
            [
             0.2222222222222222,
             "#7201a8"
            ],
            [
             0.3333333333333333,
             "#9c179e"
            ],
            [
             0.4444444444444444,
             "#bd3786"
            ],
            [
             0.5555555555555556,
             "#d8576b"
            ],
            [
             0.6666666666666666,
             "#ed7953"
            ],
            [
             0.7777777777777778,
             "#fb9f3a"
            ],
            [
             0.8888888888888888,
             "#fdca26"
            ],
            [
             1,
             "#f0f921"
            ]
           ],
           "sequentialminus": [
            [
             0,
             "#0d0887"
            ],
            [
             0.1111111111111111,
             "#46039f"
            ],
            [
             0.2222222222222222,
             "#7201a8"
            ],
            [
             0.3333333333333333,
             "#9c179e"
            ],
            [
             0.4444444444444444,
             "#bd3786"
            ],
            [
             0.5555555555555556,
             "#d8576b"
            ],
            [
             0.6666666666666666,
             "#ed7953"
            ],
            [
             0.7777777777777778,
             "#fb9f3a"
            ],
            [
             0.8888888888888888,
             "#fdca26"
            ],
            [
             1,
             "#f0f921"
            ]
           ]
          },
          "colorway": [
           "#636efa",
           "#EF553B",
           "#00cc96",
           "#ab63fa",
           "#FFA15A",
           "#19d3f3",
           "#FF6692",
           "#B6E880",
           "#FF97FF",
           "#FECB52"
          ],
          "font": {
           "color": "#2a3f5f"
          },
          "geo": {
           "bgcolor": "white",
           "lakecolor": "white",
           "landcolor": "#E5ECF6",
           "showlakes": true,
           "showland": true,
           "subunitcolor": "white"
          },
          "hoverlabel": {
           "align": "left"
          },
          "hovermode": "closest",
          "mapbox": {
           "style": "light"
          },
          "paper_bgcolor": "white",
          "plot_bgcolor": "#E5ECF6",
          "polar": {
           "angularaxis": {
            "gridcolor": "white",
            "linecolor": "white",
            "ticks": ""
           },
           "bgcolor": "#E5ECF6",
           "radialaxis": {
            "gridcolor": "white",
            "linecolor": "white",
            "ticks": ""
           }
          },
          "scene": {
           "xaxis": {
            "backgroundcolor": "#E5ECF6",
            "gridcolor": "white",
            "gridwidth": 2,
            "linecolor": "white",
            "showbackground": true,
            "ticks": "",
            "zerolinecolor": "white"
           },
           "yaxis": {
            "backgroundcolor": "#E5ECF6",
            "gridcolor": "white",
            "gridwidth": 2,
            "linecolor": "white",
            "showbackground": true,
            "ticks": "",
            "zerolinecolor": "white"
           },
           "zaxis": {
            "backgroundcolor": "#E5ECF6",
            "gridcolor": "white",
            "gridwidth": 2,
            "linecolor": "white",
            "showbackground": true,
            "ticks": "",
            "zerolinecolor": "white"
           }
          },
          "shapedefaults": {
           "line": {
            "color": "#2a3f5f"
           }
          },
          "ternary": {
           "aaxis": {
            "gridcolor": "white",
            "linecolor": "white",
            "ticks": ""
           },
           "baxis": {
            "gridcolor": "white",
            "linecolor": "white",
            "ticks": ""
           },
           "bgcolor": "#E5ECF6",
           "caxis": {
            "gridcolor": "white",
            "linecolor": "white",
            "ticks": ""
           }
          },
          "title": {
           "x": 0.05
          },
          "xaxis": {
           "automargin": true,
           "gridcolor": "white",
           "linecolor": "white",
           "ticks": "",
           "title": {
            "standoff": 15
           },
           "zerolinecolor": "white",
           "zerolinewidth": 2
          },
          "yaxis": {
           "automargin": true,
           "gridcolor": "white",
           "linecolor": "white",
           "ticks": "",
           "title": {
            "standoff": 15
           },
           "zerolinecolor": "white",
           "zerolinewidth": 2
          }
         }
        },
        "xaxis": {
         "anchor": "y",
         "domain": [
          0,
          0.7363
         ],
         "title": {
          "text": "Training RMSE"
         }
        },
        "xaxis2": {
         "anchor": "y2",
         "domain": [
          0.7413,
          1
         ],
         "matches": "x2",
         "showgrid": false,
         "showline": false,
         "showticklabels": false,
         "ticks": ""
        },
        "xaxis3": {
         "anchor": "y3",
         "domain": [
          0,
          0.7363
         ],
         "matches": "x",
         "showgrid": true,
         "showticklabels": false
        },
        "xaxis4": {
         "anchor": "y4",
         "domain": [
          0.7413,
          1
         ],
         "matches": "x2",
         "showgrid": false,
         "showline": false,
         "showticklabels": false,
         "ticks": ""
        },
        "yaxis": {
         "anchor": "x",
         "domain": [
          0,
          0.7326
         ],
         "title": {
          "text": "Incresed Test RMSE"
         }
        },
        "yaxis2": {
         "anchor": "x2",
         "domain": [
          0,
          0.7326
         ],
         "matches": "y",
         "showgrid": true,
         "showticklabels": false
        },
        "yaxis3": {
         "anchor": "x3",
         "domain": [
          0.7426,
          1
         ],
         "matches": "y3",
         "showgrid": false,
         "showline": false,
         "showticklabels": false,
         "ticks": ""
        },
        "yaxis4": {
         "anchor": "x4",
         "domain": [
          0.7426,
          1
         ],
         "matches": "y3",
         "showgrid": true,
         "showline": false,
         "showticklabels": false,
         "ticks": ""
        }
       }
      },
      "text/html": [
       "<div>                            <div id=\"7ddd578a-3882-472c-9037-2391bbcd1fcc\" class=\"plotly-graph-div\" style=\"height:525px; width:100%;\"></div>            <script type=\"text/javascript\">                require([\"plotly\"], function(Plotly) {                    window.PLOTLYENV=window.PLOTLYENV || {};                                    if (document.getElementById(\"7ddd578a-3882-472c-9037-2391bbcd1fcc\")) {                    Plotly.newPlot(                        \"7ddd578a-3882-472c-9037-2391bbcd1fcc\",                        [{\"hovertemplate\":\"Model=Model 3\\u003cbr\\u003eTraining RMSE=%{x}\\u003cbr\\u003eIncresed Test RMSE=%{y}\\u003cextra\\u003e\\u003c\\u002fextra\\u003e\",\"legendgroup\":\"Model 3\",\"marker\":{\"color\":\"#636efa\",\"symbol\":\"circle\"},\"mode\":\"markers\",\"name\":\"Model 3\",\"orientation\":\"v\",\"showlegend\":true,\"x\":[0.14846920214629314,0.15096324026434282,0.15674795932830082,0.15166784504080433,0.14445687282234582,0.13990127561808216,0.14703193886427768,0.15157799807427322,0.14820602687070877,0.1419327208162105,0.14858701824065176,0.13502516207279608,0.13803912822495307,0.1480553849628526,0.14296896858555144,0.15360131719970802,0.13988509678647942,0.13724602728299254,0.13853985619306627,0.13628786125098044,0.14714333897746956,0.13565034512122282,0.14168772452112152,0.15262852540497707,0.13601563726636395,0.14701231835550485,0.14158721030287313,0.1352170166711767,0.14401024714344518,0.15345156130277746,0.1453431439433962,0.1333328462058068,0.14820225540635645,0.14682651105705957,0.15904704067813044,0.14314157658324678,0.13179019088425736,0.14984077768204865,0.14431352117078128,0.143692804534618,0.1407202996071464,0.14082007215817796,0.14010374124112368,0.1429111606369337,0.14181883924796346,0.14189515934172012,0.1445823751894408,0.13618773634946146,0.1523221875681739,0.13107691798286927,0.13938051962140563,0.14427546686253115,0.13820820346828966,0.15847483122256809,0.1489636424598938,0.13618893035408303,0.15771132289951664,0.13891832928629047,0.14104403183454503,0.14567059177660646,0.13800275064527642,0.14331118967865844,0.13684718638714088,0.13818532887404036,0.13880031109479937,0.14405921700831578,0.15040653017745984,0.1500660402282862,0.15355529668468254,0.151522023733237,0.1367413218632979,0.15719804935989817,0.13675318617257753,0.1385594418009893,0.1375279984182278,0.14635208072149122,0.1421521360978406,0.13944454878948556,0.14852750042499666,0.14720870585479834,0.14300924153287373,0.1544461615315508,0.14532400848868132,0.14647193172365996,0.1431655654235433,0.1527623967318405,0.14183139792311672,0.1397749835978826,0.1418973864735773,0.1453104003674546,0.14609948255437005,0.15020809945412036,0.15059137476332377,0.14701594724055622,0.14683536617978268,0.14770188478462531,0.13402754893770974,0.1442328125457141,0.13704280624721288,0.14622433837629015],\"xaxis\":\"x\",\"y\":[0.0035600262120344672,0.007805815163814178,-0.0073083035247363815,-0.00017364216969464885,0.00729283665194741,0.016017066714845596,0.008349777784212226,-0.0007078871585841084,0.010920545708253404,0.01531859294130361,0.004629723302251948,0.0211231852767223,0.019825086658616764,0.00392546606299507,0.010329916032832787,0.0013585566230853718,0.018017878029366163,0.027652728114070962,0.020541136796575266,0.021448661590534518,0.004757968816659575,0.020689300752410517,0.013390296996394269,-0.002171218141460568,0.021198095172012793,0.00416667292179973,0.013337838488665488,0.021546056818588788,0.013783518958396801,-5.172187297078357e-05,0.010777263764703199,0.02549773576139283,0.006023973370220509,0.010250565605292333,-0.006733761560074797,0.011108521779613523,0.028341769314766535,7.097440418263323e-05,0.01325435654631596,0.01223118169871984,0.014625689358250482,0.014443311991897162,0.017804487354261905,0.010731377717268537,0.012707331890116219,0.012046411744143198,0.009426229260333041,0.01798187858654257,0.0008601953067291501,0.028804106506082144,0.015443805602507799,0.013155124359911952,0.017933286654681968,-0.010385252864931055,0.01266044494747498,0.01941109582063369,-0.010323796464337759,0.014140772175461419,0.016228035236454524,0.010867906730773896,0.01975039549018931,0.008946936085997975,0.0173874281599172,0.022871952286010355,0.02051334240736727,0.009852541132784443,0.0013079999644288465,0.005900043907653113,-0.0023509898592702083,-0.0001999707859732247,0.018117042636767472,0.0005690510011123751,0.020149686147286544,0.033689395882009865,0.017737929025741533,0.005037052316493235,0.015310637063500637,0.017307309455646958,0.004016149628885468,0.014037639491890214,0.015008758691015367,-0.003312878513768547,0.00959290588128911,0.010201249167263282,0.010035765696189552,0.002567379610794951,0.017102995217140926,0.012658604866758183,0.014109293787167632,0.006517734170238931,0.004514272743478875,0.003942998347014087,0.0019050378352778174,0.011530429322216457,0.011586357730480251,0.006100024308214297,0.02906841766185364,0.011022769690835599,0.025077753586953355,0.005785718162738457],\"yaxis\":\"y\",\"type\":\"scatter\"},{\"alignmentgroup\":\"True\",\"hovertemplate\":\"Model=Model 3\\u003cbr\\u003eTraining RMSE=%{x}\\u003cextra\\u003e\\u003c\\u002fextra\\u003e\",\"legendgroup\":\"Model 3\",\"marker\":{\"color\":\"#636efa\",\"symbol\":\"circle\"},\"name\":\"Model 3\",\"notched\":true,\"offsetgroup\":\"Model 3\",\"showlegend\":false,\"x\":[0.14846920214629314,0.15096324026434282,0.15674795932830082,0.15166784504080433,0.14445687282234582,0.13990127561808216,0.14703193886427768,0.15157799807427322,0.14820602687070877,0.1419327208162105,0.14858701824065176,0.13502516207279608,0.13803912822495307,0.1480553849628526,0.14296896858555144,0.15360131719970802,0.13988509678647942,0.13724602728299254,0.13853985619306627,0.13628786125098044,0.14714333897746956,0.13565034512122282,0.14168772452112152,0.15262852540497707,0.13601563726636395,0.14701231835550485,0.14158721030287313,0.1352170166711767,0.14401024714344518,0.15345156130277746,0.1453431439433962,0.1333328462058068,0.14820225540635645,0.14682651105705957,0.15904704067813044,0.14314157658324678,0.13179019088425736,0.14984077768204865,0.14431352117078128,0.143692804534618,0.1407202996071464,0.14082007215817796,0.14010374124112368,0.1429111606369337,0.14181883924796346,0.14189515934172012,0.1445823751894408,0.13618773634946146,0.1523221875681739,0.13107691798286927,0.13938051962140563,0.14427546686253115,0.13820820346828966,0.15847483122256809,0.1489636424598938,0.13618893035408303,0.15771132289951664,0.13891832928629047,0.14104403183454503,0.14567059177660646,0.13800275064527642,0.14331118967865844,0.13684718638714088,0.13818532887404036,0.13880031109479937,0.14405921700831578,0.15040653017745984,0.1500660402282862,0.15355529668468254,0.151522023733237,0.1367413218632979,0.15719804935989817,0.13675318617257753,0.1385594418009893,0.1375279984182278,0.14635208072149122,0.1421521360978406,0.13944454878948556,0.14852750042499666,0.14720870585479834,0.14300924153287373,0.1544461615315508,0.14532400848868132,0.14647193172365996,0.1431655654235433,0.1527623967318405,0.14183139792311672,0.1397749835978826,0.1418973864735773,0.1453104003674546,0.14609948255437005,0.15020809945412036,0.15059137476332377,0.14701594724055622,0.14683536617978268,0.14770188478462531,0.13402754893770974,0.1442328125457141,0.13704280624721288,0.14622433837629015],\"xaxis\":\"x3\",\"yaxis\":\"y3\",\"type\":\"box\"},{\"alignmentgroup\":\"True\",\"hovertemplate\":\"Model=Model 3\\u003cbr\\u003eIncresed Test RMSE=%{y}\\u003cextra\\u003e\\u003c\\u002fextra\\u003e\",\"legendgroup\":\"Model 3\",\"marker\":{\"color\":\"#636efa\",\"symbol\":\"circle\"},\"name\":\"Model 3\",\"offsetgroup\":\"Model 3\",\"scalegroup\":\"y\",\"showlegend\":false,\"xaxis\":\"x2\",\"y\":[0.0035600262120344672,0.007805815163814178,-0.0073083035247363815,-0.00017364216969464885,0.00729283665194741,0.016017066714845596,0.008349777784212226,-0.0007078871585841084,0.010920545708253404,0.01531859294130361,0.004629723302251948,0.0211231852767223,0.019825086658616764,0.00392546606299507,0.010329916032832787,0.0013585566230853718,0.018017878029366163,0.027652728114070962,0.020541136796575266,0.021448661590534518,0.004757968816659575,0.020689300752410517,0.013390296996394269,-0.002171218141460568,0.021198095172012793,0.00416667292179973,0.013337838488665488,0.021546056818588788,0.013783518958396801,-5.172187297078357e-05,0.010777263764703199,0.02549773576139283,0.006023973370220509,0.010250565605292333,-0.006733761560074797,0.011108521779613523,0.028341769314766535,7.097440418263323e-05,0.01325435654631596,0.01223118169871984,0.014625689358250482,0.014443311991897162,0.017804487354261905,0.010731377717268537,0.012707331890116219,0.012046411744143198,0.009426229260333041,0.01798187858654257,0.0008601953067291501,0.028804106506082144,0.015443805602507799,0.013155124359911952,0.017933286654681968,-0.010385252864931055,0.01266044494747498,0.01941109582063369,-0.010323796464337759,0.014140772175461419,0.016228035236454524,0.010867906730773896,0.01975039549018931,0.008946936085997975,0.0173874281599172,0.022871952286010355,0.02051334240736727,0.009852541132784443,0.0013079999644288465,0.005900043907653113,-0.0023509898592702083,-0.0001999707859732247,0.018117042636767472,0.0005690510011123751,0.020149686147286544,0.033689395882009865,0.017737929025741533,0.005037052316493235,0.015310637063500637,0.017307309455646958,0.004016149628885468,0.014037639491890214,0.015008758691015367,-0.003312878513768547,0.00959290588128911,0.010201249167263282,0.010035765696189552,0.002567379610794951,0.017102995217140926,0.012658604866758183,0.014109293787167632,0.006517734170238931,0.004514272743478875,0.003942998347014087,0.0019050378352778174,0.011530429322216457,0.011586357730480251,0.006100024308214297,0.02906841766185364,0.011022769690835599,0.025077753586953355,0.005785718162738457],\"yaxis\":\"y2\",\"type\":\"violin\"},{\"hovertemplate\":\"Model=Model 4\\u003cbr\\u003eTraining RMSE=%{x}\\u003cbr\\u003eIncresed Test RMSE=%{y}\\u003cextra\\u003e\\u003c\\u002fextra\\u003e\",\"legendgroup\":\"Model 4\",\"marker\":{\"color\":\"#EF553B\",\"symbol\":\"circle\"},\"mode\":\"markers\",\"name\":\"Model 4\",\"orientation\":\"v\",\"showlegend\":true,\"x\":[0.15083066769468045,0.15624785923499104,0.1585056179009471,0.15453962291883072,0.14763350436320802,0.14164571271191806,0.1510924299845927,0.15434390961264594,0.14951603002613228,0.14428512551600053,0.153077741708048,0.1364058767587864,0.13968295716858758,0.1509108442161027,0.14532662886919087,0.15474129569368805,0.143959059097006,0.13931758668041272,0.14045528133504828,0.14037796219363996,0.1486239186886699,0.13926608633663784,0.14340474319056695,0.15497194608124473,0.139905619161336,0.150393170868035,0.14327456814357042,0.1398131052914678,0.14554813028602193,0.15562000866787995,0.14921933517573788,0.13506703120564562,0.15011062414702728,0.14843723123585464,0.1603314996301283,0.14594196625153136,0.13631476345331675,0.1526215092000374,0.14514577302670237,0.1459583521373721,0.1416085314054194,0.14345606147075082,0.14228149795552592,0.14402148998338882,0.14406742512113863,0.14638922483419575,0.14599036214968675,0.1405943816654068,0.15401520920229572,0.13273055439883863,0.14211780503531662,0.1451293098974673,0.1404883618817497,0.160851308308711,0.150507433128918,0.13881848014916773,0.15920389559931117,0.14327836694443974,0.1427661008724895,0.14867419709049973,0.1418426345735995,0.14422875044752415,0.1402680935280719,0.14129640299177282,0.14213133630507252,0.14680077050828894,0.15216382806907522,0.15139686584429513,0.15622317602400948,0.15360470783911376,0.13889173104281688,0.15897633807146702,0.14006204113913712,0.13953313692802682,0.13991748048505867,0.14962714800234705,0.14341858402136234,0.14094786649865626,0.15005148728133277,0.15134543354894664,0.14575104941598233,0.15657045127446298,0.1479713738576901,0.14836103481845603,0.14510996926039033,0.156626022175675,0.14533641970889144,0.1437965454404777,0.14508888488473418,0.14646548602671,0.15065318708558836,0.1512645277502499,0.1519975657722581,0.14827220822409945,0.15068366459605367,0.1493810085625893,0.13476180894351666,0.14628923009599032,0.13933812527248515,0.14775934674727048],\"xaxis\":\"x\",\"y\":[0.0037806440839522337,-0.0005702541836762054,-0.007172198193092255,-0.000554699169781403,0.007051686584684497,0.01649735247931533,0.006854722075157832,0.00029956176996190353,0.013474390023885202,0.014091615098318716,0.0007259708518670693,0.0218502912240775,0.018812116714474136,0.003647136187802602,0.010364961388887428,-0.0010470764633338792,0.014534306413002296,0.02495581059492924,0.02093902020881458,0.019490458070736183,0.005562791438190773,0.01967076024068276,0.014374326516299551,-0.002328221557096166,0.018019492160604667,0.003947583340679656,0.01428920090871491,0.020104166742659246,0.014124835098937888,0.0008770516460676614,0.009653097003012007,0.026359148380145775,0.004081153156264616,0.01043113947273655,-0.005412789145243346,0.011660427069038165,0.024505191222223277,0.0006247619408643879,0.013797034071827169,0.012880083571212203,0.015801928696289547,0.014139646693782648,0.01933534960512659,0.01171318167873589,0.012669512426664448,0.009892938958161623,0.010050353226239844,0.017548934188118454,0.0018177638126055384,0.029096913085566833,0.015574000508319169,0.012654750762134959,0.01740013925317857,-0.011586450891449274,0.007076152427583582,0.019796057545965307,-0.010495732233271438,0.01274900042167762,0.016261728765048583,0.009182159734099915,0.016773468736264396,0.010502083123417771,0.017917792657778098,0.022619369260951594,0.02093699513840508,0.008336630121272587,0.0012212535336618147,0.0030262351039532787,-0.00423372216887663,-0.0011419908590751815,0.019043912474854235,-0.0027651978476736505,0.018675938335127318,0.03340388876487779,0.01888785247282651,0.004772473393844318,0.014509570697037316,0.017090623210261835,0.0037980192316624806,0.005442632842965034,0.01579481196321625,-0.0026767395124538407,0.008314175995681294,0.00761314864434573,0.010890605549636806,-0.0012784432776512533,0.013873218700748396,0.012308427090404334,0.012681328110589696,0.007542185674547119,0.0030673556053107953,0.004534298285799737,0.001520082229645392,0.011684551096940332,0.009822179180825258,0.0065085088511772915,0.02978581825399826,0.011720705823650257,0.023453536625202775,0.006656732382977204],\"yaxis\":\"y\",\"type\":\"scatter\"},{\"alignmentgroup\":\"True\",\"hovertemplate\":\"Model=Model 4\\u003cbr\\u003eTraining RMSE=%{x}\\u003cextra\\u003e\\u003c\\u002fextra\\u003e\",\"legendgroup\":\"Model 4\",\"marker\":{\"color\":\"#EF553B\",\"symbol\":\"circle\"},\"name\":\"Model 4\",\"notched\":true,\"offsetgroup\":\"Model 4\",\"showlegend\":false,\"x\":[0.15083066769468045,0.15624785923499104,0.1585056179009471,0.15453962291883072,0.14763350436320802,0.14164571271191806,0.1510924299845927,0.15434390961264594,0.14951603002613228,0.14428512551600053,0.153077741708048,0.1364058767587864,0.13968295716858758,0.1509108442161027,0.14532662886919087,0.15474129569368805,0.143959059097006,0.13931758668041272,0.14045528133504828,0.14037796219363996,0.1486239186886699,0.13926608633663784,0.14340474319056695,0.15497194608124473,0.139905619161336,0.150393170868035,0.14327456814357042,0.1398131052914678,0.14554813028602193,0.15562000866787995,0.14921933517573788,0.13506703120564562,0.15011062414702728,0.14843723123585464,0.1603314996301283,0.14594196625153136,0.13631476345331675,0.1526215092000374,0.14514577302670237,0.1459583521373721,0.1416085314054194,0.14345606147075082,0.14228149795552592,0.14402148998338882,0.14406742512113863,0.14638922483419575,0.14599036214968675,0.1405943816654068,0.15401520920229572,0.13273055439883863,0.14211780503531662,0.1451293098974673,0.1404883618817497,0.160851308308711,0.150507433128918,0.13881848014916773,0.15920389559931117,0.14327836694443974,0.1427661008724895,0.14867419709049973,0.1418426345735995,0.14422875044752415,0.1402680935280719,0.14129640299177282,0.14213133630507252,0.14680077050828894,0.15216382806907522,0.15139686584429513,0.15622317602400948,0.15360470783911376,0.13889173104281688,0.15897633807146702,0.14006204113913712,0.13953313692802682,0.13991748048505867,0.14962714800234705,0.14341858402136234,0.14094786649865626,0.15005148728133277,0.15134543354894664,0.14575104941598233,0.15657045127446298,0.1479713738576901,0.14836103481845603,0.14510996926039033,0.156626022175675,0.14533641970889144,0.1437965454404777,0.14508888488473418,0.14646548602671,0.15065318708558836,0.1512645277502499,0.1519975657722581,0.14827220822409945,0.15068366459605367,0.1493810085625893,0.13476180894351666,0.14628923009599032,0.13933812527248515,0.14775934674727048],\"xaxis\":\"x3\",\"yaxis\":\"y3\",\"type\":\"box\"},{\"alignmentgroup\":\"True\",\"hovertemplate\":\"Model=Model 4\\u003cbr\\u003eIncresed Test RMSE=%{y}\\u003cextra\\u003e\\u003c\\u002fextra\\u003e\",\"legendgroup\":\"Model 4\",\"marker\":{\"color\":\"#EF553B\",\"symbol\":\"circle\"},\"name\":\"Model 4\",\"offsetgroup\":\"Model 4\",\"scalegroup\":\"y\",\"showlegend\":false,\"xaxis\":\"x2\",\"y\":[0.0037806440839522337,-0.0005702541836762054,-0.007172198193092255,-0.000554699169781403,0.007051686584684497,0.01649735247931533,0.006854722075157832,0.00029956176996190353,0.013474390023885202,0.014091615098318716,0.0007259708518670693,0.0218502912240775,0.018812116714474136,0.003647136187802602,0.010364961388887428,-0.0010470764633338792,0.014534306413002296,0.02495581059492924,0.02093902020881458,0.019490458070736183,0.005562791438190773,0.01967076024068276,0.014374326516299551,-0.002328221557096166,0.018019492160604667,0.003947583340679656,0.01428920090871491,0.020104166742659246,0.014124835098937888,0.0008770516460676614,0.009653097003012007,0.026359148380145775,0.004081153156264616,0.01043113947273655,-0.005412789145243346,0.011660427069038165,0.024505191222223277,0.0006247619408643879,0.013797034071827169,0.012880083571212203,0.015801928696289547,0.014139646693782648,0.01933534960512659,0.01171318167873589,0.012669512426664448,0.009892938958161623,0.010050353226239844,0.017548934188118454,0.0018177638126055384,0.029096913085566833,0.015574000508319169,0.012654750762134959,0.01740013925317857,-0.011586450891449274,0.007076152427583582,0.019796057545965307,-0.010495732233271438,0.01274900042167762,0.016261728765048583,0.009182159734099915,0.016773468736264396,0.010502083123417771,0.017917792657778098,0.022619369260951594,0.02093699513840508,0.008336630121272587,0.0012212535336618147,0.0030262351039532787,-0.00423372216887663,-0.0011419908590751815,0.019043912474854235,-0.0027651978476736505,0.018675938335127318,0.03340388876487779,0.01888785247282651,0.004772473393844318,0.014509570697037316,0.017090623210261835,0.0037980192316624806,0.005442632842965034,0.01579481196321625,-0.0026767395124538407,0.008314175995681294,0.00761314864434573,0.010890605549636806,-0.0012784432776512533,0.013873218700748396,0.012308427090404334,0.012681328110589696,0.007542185674547119,0.0030673556053107953,0.004534298285799737,0.001520082229645392,0.011684551096940332,0.009822179180825258,0.0065085088511772915,0.02978581825399826,0.011720705823650257,0.023453536625202775,0.006656732382977204],\"yaxis\":\"y2\",\"type\":\"violin\"}],                        {\"template\":{\"data\":{\"histogram2dcontour\":[{\"type\":\"histogram2dcontour\",\"colorbar\":{\"outlinewidth\":0,\"ticks\":\"\"},\"colorscale\":[[0.0,\"#0d0887\"],[0.1111111111111111,\"#46039f\"],[0.2222222222222222,\"#7201a8\"],[0.3333333333333333,\"#9c179e\"],[0.4444444444444444,\"#bd3786\"],[0.5555555555555556,\"#d8576b\"],[0.6666666666666666,\"#ed7953\"],[0.7777777777777778,\"#fb9f3a\"],[0.8888888888888888,\"#fdca26\"],[1.0,\"#f0f921\"]]}],\"choropleth\":[{\"type\":\"choropleth\",\"colorbar\":{\"outlinewidth\":0,\"ticks\":\"\"}}],\"histogram2d\":[{\"type\":\"histogram2d\",\"colorbar\":{\"outlinewidth\":0,\"ticks\":\"\"},\"colorscale\":[[0.0,\"#0d0887\"],[0.1111111111111111,\"#46039f\"],[0.2222222222222222,\"#7201a8\"],[0.3333333333333333,\"#9c179e\"],[0.4444444444444444,\"#bd3786\"],[0.5555555555555556,\"#d8576b\"],[0.6666666666666666,\"#ed7953\"],[0.7777777777777778,\"#fb9f3a\"],[0.8888888888888888,\"#fdca26\"],[1.0,\"#f0f921\"]]}],\"heatmap\":[{\"type\":\"heatmap\",\"colorbar\":{\"outlinewidth\":0,\"ticks\":\"\"},\"colorscale\":[[0.0,\"#0d0887\"],[0.1111111111111111,\"#46039f\"],[0.2222222222222222,\"#7201a8\"],[0.3333333333333333,\"#9c179e\"],[0.4444444444444444,\"#bd3786\"],[0.5555555555555556,\"#d8576b\"],[0.6666666666666666,\"#ed7953\"],[0.7777777777777778,\"#fb9f3a\"],[0.8888888888888888,\"#fdca26\"],[1.0,\"#f0f921\"]]}],\"heatmapgl\":[{\"type\":\"heatmapgl\",\"colorbar\":{\"outlinewidth\":0,\"ticks\":\"\"},\"colorscale\":[[0.0,\"#0d0887\"],[0.1111111111111111,\"#46039f\"],[0.2222222222222222,\"#7201a8\"],[0.3333333333333333,\"#9c179e\"],[0.4444444444444444,\"#bd3786\"],[0.5555555555555556,\"#d8576b\"],[0.6666666666666666,\"#ed7953\"],[0.7777777777777778,\"#fb9f3a\"],[0.8888888888888888,\"#fdca26\"],[1.0,\"#f0f921\"]]}],\"contourcarpet\":[{\"type\":\"contourcarpet\",\"colorbar\":{\"outlinewidth\":0,\"ticks\":\"\"}}],\"contour\":[{\"type\":\"contour\",\"colorbar\":{\"outlinewidth\":0,\"ticks\":\"\"},\"colorscale\":[[0.0,\"#0d0887\"],[0.1111111111111111,\"#46039f\"],[0.2222222222222222,\"#7201a8\"],[0.3333333333333333,\"#9c179e\"],[0.4444444444444444,\"#bd3786\"],[0.5555555555555556,\"#d8576b\"],[0.6666666666666666,\"#ed7953\"],[0.7777777777777778,\"#fb9f3a\"],[0.8888888888888888,\"#fdca26\"],[1.0,\"#f0f921\"]]}],\"surface\":[{\"type\":\"surface\",\"colorbar\":{\"outlinewidth\":0,\"ticks\":\"\"},\"colorscale\":[[0.0,\"#0d0887\"],[0.1111111111111111,\"#46039f\"],[0.2222222222222222,\"#7201a8\"],[0.3333333333333333,\"#9c179e\"],[0.4444444444444444,\"#bd3786\"],[0.5555555555555556,\"#d8576b\"],[0.6666666666666666,\"#ed7953\"],[0.7777777777777778,\"#fb9f3a\"],[0.8888888888888888,\"#fdca26\"],[1.0,\"#f0f921\"]]}],\"mesh3d\":[{\"type\":\"mesh3d\",\"colorbar\":{\"outlinewidth\":0,\"ticks\":\"\"}}],\"scatter\":[{\"fillpattern\":{\"fillmode\":\"overlay\",\"size\":10,\"solidity\":0.2},\"type\":\"scatter\"}],\"parcoords\":[{\"type\":\"parcoords\",\"line\":{\"colorbar\":{\"outlinewidth\":0,\"ticks\":\"\"}}}],\"scatterpolargl\":[{\"type\":\"scatterpolargl\",\"marker\":{\"colorbar\":{\"outlinewidth\":0,\"ticks\":\"\"}}}],\"bar\":[{\"error_x\":{\"color\":\"#2a3f5f\"},\"error_y\":{\"color\":\"#2a3f5f\"},\"marker\":{\"line\":{\"color\":\"#E5ECF6\",\"width\":0.5},\"pattern\":{\"fillmode\":\"overlay\",\"size\":10,\"solidity\":0.2}},\"type\":\"bar\"}],\"scattergeo\":[{\"type\":\"scattergeo\",\"marker\":{\"colorbar\":{\"outlinewidth\":0,\"ticks\":\"\"}}}],\"scatterpolar\":[{\"type\":\"scatterpolar\",\"marker\":{\"colorbar\":{\"outlinewidth\":0,\"ticks\":\"\"}}}],\"histogram\":[{\"marker\":{\"pattern\":{\"fillmode\":\"overlay\",\"size\":10,\"solidity\":0.2}},\"type\":\"histogram\"}],\"scattergl\":[{\"type\":\"scattergl\",\"marker\":{\"colorbar\":{\"outlinewidth\":0,\"ticks\":\"\"}}}],\"scatter3d\":[{\"type\":\"scatter3d\",\"line\":{\"colorbar\":{\"outlinewidth\":0,\"ticks\":\"\"}},\"marker\":{\"colorbar\":{\"outlinewidth\":0,\"ticks\":\"\"}}}],\"scattermapbox\":[{\"type\":\"scattermapbox\",\"marker\":{\"colorbar\":{\"outlinewidth\":0,\"ticks\":\"\"}}}],\"scatterternary\":[{\"type\":\"scatterternary\",\"marker\":{\"colorbar\":{\"outlinewidth\":0,\"ticks\":\"\"}}}],\"scattercarpet\":[{\"type\":\"scattercarpet\",\"marker\":{\"colorbar\":{\"outlinewidth\":0,\"ticks\":\"\"}}}],\"carpet\":[{\"aaxis\":{\"endlinecolor\":\"#2a3f5f\",\"gridcolor\":\"white\",\"linecolor\":\"white\",\"minorgridcolor\":\"white\",\"startlinecolor\":\"#2a3f5f\"},\"baxis\":{\"endlinecolor\":\"#2a3f5f\",\"gridcolor\":\"white\",\"linecolor\":\"white\",\"minorgridcolor\":\"white\",\"startlinecolor\":\"#2a3f5f\"},\"type\":\"carpet\"}],\"table\":[{\"cells\":{\"fill\":{\"color\":\"#EBF0F8\"},\"line\":{\"color\":\"white\"}},\"header\":{\"fill\":{\"color\":\"#C8D4E3\"},\"line\":{\"color\":\"white\"}},\"type\":\"table\"}],\"barpolar\":[{\"marker\":{\"line\":{\"color\":\"#E5ECF6\",\"width\":0.5},\"pattern\":{\"fillmode\":\"overlay\",\"size\":10,\"solidity\":0.2}},\"type\":\"barpolar\"}],\"pie\":[{\"automargin\":true,\"type\":\"pie\"}]},\"layout\":{\"autotypenumbers\":\"strict\",\"colorway\":[\"#636efa\",\"#EF553B\",\"#00cc96\",\"#ab63fa\",\"#FFA15A\",\"#19d3f3\",\"#FF6692\",\"#B6E880\",\"#FF97FF\",\"#FECB52\"],\"font\":{\"color\":\"#2a3f5f\"},\"hovermode\":\"closest\",\"hoverlabel\":{\"align\":\"left\"},\"paper_bgcolor\":\"white\",\"plot_bgcolor\":\"#E5ECF6\",\"polar\":{\"bgcolor\":\"#E5ECF6\",\"angularaxis\":{\"gridcolor\":\"white\",\"linecolor\":\"white\",\"ticks\":\"\"},\"radialaxis\":{\"gridcolor\":\"white\",\"linecolor\":\"white\",\"ticks\":\"\"}},\"ternary\":{\"bgcolor\":\"#E5ECF6\",\"aaxis\":{\"gridcolor\":\"white\",\"linecolor\":\"white\",\"ticks\":\"\"},\"baxis\":{\"gridcolor\":\"white\",\"linecolor\":\"white\",\"ticks\":\"\"},\"caxis\":{\"gridcolor\":\"white\",\"linecolor\":\"white\",\"ticks\":\"\"}},\"coloraxis\":{\"colorbar\":{\"outlinewidth\":0,\"ticks\":\"\"}},\"colorscale\":{\"sequential\":[[0.0,\"#0d0887\"],[0.1111111111111111,\"#46039f\"],[0.2222222222222222,\"#7201a8\"],[0.3333333333333333,\"#9c179e\"],[0.4444444444444444,\"#bd3786\"],[0.5555555555555556,\"#d8576b\"],[0.6666666666666666,\"#ed7953\"],[0.7777777777777778,\"#fb9f3a\"],[0.8888888888888888,\"#fdca26\"],[1.0,\"#f0f921\"]],\"sequentialminus\":[[0.0,\"#0d0887\"],[0.1111111111111111,\"#46039f\"],[0.2222222222222222,\"#7201a8\"],[0.3333333333333333,\"#9c179e\"],[0.4444444444444444,\"#bd3786\"],[0.5555555555555556,\"#d8576b\"],[0.6666666666666666,\"#ed7953\"],[0.7777777777777778,\"#fb9f3a\"],[0.8888888888888888,\"#fdca26\"],[1.0,\"#f0f921\"]],\"diverging\":[[0,\"#8e0152\"],[0.1,\"#c51b7d\"],[0.2,\"#de77ae\"],[0.3,\"#f1b6da\"],[0.4,\"#fde0ef\"],[0.5,\"#f7f7f7\"],[0.6,\"#e6f5d0\"],[0.7,\"#b8e186\"],[0.8,\"#7fbc41\"],[0.9,\"#4d9221\"],[1,\"#276419\"]]},\"xaxis\":{\"gridcolor\":\"white\",\"linecolor\":\"white\",\"ticks\":\"\",\"title\":{\"standoff\":15},\"zerolinecolor\":\"white\",\"automargin\":true,\"zerolinewidth\":2},\"yaxis\":{\"gridcolor\":\"white\",\"linecolor\":\"white\",\"ticks\":\"\",\"title\":{\"standoff\":15},\"zerolinecolor\":\"white\",\"automargin\":true,\"zerolinewidth\":2},\"scene\":{\"xaxis\":{\"backgroundcolor\":\"#E5ECF6\",\"gridcolor\":\"white\",\"linecolor\":\"white\",\"showbackground\":true,\"ticks\":\"\",\"zerolinecolor\":\"white\",\"gridwidth\":2},\"yaxis\":{\"backgroundcolor\":\"#E5ECF6\",\"gridcolor\":\"white\",\"linecolor\":\"white\",\"showbackground\":true,\"ticks\":\"\",\"zerolinecolor\":\"white\",\"gridwidth\":2},\"zaxis\":{\"backgroundcolor\":\"#E5ECF6\",\"gridcolor\":\"white\",\"linecolor\":\"white\",\"showbackground\":true,\"ticks\":\"\",\"zerolinecolor\":\"white\",\"gridwidth\":2}},\"shapedefaults\":{\"line\":{\"color\":\"#2a3f5f\"}},\"annotationdefaults\":{\"arrowcolor\":\"#2a3f5f\",\"arrowhead\":0,\"arrowwidth\":1},\"geo\":{\"bgcolor\":\"white\",\"landcolor\":\"#E5ECF6\",\"subunitcolor\":\"white\",\"showland\":true,\"showlakes\":true,\"lakecolor\":\"white\"},\"title\":{\"x\":0.05},\"mapbox\":{\"style\":\"light\"}}},\"xaxis\":{\"anchor\":\"y\",\"domain\":[0.0,0.7363],\"title\":{\"text\":\"Training RMSE\"}},\"yaxis\":{\"anchor\":\"x\",\"domain\":[0.0,0.7326],\"title\":{\"text\":\"Incresed Test RMSE\"}},\"xaxis2\":{\"anchor\":\"y2\",\"domain\":[0.7413,1.0],\"matches\":\"x2\",\"showticklabels\":false,\"showline\":false,\"ticks\":\"\",\"showgrid\":false},\"yaxis2\":{\"anchor\":\"x2\",\"domain\":[0.0,0.7326],\"matches\":\"y\",\"showticklabels\":false,\"showgrid\":true},\"xaxis3\":{\"anchor\":\"y3\",\"domain\":[0.0,0.7363],\"matches\":\"x\",\"showticklabels\":false,\"showgrid\":true},\"yaxis3\":{\"anchor\":\"x3\",\"domain\":[0.7426,1.0],\"matches\":\"y3\",\"showticklabels\":false,\"showline\":false,\"ticks\":\"\",\"showgrid\":false},\"xaxis4\":{\"anchor\":\"y4\",\"domain\":[0.7413,1.0],\"matches\":\"x2\",\"showticklabels\":false,\"showgrid\":false,\"showline\":false,\"ticks\":\"\"},\"yaxis4\":{\"anchor\":\"x4\",\"domain\":[0.7426,1.0],\"matches\":\"y3\",\"showticklabels\":false,\"showline\":false,\"ticks\":\"\",\"showgrid\":true},\"legend\":{\"title\":{\"text\":\"Model\"},\"tracegroupgap\":0},\"margin\":{\"t\":60}},                        {\"responsive\": true}                    ).then(function(){\n",
       "                            \n",
       "var gd = document.getElementById('7ddd578a-3882-472c-9037-2391bbcd1fcc');\n",
       "var x = new MutationObserver(function (mutations, observer) {{\n",
       "        var display = window.getComputedStyle(gd).display;\n",
       "        if (!display || display === 'none') {{\n",
       "            console.log([gd, 'removed!']);\n",
       "            Plotly.purge(gd);\n",
       "            observer.disconnect();\n",
       "        }}\n",
       "}});\n",
       "\n",
       "// Listen for the removal of the full notebook cells\n",
       "var notebookContainer = gd.closest('#notebook-container');\n",
       "if (notebookContainer) {{\n",
       "    x.observe(notebookContainer, {childList: true});\n",
       "}}\n",
       "\n",
       "// Listen for the clearing of the current output cell\n",
       "var outputEl = gd.closest('.output');\n",
       "if (outputEl) {{\n",
       "    x.observe(outputEl, {childList: true});\n",
       "}}\n",
       "\n",
       "                        })                };                });            </script>        </div>"
      ]
     },
     "metadata": {},
     "output_type": "display_data"
    }
   ],
   "source": [
    "px.scatter(pd.DataFrame({'Incresed Test RMSE': (model_3_test_RMSEs-model_4_train_RMSEs).tolist()+\n",
    "                                               (model_4_test_RMSEs-model_4_train_RMSEs).tolist(),\n",
    "                         'Training RMSE': model_3_train_RMSEs.tolist()+model_4_train_RMSEs.tolist(),\n",
    "                         'Model': [\"Model 3\"]*reps+[\"Model 4\"]*reps}),\n",
    "           x='Training RMSE', y='Incresed Test RMSE', color='Model',\n",
    "           marginal_x=\"box\", marginal_y=\"violin\")"
   ]
  },
  {
   "cell_type": "code",
   "execution_count": 81,
   "id": "4d5b6490",
   "metadata": {},
   "outputs": [
    {
     "ename": "KeyError",
     "evalue": "\"None of [Index(['predicts1', 'fsi_category_Alert', 'fsi_category_Warning',\\n       'hdr_hdicode_Medium', 'hdr_region_ECA', 'wbi_income_group_Low_income',\\n       'fsi_category_Alert X predicts1', 'fsi_category_Warning X predicts1',\\n       'hdr_hdicode_Very High X predicts1',\\n       'wbi_income_group_Low income X predicts1'],\\n      dtype='object')] are in the [columns]\"",
     "output_type": "error",
     "traceback": [
      "\u001b[0;31m---------------------------------------------------------------------------\u001b[0m",
      "\u001b[0;31mKeyError\u001b[0m                                  Traceback (most recent call last)",
      "Cell \u001b[0;32mIn[81], line 3\u001b[0m\n\u001b[1;32m      1\u001b[0m \u001b[38;5;28;01mimport\u001b[39;00m \u001b[38;5;21;01mstatsmodels\u001b[39;00m\u001b[38;5;21;01m.\u001b[39;00m\u001b[38;5;21;01mapi\u001b[39;00m \u001b[38;5;28;01mas\u001b[39;00m \u001b[38;5;21;01msm\u001b[39;00m\n\u001b[0;32m----> 3\u001b[0m exogs \u001b[38;5;241m=\u001b[39m \u001b[43mdf\u001b[49m\u001b[43m[\u001b[49m\u001b[43m[\u001b[49m\u001b[38;5;124;43m'\u001b[39;49m\u001b[38;5;124;43mpredicts1\u001b[39;49m\u001b[38;5;124;43m'\u001b[39;49m\u001b[43m,\u001b[49m\u001b[43m \u001b[49m\u001b[38;5;124;43m'\u001b[39;49m\u001b[38;5;124;43mfsi_category_Alert\u001b[39;49m\u001b[38;5;124;43m'\u001b[39;49m\u001b[43m,\u001b[49m\u001b[43m \u001b[49m\u001b[38;5;124;43m'\u001b[39;49m\u001b[38;5;124;43mfsi_category_Warning\u001b[39;49m\u001b[38;5;124;43m'\u001b[39;49m\u001b[43m,\u001b[49m\u001b[43m \u001b[49m\u001b[38;5;124;43m'\u001b[39;49m\u001b[38;5;124;43mhdr_hdicode_Medium\u001b[39;49m\u001b[38;5;124;43m'\u001b[39;49m\u001b[43m,\u001b[49m\u001b[43m \u001b[49m\n\u001b[1;32m      4\u001b[0m \u001b[43m            \u001b[49m\u001b[38;5;124;43m'\u001b[39;49m\u001b[38;5;124;43mhdr_region_ECA\u001b[39;49m\u001b[38;5;124;43m'\u001b[39;49m\u001b[43m,\u001b[49m\u001b[43m \u001b[49m\u001b[38;5;124;43m'\u001b[39;49m\u001b[38;5;124;43mwbi_income_group_Low_income\u001b[39;49m\u001b[38;5;124;43m'\u001b[39;49m\u001b[43m,\u001b[49m\u001b[43m \u001b[49m\n\u001b[1;32m      5\u001b[0m \u001b[43m            \u001b[49m\u001b[38;5;124;43m'\u001b[39;49m\u001b[38;5;124;43mfsi_category_Alert X predicts1\u001b[39;49m\u001b[38;5;124;43m'\u001b[39;49m\u001b[43m,\u001b[49m\u001b[43m \u001b[49m\u001b[38;5;124;43m'\u001b[39;49m\u001b[38;5;124;43mfsi_category_Warning X predicts1\u001b[39;49m\u001b[38;5;124;43m'\u001b[39;49m\u001b[43m,\u001b[49m\u001b[43m \u001b[49m\n\u001b[1;32m      6\u001b[0m \u001b[43m            \u001b[49m\u001b[38;5;124;43m'\u001b[39;49m\u001b[38;5;124;43mhdr_hdicode_Very High X predicts1\u001b[39;49m\u001b[38;5;124;43m'\u001b[39;49m\u001b[43m,\u001b[49m\u001b[43m \u001b[49m\u001b[38;5;124;43m'\u001b[39;49m\u001b[38;5;124;43mwbi_income_group_Low income X predicts1\u001b[39;49m\u001b[38;5;124;43m'\u001b[39;49m\u001b[43m]\u001b[49m\u001b[43m]\u001b[49m\n",
      "File \u001b[0;32m/opt/conda/lib/python3.10/site-packages/pandas/core/frame.py:3813\u001b[0m, in \u001b[0;36mDataFrame.__getitem__\u001b[0;34m(self, key)\u001b[0m\n\u001b[1;32m   3811\u001b[0m     \u001b[38;5;28;01mif\u001b[39;00m is_iterator(key):\n\u001b[1;32m   3812\u001b[0m         key \u001b[38;5;241m=\u001b[39m \u001b[38;5;28mlist\u001b[39m(key)\n\u001b[0;32m-> 3813\u001b[0m     indexer \u001b[38;5;241m=\u001b[39m \u001b[38;5;28;43mself\u001b[39;49m\u001b[38;5;241;43m.\u001b[39;49m\u001b[43mcolumns\u001b[49m\u001b[38;5;241;43m.\u001b[39;49m\u001b[43m_get_indexer_strict\u001b[49m\u001b[43m(\u001b[49m\u001b[43mkey\u001b[49m\u001b[43m,\u001b[49m\u001b[43m \u001b[49m\u001b[38;5;124;43m\"\u001b[39;49m\u001b[38;5;124;43mcolumns\u001b[39;49m\u001b[38;5;124;43m\"\u001b[39;49m\u001b[43m)\u001b[49m[\u001b[38;5;241m1\u001b[39m]\n\u001b[1;32m   3815\u001b[0m \u001b[38;5;66;03m# take() does not accept boolean indexers\u001b[39;00m\n\u001b[1;32m   3816\u001b[0m \u001b[38;5;28;01mif\u001b[39;00m \u001b[38;5;28mgetattr\u001b[39m(indexer, \u001b[38;5;124m\"\u001b[39m\u001b[38;5;124mdtype\u001b[39m\u001b[38;5;124m\"\u001b[39m, \u001b[38;5;28;01mNone\u001b[39;00m) \u001b[38;5;241m==\u001b[39m \u001b[38;5;28mbool\u001b[39m:\n",
      "File \u001b[0;32m/opt/conda/lib/python3.10/site-packages/pandas/core/indexes/base.py:6070\u001b[0m, in \u001b[0;36mIndex._get_indexer_strict\u001b[0;34m(self, key, axis_name)\u001b[0m\n\u001b[1;32m   6067\u001b[0m \u001b[38;5;28;01melse\u001b[39;00m:\n\u001b[1;32m   6068\u001b[0m     keyarr, indexer, new_indexer \u001b[38;5;241m=\u001b[39m \u001b[38;5;28mself\u001b[39m\u001b[38;5;241m.\u001b[39m_reindex_non_unique(keyarr)\n\u001b[0;32m-> 6070\u001b[0m \u001b[38;5;28;43mself\u001b[39;49m\u001b[38;5;241;43m.\u001b[39;49m\u001b[43m_raise_if_missing\u001b[49m\u001b[43m(\u001b[49m\u001b[43mkeyarr\u001b[49m\u001b[43m,\u001b[49m\u001b[43m \u001b[49m\u001b[43mindexer\u001b[49m\u001b[43m,\u001b[49m\u001b[43m \u001b[49m\u001b[43maxis_name\u001b[49m\u001b[43m)\u001b[49m\n\u001b[1;32m   6072\u001b[0m keyarr \u001b[38;5;241m=\u001b[39m \u001b[38;5;28mself\u001b[39m\u001b[38;5;241m.\u001b[39mtake(indexer)\n\u001b[1;32m   6073\u001b[0m \u001b[38;5;28;01mif\u001b[39;00m \u001b[38;5;28misinstance\u001b[39m(key, Index):\n\u001b[1;32m   6074\u001b[0m     \u001b[38;5;66;03m# GH 42790 - Preserve name from an Index\u001b[39;00m\n",
      "File \u001b[0;32m/opt/conda/lib/python3.10/site-packages/pandas/core/indexes/base.py:6130\u001b[0m, in \u001b[0;36mIndex._raise_if_missing\u001b[0;34m(self, key, indexer, axis_name)\u001b[0m\n\u001b[1;32m   6128\u001b[0m     \u001b[38;5;28;01mif\u001b[39;00m use_interval_msg:\n\u001b[1;32m   6129\u001b[0m         key \u001b[38;5;241m=\u001b[39m \u001b[38;5;28mlist\u001b[39m(key)\n\u001b[0;32m-> 6130\u001b[0m     \u001b[38;5;28;01mraise\u001b[39;00m \u001b[38;5;167;01mKeyError\u001b[39;00m(\u001b[38;5;124mf\u001b[39m\u001b[38;5;124m\"\u001b[39m\u001b[38;5;124mNone of [\u001b[39m\u001b[38;5;132;01m{\u001b[39;00mkey\u001b[38;5;132;01m}\u001b[39;00m\u001b[38;5;124m] are in the [\u001b[39m\u001b[38;5;132;01m{\u001b[39;00maxis_name\u001b[38;5;132;01m}\u001b[39;00m\u001b[38;5;124m]\u001b[39m\u001b[38;5;124m\"\u001b[39m)\n\u001b[1;32m   6132\u001b[0m not_found \u001b[38;5;241m=\u001b[39m \u001b[38;5;28mlist\u001b[39m(ensure_index(key)[missing_mask\u001b[38;5;241m.\u001b[39mnonzero()[\u001b[38;5;241m0\u001b[39m]]\u001b[38;5;241m.\u001b[39munique())\n\u001b[1;32m   6133\u001b[0m \u001b[38;5;28;01mraise\u001b[39;00m \u001b[38;5;167;01mKeyError\u001b[39;00m(\u001b[38;5;124mf\u001b[39m\u001b[38;5;124m\"\u001b[39m\u001b[38;5;132;01m{\u001b[39;00mnot_found\u001b[38;5;132;01m}\u001b[39;00m\u001b[38;5;124m not in index\u001b[39m\u001b[38;5;124m\"\u001b[39m)\n",
      "\u001b[0;31mKeyError\u001b[0m: \"None of [Index(['predicts1', 'fsi_category_Alert', 'fsi_category_Warning',\\n       'hdr_hdicode_Medium', 'hdr_region_ECA', 'wbi_income_group_Low_income',\\n       'fsi_category_Alert X predicts1', 'fsi_category_Warning X predicts1',\\n       'hdr_hdicode_Very High X predicts1',\\n       'wbi_income_group_Low income X predicts1'],\\n      dtype='object')] are in the [columns]\""
     ]
    }
   ],
   "source": [
    "import statsmodels.api as sm\n",
    "\n",
    "exogs = df_oh[['predicts1', 'fsi_category_Alert', 'fsi_category_Warning', 'hdr_hdicode_Medium', \n",
    "            'hdr_region_ECA', 'wbi_income_group_Low_income', \n",
    "            'fsi_category_Alert X predicts1', 'fsi_category_Warning X predicts1', \n",
    "            'hdr_hdicode_Very High X predicts1', 'wbi_income_group_Low income X predicts1']]\n",
    "\n"
   ]
  },
  {
   "cell_type": "code",
   "execution_count": null,
   "id": "a4006f53",
   "metadata": {},
   "outputs": [],
   "source": []
  },
  {
   "cell_type": "code",
   "execution_count": null,
   "id": "4a19c6b8",
   "metadata": {},
   "outputs": [],
   "source": []
  }
 ],
 "metadata": {
  "kernelspec": {
   "display_name": "Python 3 (ipykernel)",
   "language": "python",
   "name": "python3"
  },
  "language_info": {
   "codemirror_mode": {
    "name": "ipython",
    "version": 3
   },
   "file_extension": ".py",
   "mimetype": "text/x-python",
   "name": "python",
   "nbconvert_exporter": "python",
   "pygments_lexer": "ipython3",
   "version": "3.10.8"
  }
 },
 "nbformat": 4,
 "nbformat_minor": 5
}
